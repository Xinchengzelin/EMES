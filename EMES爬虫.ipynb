{
 "cells": [
  {
   "cell_type": "code",
   "execution_count": 418,
   "metadata": {
    "collapsed": true
   },
   "outputs": [],
   "source": [
    "import pandas as pd\n",
    "import requests\n",
    "from bs4 import BeautifulSoup\n",
    "from lxml import etree\n",
    "import datetime \n",
    "import json\n",
    "import xmltodict\n",
    "import html\n",
    "import urllib"
   ]
  },
  {
   "cell_type": "markdown",
   "metadata": {},
   "source": [
    "# Message Logbook模块"
   ]
  },
  {
   "cell_type": "code",
   "execution_count": 419,
   "metadata": {
    "collapsed": true
   },
   "outputs": [],
   "source": [
    "#EMES\n",
    "message_logbook_url = \"http://172.30.1.95/webgui.alarm.war/EMES/sc/IDACall?isc_rpc=1&isc_v=v9.1p_2015-02-24&isc_xhr=1\"\n",
    "cookie='JSESSIONID=NMvK-UUn-vuFtixCV2wsOq7P7dEq769kE6PaA9V4.svw-c2sn02001; isc_cState=ready; EMES_SSO=YjYyODY3YmItOWYzNC00M2M3LTgxZDItNTk3Y2JkZDk4YmEy'\n",
    "formdata=\"isc_tnum=25&_transaction=%3Ctransaction%20xmlns%3Axsi%3D%22http%3A%2F%2Fwww.w3.org%2F2000%2F10%2FXMLSchema-instance%22%20xsi%3Atype%3D%22xsd%3AObject%22%3E%3CtransactionNum%20xsi%3Atype%3D%22xsd%3Along%22%3E25%3C%2FtransactionNum%3E%3Coperations%20xsi%3Atype%3D%22xsd%3AList%22%3E%3Celem%20xsi%3Atype%3D%22xsd%3AObject%22%3E%3Ccriteria%20xsi%3Atype%3D%22xsd%3AObject%22%3E%3Coperator%3Eand%3C%2Foperator%3E%3C_constructor%3EAdvancedCriteria%3C%2F_constructor%3E%3Ccriteria%20xsi%3Atype%3D%22xsd%3AList%22%3E%3Celem%20xsi%3Atype%3D%22xsd%3AObject%22%3E%3CfieldName%3ETSBEGIN%3C%2FfieldName%3E%3Coperator%3EgreaterOrEqual%3C%2Foperator%3E%3Cvalue%20xsi%3Atype%3D%22xsd%3Adatetime%22%3E2020-08-18T16%3A00%3A00.000%3C%2Fvalue%3E%3C%2Felem%3E%3Celem%20xsi%3Atype%3D%22xsd%3AObject%22%3E%3CfieldName%3ETSBEGIN%3C%2FfieldName%3E%3Coperator%3ElessOrEqual%3C%2Foperator%3E%3Cvalue%20xsi%3Atype%3D%22xsd%3Adatetime%22%3E2020-08-28T15%3A59%3A00.000%3C%2Fvalue%3E%3C%2Felem%3E%3Celem%20xsi%3Atype%3D%22xsd%3AObject%22%3E%3CfieldName%3ETEXT%3C%2FfieldName%3E%3Coperator%3EiContainsPattern%3C%2Foperator%3E%3Cvalue%3Einvalid%3C%2Fvalue%3E%3C%2Felem%3E%3Celem%20xsi%3Atype%3D%22xsd%3AObject%22%3E%3CfieldName%3EMESSAGEGROUP%3C%2FfieldName%3E%3Coperator%3EinSet%3C%2Foperator%3E%3Cvalue%20xsi%3Atype%3D%22xsd%3AList%22%3E%3Celem%3EFM%3C%2Felem%3E%3C%2Fvalue%3E%3C%2Felem%3E%3Celem%20xsi%3Atype%3D%22xsd%3AObject%22%3E%3CfieldName%3EPLC%3C%2FfieldName%3E%3Coperator%3EinSet%3C%2Foperator%3E%3Cvalue%20xsi%3Atype%3D%22xsd%3AList%22%3E%3Celem%3ELF2911%3C%2Felem%3E%3Celem%3ELF3912%3C%2Felem%3E%3C%2Fvalue%3E%3C%2Felem%3E%3Celem%20xsi%3Atype%3D%22xsd%3AObject%22%3E%3CfieldName%3EFUNCTIONGROUP%3C%2FfieldName%3E%3Coperator%3EiContainsPattern%3C%2Foperator%3E%3Cvalue%3ERB320%3C%2Fvalue%3E%3C%2Felem%3E%3C%2Fcriteria%3E%3C%2Fcriteria%3E%3CoperationConfig%20xsi%3Atype%3D%22xsd%3AObject%22%3E%3CdataSource%3Ealarm_all%3C%2FdataSource%3E%3Crepo%20xsi%3Anil%3D%22true%22%2F%3E%3CoperationType%3Efetch%3C%2FoperationType%3E%3CtextMatchStyle%3Esubstring%3C%2FtextMatchStyle%3E%3C%2FoperationConfig%3E%3CstartRow%20xsi%3Atype%3D%22xsd%3Along%22%3E0%3C%2FstartRow%3E%3CendRow%20xsi%3Atype%3D%22xsd%3Along%22%3E75%3C%2FendRow%3E%3CsortBy%20xsi%3Atype%3D%22xsd%3AList%22%3E%3Celem%3E-TSBEGIN%3C%2Felem%3E%3C%2FsortBy%3E%3CcomponentId%3EALARM_HISTORY_ListGrid%3C%2FcomponentId%3E%3CappID%3EbuiltinApplication%3C%2FappID%3E%3Coperation%3Eref%3Aalarm_all_fetch%3C%2Foperation%3E%3ColdValues%20xsi%3Atype%3D%22xsd%3AObject%22%3E%3Coperator%3Eand%3C%2Foperator%3E%3C_constructor%3EAdvancedCriteria%3C%2F_constructor%3E%3Ccriteria%20xsi%3Atype%3D%22xsd%3AList%22%3E%3Celem%20xsi%3Atype%3D%22xsd%3AObject%22%3E%3CfieldName%3ETSBEGIN%3C%2FfieldName%3E%3Coperator%3EgreaterOrEqual%3C%2Foperator%3E%3Cvalue%20xsi%3Atype%3D%22xsd%3Adatetime%22%3E2020-08-18T16%3A00%3A00.000%3C%2Fvalue%3E%3C%2Felem%3E%3Celem%20xsi%3Atype%3D%22xsd%3AObject%22%3E%3CfieldName%3ETSBEGIN%3C%2FfieldName%3E%3Coperator%3ElessOrEqual%3C%2Foperator%3E%3Cvalue%20xsi%3Atype%3D%22xsd%3Adatetime%22%3E2020-08-28T15%3A59%3A00.000%3C%2Fvalue%3E%3C%2Felem%3E%3Celem%20xsi%3Atype%3D%22xsd%3AObject%22%3E%3CfieldName%3ETEXT%3C%2FfieldName%3E%3Coperator%3EiContainsPattern%3C%2Foperator%3E%3Cvalue%3Einvalid%3C%2Fvalue%3E%3C%2Felem%3E%3Celem%20xsi%3Atype%3D%22xsd%3AObject%22%3E%3CfieldName%3EMESSAGEGROUP%3C%2FfieldName%3E%3Coperator%3EinSet%3C%2Foperator%3E%3Cvalue%20xsi%3Atype%3D%22xsd%3AList%22%3E%3Celem%3EFM%3C%2Felem%3E%3C%2Fvalue%3E%3C%2Felem%3E%3Celem%20xsi%3Atype%3D%22xsd%3AObject%22%3E%3CfieldName%3EPLC%3C%2FfieldName%3E%3Coperator%3EinSet%3C%2Foperator%3E%3Cvalue%20xsi%3Atype%3D%22xsd%3AList%22%3E%3Celem%3ELF2911%3C%2Felem%3E%3Celem%3ELF3912%3C%2Felem%3E%3C%2Fvalue%3E%3C%2Felem%3E%3Celem%20xsi%3Atype%3D%22xsd%3AObject%22%3E%3CfieldName%3EFUNCTIONGROUP%3C%2FfieldName%3E%3Coperator%3EiContainsPattern%3C%2Foperator%3E%3Cvalue%3ERB320%3C%2Fvalue%3E%3C%2Felem%3E%3C%2Fcriteria%3E%3C%2FoldValues%3E%3C%2Felem%3E%3C%2Foperations%3E%3C%2Ftransaction%3E&protocolVersion=1.0\"\n",
    "def Getdata(url,formdata):\n",
    "    headers={\n",
    "        'Accept-Encoding': 'gzip, deflate',\n",
    "        'Accept-Language': 'en-US,en;q=0.9,zh-CN;q=0.8,zh;q=0.7,de-DE;q=0.6,de;q=0.5,en-AU;q=0.4',\n",
    "        'Connection': 'keep-alive',\n",
    "        'Content-Length': '3537',\n",
    "        'Content-Type': 'application/x-www-form-urlencoded; charset=UTF-8',\n",
    "        'Host':'172.30.1.95',\n",
    "        'Origin': 'http://172.30.1.95',\n",
    "        'Referer': 'http://172.30.1.95/webgui.alarm.war/?startup=ALARM_HISTORY&profile=1707633&locale=en_US',\n",
    "        'User-Agent':'Mozilla/5.0 (Windows NT 6.1; Win64; x64) AppleWebKit/537.36 (KHTML, like Gecko) Chrome/84.0.4147.135 Safari/537.36',\n",
    "    }\n",
    "#     requestdata=formdata_clean(formdata)\n",
    "    requestdata= formdata\n",
    "    cookies=coo_regular(cookie)\n",
    "    print(cookies)\n",
    "    res=requests.post(url,headers=headers,cookies=cookies,data=requestdata) #,params={'search_text':'python','cat':'1001'} \n",
    "    return res\n",
    "def formdata_clean(formdata):\n",
    "    requestJSONdata=formdata\n",
    "    requestJSONdata=str(requestJSONdata).replace(\"+\", \"%2B\")\n",
    "    requestdata=requestJSONdata.encode(\"utf-8\")\n",
    "    return requestdata\n",
    "def coo_regular(cookie):\n",
    "    coo={}\n",
    "    for item in cookie.split(';'):\n",
    "        k,v=item.split('=',1)\n",
    "        coo[k.strip()]=v.replace('\"','')\n",
    "    return coo\n",
    "def xml_to_dict(xml):\n",
    "    return eval(json.dumps(xmltodict.parse(xml)))\n",
    "def dict_to_xml(dic):\n",
    "    return xmltodict.unparse(dic).split(\"\\n\")[1]\n",
    "def str_to_xml(s):#url to xml\n",
    "    #”%2F”表示斜杠”/” ,%3A-\":\" ,%3D-\"=\",%22-\"\"\",%20-\" \"\n",
    "    return urllib.parse.unquote_plus(s, encoding='utf-8')#, errors='replace'\n",
    "def xml_to_str(xml):\n",
    "#     print(type(xml.encode(encoding = \"utf-8\")))\n",
    "    return xml.encode(encoding = \"utf-8\")\n"
   ]
  },
  {
   "cell_type": "code",
   "execution_count": 464,
   "metadata": {},
   "outputs": [],
   "source": [
    "begin_start='2020-09-12T00:00:00.000'\n",
    "begin_end='2020-09-13T23:59:00.000'\n",
    "text = 'invalid free'\n",
    "PLC = [\"LF2911\",\"LF3912\"]#可根据需要添加\n",
    "FunctionGroup = \"RB320\"#只能写1个\n",
    "\n",
    "def modify_messagelog_params(transaction,begin_start=None,begin_end=None,text=None,PLC=None,FunctionGroup=None):\n",
    "    a=transaction['transaction']['operations'][\"elem\"][\"criteria\"][\"criteria\"][\"elem\"]\n",
    "    dic={}\n",
    "    for k,v in zip([\"begin_start\",\"begin_end\",\"text\",\"MESSAGEGROUP\",\"PLC\",\"FunctionGroup\"],a):\n",
    "        dic[k] = v\n",
    "    del dic[\"MESSAGEGROUP\"]    \n",
    "    try:\n",
    "        if begin_start:\n",
    "            # 解决8小时时区偏差\n",
    "            begin_start = (datetime.datetime.strptime(begin_start,\"%Y-%m-%dT%H:%M:%S.000\")- datetime.timedelta(hours=8)).strftime(\"%Y-%m-%dT%H:%M:%S.000\")\n",
    "            dic[\"begin_start\"]['value']['#text']=begin_start\n",
    "        else:\n",
    "            del dic[\"begin_start\"]\n",
    "        if begin_end:\n",
    "            begin_end = (datetime.datetime.strptime(begin_end,\"%Y-%m-%dT%H:%M:%S.000\")- datetime.timedelta(hours=8)).strftime(\"%Y-%m-%dT%H:%M:%S.000\")\n",
    "            dic[\"begin_end\"]['value']['#text']=begin_end\n",
    "        else:\n",
    "            del dic[\"begin_end\"]\n",
    "        if text:\n",
    "            dic[\"text\"]['value']=text\n",
    "        else:\n",
    "            del dic[\"text\"]\n",
    "        if PLC:\n",
    "            if len(PLC)>=2:\n",
    "                dic[\"PLC\"]['value']['elem']=PLC\n",
    "            else:\n",
    "                dic[\"PLC\"]['value']=PLC\n",
    "        else:\n",
    "            del dic[\"PLC\"]\n",
    "        if FunctionGroup:\n",
    "            dic[\"FunctionGroup\"]['value']=FunctionGroup\n",
    "        else:\n",
    "            del dic[\"FunctionGroup\"]\n",
    "        transaction['transaction']['operations'][\"elem\"][\"criteria\"][\"criteria\"][\"elem\"]=list(dic.values())\n",
    "        print(transaction['transaction']['operations'][\"elem\"]['startRow'][\"#text\"],transaction)\n",
    "    except:\n",
    "        print(\"Parameters not found, modify fail!\")\n",
    "    return xml_to_str(dict_to_xml(transaction))\n"
   ]
  },
  {
   "cell_type": "code",
   "execution_count": 465,
   "metadata": {},
   "outputs": [
    {
     "name": "stdout",
     "output_type": "stream",
     "text": [
      "0 {'transaction': {'@xmlns:xsi': 'http://www.w3.org/2000/10/XMLSchema-instance', '@xsi:type': 'xsd:Object', 'transactionNum': {'@xsi:type': 'xsd:long', '#text': '25'}, 'operations': {'@xsi:type': 'xsd:List', 'elem': {'@xsi:type': 'xsd:Object', 'criteria': {'@xsi:type': 'xsd:Object', 'operator': 'and', '_constructor': 'AdvancedCriteria', 'criteria': {'@xsi:type': 'xsd:List', 'elem': [{'@xsi:type': 'xsd:Object', 'fieldName': 'TSBEGIN', 'operator': 'greaterOrEqual', 'value': {'@xsi:type': 'xsd:datetime', '#text': '2020-09-11T16:00:00.000'}}, {'@xsi:type': 'xsd:Object', 'fieldName': 'TSBEGIN', 'operator': 'lessOrEqual', 'value': {'@xsi:type': 'xsd:datetime', '#text': '2020-09-13T15:59:00.000'}}]}}, 'operationConfig': {'@xsi:type': 'xsd:Object', 'dataSource': 'alarm_all', 'repo': {'@xsi:nil': 'true'}, 'operationType': 'fetch', 'textMatchStyle': 'substring'}, 'startRow': {'@xsi:type': 'xsd:long', '#text': '0'}, 'endRow': {'@xsi:type': 'xsd:long', '#text': '75'}, 'sortBy': {'@xsi:type': 'xsd:List', 'elem': '-TSBEGIN'}, 'componentId': 'ALARM_HISTORY_ListGrid', 'appID': 'builtinApplication', 'operation': 'ref:alarm_all_fetch', 'oldValues': {'@xsi:type': 'xsd:Object', 'operator': 'and', '_constructor': 'AdvancedCriteria', 'criteria': {'@xsi:type': 'xsd:List', 'elem': [{'@xsi:type': 'xsd:Object', 'fieldName': 'TSBEGIN', 'operator': 'greaterOrEqual', 'value': {'@xsi:type': 'xsd:datetime', '#text': '2020-08-18T16:00:00.000'}}, {'@xsi:type': 'xsd:Object', 'fieldName': 'TSBEGIN', 'operator': 'lessOrEqual', 'value': {'@xsi:type': 'xsd:datetime', '#text': '2020-08-28T15:59:00.000'}}, {'@xsi:type': 'xsd:Object', 'fieldName': 'TEXT', 'operator': 'iContainsPattern', 'value': 'invalid'}, {'@xsi:type': 'xsd:Object', 'fieldName': 'MESSAGEGROUP', 'operator': 'inSet', 'value': {'@xsi:type': 'xsd:List', 'elem': 'FM'}}, {'@xsi:type': 'xsd:Object', 'fieldName': 'PLC', 'operator': 'inSet', 'value': {'@xsi:type': 'xsd:List', 'elem': ['LF2911', 'LF3912']}}, {'@xsi:type': 'xsd:Object', 'fieldName': 'FUNCTIONGROUP', 'operator': 'iContainsPattern', 'value': 'RB320'}]}}}}}}\n",
      "{'JSESSIONID': 'NMvK-UUn-vuFtixCV2wsOq7P7dEq769kE6PaA9V4.svw-c2sn02001', 'isc_cState': 'ready', 'EMES_SSO': 'YjYyODY3YmItOWYzNC00M2M3LTgxZDItNTk3Y2JkZDk4YmEy'}\n"
     ]
    }
   ],
   "source": [
    "# transaction = xml_to_str(dict_to_xml(xml_to_dict(str_to_xml(formdata.split(\"&\")[1]).split(\"=\",1)[1])))\n",
    "transaction = xml_to_dict(str_to_xml(formdata.split(\"&\")[1]).split(\"=\",1)[1])\n",
    "data = modify_messagelog_params(transaction,begin_start=begin_start,begin_end=begin_end,text=None,PLC=None,FunctionGroup=None)#根据参数需求调用\n",
    "form_data={\n",
    "    'isc_tnum': 25,#好像这个值无所谓\n",
    "    '_transaction': data,\n",
    "    'protocolVersion': '1.0'\n",
    "}\n",
    "res=Getdata(message_logbook_url,form_data)"
   ]
  },
  {
   "cell_type": "code",
   "execution_count": 448,
   "metadata": {},
   "outputs": [
    {
     "data": {
      "text/plain": [
       "'//isc_RPCResponseStart-->[{affectedRows:0,data:[{CONSOLEAREA:\"-\",ACTIVE:true,ISWARNING:2,PLCNAME:\"CC booth, intermediate oven line 1\",PLC:\"LV2511\",ESTOPAREA:\"-\",TEXT:\"Signal\",DEVICENOTRELEVANT:false,FUNCTIONGROUPDESCRIPTION:\"Air supply expansion hose open\",RECORDID:160066300,PANELAREA:\"S04\",FUNCTIONGROUP:\"PN001_BE1\",MESSAGETYPE:\"-\",ADDRESS:\"DB1352.DBX2.0\",VARIABLE_NAME:\"LV2511:States.S04.PN001_BE1.Ok.Value\",TSBEGIN:new Date(1599966756515),MESSAGEGROUP:\"SM\",INTERVALBEGIN_ID:\"Night Shift\"},{CONSOLEAREA:\"-\",ACTIVE:true,ISWARNING:2,PLCNAME:\"BC booth line 1\",PLC:\"LV2411\",ESTOPAREA:\"-\",TEXT:\"Bellow open\",DEVICENOTRELEVANT:false,FUNCTIONGROUPDESCRIPTION:\"Air supply expansion hose open\",RECORDID:160066299,PANELAREA:\"S07\",FUNCTIONGROUP:\"PN003_BE1\",MESSAGETYPE:\"-\",ADDRESS:\"DB1845.DBX2.0\",VARIABLE_NAME:\"LV2411:States.S07.PN003_BE1.Ok.Value\",TSBEGIN:new Date(1599966755674),MESSAGEGROUP:\"SM\",INTERVALBEGIN_ID:\"Night Shift\"},{CONSOLEAREA:\"-\",ACTIVE:true,ISWARNING:2,PLCNAME:\"BC booth line 1\",PLC:\"LV2411\",ESTOPAREA:\"-\",TEXT:\"Bellow open\",DEVICENOTRELEVANT:false,FUNCTIONGROUPDESCRIPTION:\"Air supply expansion hose open\",RECORDID:160066298,PANELAREA:\"S07\",FUNCTIONGROUP:\"PN001_BE1\",MESSAGETYPE:\"-\",ADDRESS:\"DB1825.DBX2.0\",VARIABLE_NAME:\"LV2411:States.S07.PN001_BE1.Ok.Value\",TSBEGIN:new Date(1599966754052),MESSAGEGROUP:\"SM\",INTERVALBEGIN_ID:\"Night Shift\"},{CONSOLEAREA:\"-\",ACTIVE:true,ISWARNING:2,PLCNAME:\"BC booth line 2\",PLC:\"LV3412\",ESTOPAREA:\"-\",TEXT:\"Bellow closed\",DEVICENOTRELEVANT:false,FUNCTIONGROUPDESCRIPTION:\"Air supply expansion hose closed\",RECORDID:160066297,PANELAREA:\"S07\",FUNCTIONGROUP:\"PN002_BE2\",MESSAGETYPE:\"-\",ADDRESS:\"DB1836.DBX2.0\",VARIABLE_NAME:\"LV3412:States.S07.PN002_BE2.Ok.Value\",TSBEGIN:new Date(1599966754052),MESSAGEGROUP:\"SM\",INTERVALBEGIN_ID:\"Night Shift\"},{CONSOLEAREA:\"-\",ACTIVE:false,ISWARNING:2,PLCNAME:\"BC booth line 1\",PLC:\"LV2411\",ESTOPAREA:\"-\",INTERVALEND_ID:\"Night Shift\",TEXT:\"Bellow open\",DEVICENOTRELEVANT:false,FUNCTIONGROUPDESCRIPTION:\"Air supply expansion hose open\",RECORDID:160066296,PANELAREA:\"S07\",FUNCTIONGROUP:\"PN002_BE1\",MESSAGETYPE:\"-\",ADDRESS:\"DB1835.DBX2.0\",VARIABLE_NAME:\"LV2411:States.S07.PN002_BE1.Ok.Value\",TSBEGIN:new Date(1599966752011),TSEND:new Date(1599966756120),DURATION:\"000 00:00:04\",MESSAGEGROUP:\"SM\",INTERVALBEGIN_ID:\"Night Shift\"},{CONSOLEAREA:\"-\",ACTIVE:false,ISWARNING:2,PLCNAME:\"BC booth line 2\",PLC:\"LV3412\",ESTOPAREA:\"-\",INTERVALEND_ID:\"Night Shift\",TEXT:\"Bellow open\",DEVICENOTRELEVANT:false,FUNCTIONGROUPDESCRIPTION:\"Air supply expansion hose open\",RECORDID:160066295,PANELAREA:\"S07\",FUNCTIONGROUP:\"PN001_BE1\",MESSAGETYPE:\"-\",ADDRESS:\"DB1825.DBX2.0\",VARIABLE_NAME:\"LV3412:States.S07.PN001_BE1.Ok.Value\",TSBEGIN:new Date(1599966749848),TSEND:new Date(1599966754023),DURATION:\"000 00:00:04\",MESSAGEGROUP:\"SM\",INTERVALBEGIN_ID:\"Night Shift\"},{CONSOLEAREA:\"-\",ACTIVE:false,ISWARNING:2,PLCNAME:\"CC booth, intermediate oven line 2\",PLC:\"LV3512\",ESTOPAREA:\"-\",INTERVALEND_ID:\"Night Shift\",TEXT:\"Signal\",DEVICENOTRELEVANT:false,FUNCTIONGROUPDESCRIPTION:\"Air supply expansion hose closed\",RECORDID:160066294,PANELAREA:\"S04\",FUNCTIONGROUP:\"PN001_BE2\",MESSAGETYPE:\"-\",ADDRESS:\"DB1353.DBX2.0\",VARIABLE_NAME:\"LV3512:States.S04.PN001_BE2.Ok.Value\",TSBEGIN:new Date(1599966749004),TSEND:new Date(1599966756642),DURATION:\"000 00:00:07\",MESSAGEGROUP:\"SM\",INTERVALBEGIN_ID:\"Night Shift\"},{CONSOLEAREA:\"-\",ACTIVE:false,ISWARNING:2,PLCNAME:\"CC booth, intermediate oven line 2\",PLC:\"LV3512\",ESTOPAREA:\"-\",INTERVALEND_ID:\"Night Shift\",TEXT:\"Signal\",DEVICENOTRELEVANT:false,FUNCTIONGROUPDESCRIPTION:\"Air supply expansion hose closed\",RECORDID:160066293,PANELAREA:\"S04\",FUNCTIONGROUP:\"PN002_BE2\",MESSAGETYPE:\"-\",ADDRESS:\"DB1413.DBX2.0\",VARIABLE_NAME:\"LV3512:States.S04.PN002_BE2.Ok.Value\",TSBEGIN:new Date(1599966747609),TSEND:new Date(1599966752769),DURATION:\"000 00:00:05\",MESSAGEGROUP:\"SM\",INTERVALBEGIN_ID:\"Night Shift\"},{CONSOLEAREA:\"-\",ACTIVE:false,ISWARNING:2,PLCNAME:\"CC booth, intermediate oven line 1\",PLC:\"LV2511\",ESTOPAREA:\"-\",INTERVALEND_ID:\"Night Shift\",TEXT:\"Signal\",DEVICENOTRELEVANT:false,FUNCTIONGROUPDESCRIPTION:\"Air supply expansion hose closed\",RECORDID:160066292,PANELAREA:\"S04\",FUNCTIONGROUP:\"PN002_BE2\",MESSAGETYPE:\"-\",ADDRESS:\"DB1413.DBX2.0\",VARIABLE_NAME:\"LV2511:States.S04.PN002_BE2.Ok.Value\",TSBEGIN:new Date(1599966745437),TSEND:new Date(1599966749478),DURATION:\"000 00:00:04\",MESSAGEGROUP:\"SM\",INTERVALBEGIN_ID:\"Night Shift\"},{CONSOLEAREA:\"-\",ACTIVE:false,ISWARNING:2,PLCNAME:\"BC booth line 2\",PLC:\"LV3412\",ESTOPAREA:\"-\",INTERVALEND_ID:\"Night Shift\",TEXT:\"Bellow closed\",DEVICENOTRELEVANT:false,FUNCTIONGROUPDESCRIPTION:\"Air supply expansion hose closed\",RECORDID:160066291,PANELAREA:\"S07\",FUNCTIONGROUP:\"PN004_BE2\",MESSAGETYPE:\"-\",ADDRESS:\"DB1856.DBX2.0\",VARIABLE_NAME:\"LV3412:States.S07.PN004_BE2.Ok.Value\",TSBEGIN:new Date(1599966743860),TSEND:new Date(1599966749848),DURATION:\"000 00:00:05\",MESSAGEGROUP:\"SM\",INTERVALBEGIN_ID:\"Night Shift\"},{CONSOLEAREA:\"-\",ACTIVE:false,ISWARNING:2,PLCNAME:\"BC booth line 2\",PLC:\"LV3412\",ESTOPAREA:\"-\",INTERVALEND_ID:\"Night Shift\",TEXT:\"Bellow open\",DEVICENOTRELEVANT:false,FUNCTIONGROUPDESCRIPTION:\"Air supply expansion hose open\",RECORDID:160066290,PANELAREA:\"S07\",FUNCTIONGROUP:\"PN003_BE1\",MESSAGETYPE:\"-\",ADDRESS:\"DB1845.DBX2.0\",VARIABLE_NAME:\"LV3412:States.S07.PN003_BE1.Ok.Value\",TSBEGIN:new Date(1599966743860),TSEND:new Date(1599966749848),DURATION:\"000 00:00:05\",MESSAGEGROUP:\"SM\",INTERVALBEGIN_ID:\"Night Shift\"},{CONSOLEAREA:\"-\",ACTIVE:false,ISWARNING:2,PLCNAME:\"BC booth line 1\",PLC:\"LV2411\",ESTOPAREA:\"-\",INTERVALEND_ID:\"Night Shift\",TEXT:\"Bellow open\",DEVICENOTRELEVANT:false,FUNCTIONGROUPDESCRIPTION:\"Air supply expansion hose open\",RECORDID:160066289,PANELAREA:\"S07\",FUNCTIONGROUP:\"PN004_BE1\",MESSAGETYPE:\"-\",ADDRESS:\"DB1855.DBX2.0\",VARIABLE_NAME:\"LV2411:States.S07.PN004_BE1.Ok.Value\",TSBEGIN:new Date(1599966743280),TSEND:new Date(1599966753609),DURATION:\"000 00:00:10\",MESSAGEGROUP:\"SM\",INTERVALBEGIN_ID:\"Night Shift\"},{CONSOLEAREA:\"-\",ACTIVE:false,ISWARNING:2,PLCNAME:\"CC booth, intermediate oven line 1\",PLC:\"LV2511\",ESTOPAREA:\"-\",INTERVALEND_ID:\"Night Shift\",TEXT:\"Signal\",DEVICENOTRELEVANT:false,FUNCTIONGROUPDESCRIPTION:\"Air supply expansion hose closed\",RECORDID:160066288,PANELAREA:\"S04\",FUNCTIONGROUP:\"PN001_BE2\",MESSAGETYPE:\"-\",ADDRESS:\"DB1353.DBX2.0\",VARIABLE_NAME:\"LV2511:States.S04.PN001_BE2.Ok.Value\",TSBEGIN:new Date(1599966740142),TSEND:new Date(1599966746077),DURATION:\"000 00:00:05\",MESSAGEGROUP:\"SM\",INTERVALBEGIN_ID:\"Night Shift\"},{CONSOLEAREA:\"-\",ACTIVE:false,ISWARNING:2,PLCNAME:\"BC booth line 1\",PLC:\"LV2411\",ESTOPAREA:\"-\",INTERVALEND_ID:\"Night Shift\",TEXT:\"Bellow closed\",DEVICENOTRELEVANT:false,FUNCTIONGROUPDESCRIPTION:\"Air supply expansion hose closed\",RECORDID:160066287,PANELAREA:\"S07\",FUNCTIONGROUP:\"PN001_BE2\",MESSAGETYPE:\"-\",ADDRESS:\"DB1826.DBX2.0\",VARIABLE_NAME:\"LV2411:States.S07.PN001_BE2.Ok.Value\",TSBEGIN:new Date(1599966739913),TSEND:new Date(1599966743931),DURATION:\"000 00:00:04\",MESSAGEGROUP:\"SM\",INTERVALBEGIN_ID:\"Night Shift\"},{CONSOLEAREA:\"-\",ACTIVE:false,ISWARNING:2,PLCNAME:\"BC booth line 1\",PLC:\"LV2411\",ESTOPAREA:\"-\",INTERVALEND_ID:\"Night Shift\",TEXT:\"Bellow closed\",DEVICENOTRELEVANT:false,FUNCTIONGROUPDESCRIPTION:\"Air supply expansion hose closed\",RECORDID:160066286,PANELAREA:\"S07\",FUNCTIONGROUP:\"PN003_BE2\",MESSAGETYPE:\"-\",ADDRESS:\"DB1846.DBX2.0\",VARIABLE_NAME:\"LV2411:States.S07.PN003_BE2.Ok.Value\",TSBEGIN:new Date(1599966739336),TSEND:new Date(1599966745237),DURATION:\"000 00:00:05\",MESSAGEGROUP:\"SM\",INTERVALBEGIN_ID:\"Night Shift\"},{CONSOLEAREA:\"-\",ACTIVE:false,ISWARNING:2,PLCNAME:\"BC booth line 2\",PLC:\"LV3412\",ESTOPAREA:\"-\",INTERVALEND_ID:\"Night Shift\",TEXT:\"Bellow open\",DEVICENOTRELEVANT:false,FUNCTIONGROUPDESCRIPTION:\"Air supply expansion hose open\",RECORDID:160066285,PANELAREA:\"S07\",FUNCTIONGROUP:\"PN002_BE1\",MESSAGETYPE:\"-\",ADDRESS:\"DB1835.DBX2.0\",VARIABLE_NAME:\"LV3412:States.S07.PN002_BE1.Ok.Value\",TSBEGIN:new Date(1599966737746),TSEND:new Date(1599966743796),DURATION:\"000 00:00:06\",MESSAGEGROUP:\"SM\",INTERVALBEGIN_ID:\"Night Shift\"},{CONSOLEAREA:\"-\",ACTIVE:false,ISWARNING:2,PLCNAME:\"BC booth line 2\",PLC:\"LV3412\",ESTOPAREA:\"-\",INTERVALEND_ID:\"Night Shift\",TEXT:\"Bellow closed\",DEVICENOTRELEVANT:false,FUNCTIONGROUPDESCRIPTION:\"Air supply expansion hose closed\",RECORDID:160066284,PANELAREA:\"S07\",FUNCTIONGROUP:\"PN001_BE2\",MESSAGETYPE:\"-\",ADDRESS:\"DB1826.DBX2.0\",VARIABLE_NAME:\"LV3412:States.S07.PN001_BE2.Ok.Value\",TSBEGIN:new Date(1599966735735),TSEND:new Date(1599966737746),DURATION:\"000 00:00:02\",MESSAGEGROUP:\"SM\",INTERVALBEGIN_ID:\"Night Shift\"},{CONSOLEAREA:\"-\",ACTIVE:false,ISWARNING:2,PLCNAME:\"CC booth, intermediate oven line 2\",PLC:\"LV3512\",ESTOPAREA:\"-\",INTERVALEND_ID:\"Night Shift\",TEXT:\"Signal\",DEVICENOTRELEVANT:false,FUNCTIONGROUPDESCRIPTION:\"Air supply expansion hose open\",RECORDID:160066283,PANELAREA:\"S04\",FUNCTIONGROUP:\"PN001_BE1\",MESSAGETYPE:\"-\",ADDRESS:\"DB1352.DBX2.0\",VARIABLE_NAME:\"LV3512:States.S04.PN001_BE1.Ok.Value\",TSBEGIN:new Date(1599966734817),TSEND:new Date(1599966739505),DURATION:\"000 00:00:04\",MESSAGEGROUP:\"SM\",INTERVALBEGIN_ID:\"Night Shift\"},{CONSOLEAREA:\"-\",ACTIVE:false,ISWARNING:2,PLCNAME:\"BC booth line 1\",PLC:\"LV2411\",ESTOPAREA:\"-\",INTERVALEND_ID:\"Night Shift\",TEXT:\"Bellow closed\",DEVICENOTRELEVANT:false,FUNCTIONGROUPDESCRIPTION:\"Air supply expansion hose closed\",RECORDID:160066282,PANELAREA:\"S07\",FUNCTIONGROUP:\"PN002_BE2\",MESSAGETYPE:\"-\",ADDRESS:\"DB1836.DBX2.0\",VARIABLE_NAME:\"LV2411:States.S07.PN002_BE2.Ok.Value\",TSBEGIN:new Date(1599966733138),TSEND:new Date(1599966739336),DURATION:\"000 00:00:06\",MESSAGEGROUP:\"SM\",INTERVALBEGIN_ID:\"Night Shift\"},{CONSOLEAREA:\"-\",ACTIVE:false,ISWARNING:2,PLCNAME:\"CC booth, intermediate oven line 2\",PLC:\"LV3512\",ESTOPAREA:\"-\",INTERVALEND_ID:\"Night Shift\",TEXT:\"Signal\",DEVICENOTRELEVANT:false,FUNCTIONGROUPDESCRIPTION:\"Air supply expansion hose open\",RECORDID:160066281,PANELAREA:\"S04\",FUNCTIONGROUP:\"PN002_BE1\",MESSAGETYPE:\"-\",ADDRESS:\"DB1412.DBX2.0\",VARIABLE_NAME:\"LV3512:States.S04.PN002_BE1.Ok.Value\",TSBEGIN:new Date(1599966731043),TSEND:new Date(1599966735801),DURATION:\"000 00:00:04\",MESSAGEGROUP:\"SM\",INTERVALBEGIN_ID:\"Night Shift\"},{CONSOLEAREA:\"-\",ACTIVE:false,ISWARNING:2,PLCNAME:\"BC booth line 2\",PLC:\"LV3412\",ESTOPAREA:\"-\",INTERVALEND_ID:\"Night Shift\",TEXT:\"Bellow closed\",DEVICENOTRELEVANT:false,FUNCTIONGROUPDESCRIPTION:\"Air supply expansion hose closed\",RECORDID:160066280,PANELAREA:\"S07\",FUNCTIONGROUP:\"PN003_BE2\",MESSAGETYPE:\"-\",ADDRESS:\"DB1846.DBX2.0\",VARIABLE_NAME:\"LV3412:States.S07.PN003_BE2.Ok.Value\",TSBEGIN:new Date(1599966729753),TSEND:new Date(1599966733788),DURATION:\"000 00:00:04\",MESSAGEGROUP:\"SM\",INTERVALBEGIN_ID:\"Night Shift\"},{CONSOLEAREA:\"-\",ACTIVE:false,ISWARNING:2,PLCNAME:\"CC booth, intermediate oven line 1\",PLC:\"LV2511\",ESTOPAREA:\"-\",INTERVALEND_ID:\"Night Shift\",TEXT:\"Signal\",DEVICENOTRELEVANT:false,FUNCTIONGROUPDESCRIPTION:\"Air supply expansion hose open\",RECORDID:160066279,PANELAREA:\"S04\",FUNCTIONGROUP:\"PN002_BE1\",MESSAGETYPE:\"-\",ADDRESS:\"DB1412.DBX2.0\",VARIABLE_NAME:\"LV2511:States.S04.PN002_BE1.Ok.Value\",TSBEGIN:new Date(1599966729345),TSEND:new Date(1599966733389),DURATION:\"000 00:00:04\",MESSAGEGROUP:\"SM\",INTERVALBEGIN_ID:\"Night Shift\"},{CONSOLEAREA:\"-\",ACTIVE:false,ISWARNING:2,PLCNAME:\"BC booth line 1\",PLC:\"LV2411\",ESTOPAREA:\"-\",INTERVALEND_ID:\"Night Shift\",TEXT:\"Bellow closed\",DEVICENOTRELEVANT:false,FUNCTIONGROUPDESCRIPTION:\"Air supply expansion hose closed\",RECORDID:160066278,PANELAREA:\"S07\",FUNCTIONGROUP:\"PN004_BE2\",MESSAGETYPE:\"-\",ADDRESS:\"DB1856.DBX2.0\",VARIABLE_NAME:\"LV2411:States.S07.PN004_BE2.Ok.Value\",TSBEGIN:new Date(1599966729183),TSEND:new Date(1599966733138),DURATION:\"000 00:00:03\",MESSAGEGROUP:\"SM\",INTERVALBEGIN_ID:\"Night Shift\"},{CONSOLEAREA:\"-\",ACTIVE:false,ISWARNING:2,PLCNAME:\"BC booth line 2\",PLC:\"LV3412\",ESTOPAREA:\"-\",INTERVALEND_ID:\"Night Shift\",TEXT:\"Bellow open\",DEVICENOTRELEVANT:false,FUNCTIONGROUPDESCRIPTION:\"Air supply expansion hose open\",RECORDID:160066277,PANELAREA:\"S07\",FUNCTIONGROUP:\"PN004_BE1\",MESSAGETYPE:\"-\",ADDRESS:\"DB1855.DBX2.0\",VARIABLE_NAME:\"LV3412:States.S07.PN004_BE1.Ok.Value\",TSBEGIN:new Date(1599966727696),TSEND:new Date(1599966733788),DURATION:\"000 00:00:06\",MESSAGEGROUP:\"SM\",INTERVALBEGIN_ID:\"Night Shift\"},{CONSOLEAREA:\"-\",ACTIVE:false,ISWARNING:2,PLCNAME:\"BC booth line 1\",PLC:\"LV2411\",ESTOPAREA:\"-\",INTERVALEND_ID:\"Night Shift\",TEXT:\"Bellow open\",DEVICENOTRELEVANT:false,FUNCTIONGROUPDESCRIPTION:\"Air supply expansion hose open\",RECORDID:160066276,PANELAREA:\"S07\",FUNCTIONGROUP:\"PN001_BE1\",MESSAGETYPE:\"-\",ADDRESS:\"DB1825.DBX2.0\",VARIABLE_NAME:\"LV2411:States.S07.PN001_BE1.Ok.Value\",TSBEGIN:new Date(1599966723675),TSEND:new Date(1599966727707),DURATION:\"000 00:00:04\",MESSAGEGROUP:\"SM\",INTERVALBEGIN_ID:\"Night Shift\"},{CONSOLEAREA:\"-\",ACTIVE:false,ISWARNING:2,PLCNAME:\"CC booth, intermediate oven line 1\",PLC:\"LV2511\",ESTOPAREA:\"-\",INTERVALEND_ID:\"Night Shift\",TEXT:\"Signal\",DEVICENOTRELEVANT:false,FUNCTIONGROUPDESCRIPTION:\"Air supply expansion hose open\",RECORDID:160066275,PANELAREA:\"S04\",FUNCTIONGROUP:\"PN001_BE1\",MESSAGETYPE:\"-\",ADDRESS:\"DB1352.DBX2.0\",VARIABLE_NAME:\"LV2511:States.S04.PN001_BE1.Ok.Value\",TSBEGIN:new Date(1599966723670),TSEND:new Date(1599966727924),DURATION:\"000 00:00:04\",MESSAGEGROUP:\"SM\",INTERVALBEGIN_ID:\"Night Shift\"},{CONSOLEAREA:\"-\",ACTIVE:false,ISWARNING:2,PLCNAME:\"BC booth line 1\",PLC:\"LV2411\",ESTOPAREA:\"-\",INTERVALEND_ID:\"Night Shift\",TEXT:\"Bellow open\",DEVICENOTRELEVANT:false,FUNCTIONGROUPDESCRIPTION:\"Air supply expansion hose open\",RECORDID:160066274,PANELAREA:\"S07\",FUNCTIONGROUP:\"PN003_BE1\",MESSAGETYPE:\"-\",ADDRESS:\"DB1845.DBX2.0\",VARIABLE_NAME:\"LV2411:States.S07.PN003_BE1.Ok.Value\",TSBEGIN:new Date(1599966722914),TSEND:new Date(1599966729183),DURATION:\"000 00:00:06\",MESSAGEGROUP:\"SM\",INTERVALBEGIN_ID:\"Night Shift\"},{CONSOLEAREA:\"-\",ACTIVE:false,ISWARNING:2,PLCNAME:\"BC booth line 2\",PLC:\"LV3412\",ESTOPAREA:\"-\",INTERVALEND_ID:\"Night Shift\",TEXT:\"Bellow closed\",DEVICENOTRELEVANT:false,FUNCTIONGROUPDESCRIPTION:\"Air supply expansion hose closed\",RECORDID:160066273,PANELAREA:\"S07\",FUNCTIONGROUP:\"PN002_BE2\",MESSAGETYPE:\"-\",ADDRESS:\"DB1836.DBX2.0\",VARIABLE_NAME:\"LV3412:States.S07.PN002_BE2.Ok.Value\",TSBEGIN:new Date(1599966721650),TSEND:new Date(1599966725660),DURATION:\"000 00:00:04\",MESSAGEGROUP:\"SM\",INTERVALBEGIN_ID:\"Night Shift\"},{CONSOLEAREA:\"-\",ACTIVE:false,ISWARNING:2,PLCNAME:\"BC booth line 2\",PLC:\"LV3412\",ESTOPAREA:\"-\",INTERVALEND_ID:\"Night Shift\",TEXT:\"Bellow open\",DEVICENOTRELEVANT:false,FUNCTIONGROUPDESCRIPTION:\"Air supply expansion hose open\",RECORDID:160066272,PANELAREA:\"S07\",FUNCTIONGROUP:\"PN001_BE1\",MESSAGETYPE:\"-\",ADDRESS:\"DB1825.DBX2.0\",VARIABLE_NAME:\"LV3412:States.S07.PN001_BE1.Ok.Value\",TSBEGIN:new Date(1599966721649),TSEND:new Date(1599966725659),DURATION:\"000 00:00:04\",MESSAGEGROUP:\"SM\",INTERVALBEGIN_ID:\"Night Shift\"},{CONSOLEAREA:\"-\",ACTIVE:false,ISWARNING:2,PLCNAME:\"CC booth, intermediate oven line 2\",PLC:\"LV3512\",ESTOPAREA:\"-\",INTERVALEND_ID:\"Night Shift\",TEXT:\"Signal\",DEVICENOTRELEVANT:false,FUNCTIONGROUPDESCRIPTION:\"Air supply expansion hose closed\",RECORDID:160066271,PANELAREA:\"S04\",FUNCTIONGROUP:\"PN001_BE2\",MESSAGETYPE:\"-\",ADDRESS:\"DB1353.DBX2.0\",VARIABLE_NAME:\"LV3512:States.S04.PN001_BE2.Ok.Value\",TSBEGIN:new Date(1599966717589),TSEND:new Date(1599966722469),DURATION:\"000 00:00:04\",MESSAGEGROUP:\"SM\",INTERVALBEGIN_ID:\"Night Shift\"},{CONSOLEAREA:\"-\",ACTIVE:false,ISWARNING:2,PLCNAME:\"BC booth line 1\",PLC:\"LV2411\",ESTOPAREA:\"-\",INTERVALEND_ID:\"Night Shift\",TEXT:\"Bellow open\",DEVICENOTRELEVANT:false,FUNCTIONGROUPDESCRIPTION:\"Air supply expansion hose open\",RECORDID:160066270,PANELAREA:\"S07\",FUNCTIONGROUP:\"PN002_BE1\",MESSAGETYPE:\"-\",ADDRESS:\"DB1835.DBX2.0\",VARIABLE_NAME:\"LV2411:States.S07.PN002_BE1.Ok.Value\",TSBEGIN:new Date(1599966715681),TSEND:new Date(1599966721661),DURATION:\"000 00:00:05\",MESSAGEGROUP:\"SM\",INTERVALBEGIN_ID:\"Night Shift\"},{CONSOLEAREA:\"-\",ACTIVE:false,ISWARNING:2,PLCNAME:\"CC booth, intermediate oven line 2\",PLC:\"LV3512\",ESTOPAREA:\"-\",INTERVALEND_ID:\"Night Shift\",TEXT:\"Signal\",DEVICENOTRELEVANT:false,FUNCTIONGROUPDESCRIPTION:\"Air supply expansion hose closed\",RECORDID:160066269,PANELAREA:\"S04\",FUNCTIONGROUP:\"PN002_BE2\",MESSAGETYPE:\"-\",ADDRESS:\"DB1413.DBX2.0\",VARIABLE_NAME:\"LV3512:States.S04.PN002_BE2.Ok.Value\",TSBEGIN:new Date(1599966713887),TSEND:new Date(1599966721063),DURATION:\"000 00:00:07\",MESSAGEGROUP:\"SM\",INTERVALBEGIN_ID:\"Night Shift\"},{CONSOLEAREA:\"-\",ACTIVE:false,ISWARNING:2,PLCNAME:\"BC booth line 2\",PLC:\"LV3412\",ESTOPAREA:\"-\",INTERVALEND_ID:\"Night Shift\",TEXT:\"Bellow open\",DEVICENOTRELEVANT:false,FUNCTIONGROUPDESCRIPTION:\"Air supply expansion hose open\",RECORDID:160066268,PANELAREA:\"S07\",FUNCTIONGROUP:\"PN003_BE1\",MESSAGETYPE:\"-\",ADDRESS:\"DB1845.DBX2.0\",VARIABLE_NAME:\"LV3412:States.S07.PN003_BE1.Ok.Value\",TSBEGIN:new Date(1599966713678),TSEND:new Date(1599966719691),DURATION:\"000 00:00:06\",MESSAGEGROUP:\"SM\",INTERVALBEGIN_ID:\"Night Shift\"},{CONSOLEAREA:\"-\",ACTIVE:false,ISWARNING:2,PLCNAME:\"CC booth, intermediate oven line 1\",PLC:\"LV2511\",ESTOPAREA:\"-\",INTERVALEND_ID:\"Night Shift\",TEXT:\"Signal\",DEVICENOTRELEVANT:false,FUNCTIONGROUPDESCRIPTION:\"Air supply expansion hose closed\",RECORDID:160066267,PANELAREA:\"S04\",FUNCTIONGROUP:\"PN002_BE2\",MESSAGETYPE:\"-\",ADDRESS:\"DB1413.DBX2.0\",VARIABLE_NAME:\"LV2511:States.S04.PN002_BE2.Ok.Value\",TSBEGIN:new Date(1599966712854),TSEND:new Date(1599966716902),DURATION:\"000 00:00:04\",MESSAGEGROUP:\"SM\",INTERVALBEGIN_ID:\"Night Shift\"},{CONSOLEAREA:\"-\",ACTIVE:false,ISWARNING:2,PLCNAME:\"BC booth line 2\",PLC:\"LV3412\",ESTOPAREA:\"-\",INTERVALEND_ID:\"Night Shift\",TEXT:\"Bellow closed\",DEVICENOTRELEVANT:false,FUNCTIONGROUPDESCRIPTION:\"Air supply expansion hose closed\",RECORDID:160066266,PANELAREA:\"S07\",FUNCTIONGROUP:\"PN004_BE2\",MESSAGETYPE:\"-\",ADDRESS:\"DB1856.DBX2.0\",VARIABLE_NAME:\"LV3412:States.S07.PN004_BE2.Ok.Value\",TSBEGIN:new Date(1599966711641),TSEND:new Date(1599966715673),DURATION:\"000 00:00:04\",MESSAGEGROUP:\"SM\",INTERVALBEGIN_ID:\"Night Shift\"},{CONSOLEAREA:\"-\",ACTIVE:false,ISWARNING:2,PLCNAME:\"BC booth line 2\",PLC:\"LV3412\",ESTOPAREA:\"-\",INTERVALEND_ID:\"Night Shift\",TEXT:\"Bellow closed\",DEVICENOTRELEVANT:false,FUNCTIONGROUPDESCRIPTION:\"Air supply expansion hose closed\",RECORDID:160066265,PANELAREA:\"S07\",FUNCTIONGROUP:\"PN001_BE2\",MESSAGETYPE:\"-\",ADDRESS:\"DB1826.DBX2.0\",VARIABLE_NAME:\"LV3412:States.S07.PN001_BE2.Ok.Value\",TSBEGIN:new Date(1599966709655),TSEND:new Date(1599966711640),DURATION:\"000 00:00:01\",MESSAGEGROUP:\"SM\",INTERVALBEGIN_ID:\"Night Shift\"},{CONSOLEAREA:\"-\",ACTIVE:false,ISWARNING:2,PLCNAME:\"BC booth line 1\",PLC:\"LV2411\",ESTOPAREA:\"-\",INTERVALEND_ID:\"Night Shift\",TEXT:\"Bellow open\",DEVICENOTRELEVANT:false,FUNCTIONGROUPDESCRIPTION:\"Air supply expansion hose open\",RECORDID:160066264,PANELAREA:\"S07\",FUNCTIONGROUP:\"PN004_BE1\",MESSAGETYPE:\"-\",ADDRESS:\"DB1855.DBX2.0\",VARIABLE_NAME:\"LV2411:States.S07.PN004_BE1.Ok.Value\",TSBEGIN:new Date(1599966708973),TSEND:new Date(1599966718937),DURATION:\"000 00:00:09\",MESSAGEGROUP:\"SM\",INTERVALBEGIN_ID:\"Night Shift\"},{CONSOLEAREA:\"-\",ACTIVE:false,ISWARNING:2,PLCNAME:\"BC booth line 1\",PLC:\"LV2411\",ESTOPAREA:\"-\",INTERVALEND_ID:\"Night Shift\",TEXT:\"Bellow closed\",DEVICENOTRELEVANT:false,FUNCTIONGROUPDESCRIPTION:\"Air supply expansion hose closed\",RECORDID:160066263,PANELAREA:\"S07\",FUNCTIONGROUP:\"PN001_BE2\",MESSAGETYPE:\"-\",ADDRESS:\"DB1826.DBX2.0\",VARIABLE_NAME:\"LV2411:States.S07.PN001_BE2.Ok.Value\",TSBEGIN:new Date(1599966707558),TSEND:new Date(1599966713649),DURATION:\"000 00:00:06\",MESSAGEGROUP:\"SM\",INTERVALBEGIN_ID:\"Night Shift\"},{CONSOLEAREA:\"-\",ACTIVE:false,ISWARNING:2,PLCNAME:\"BC booth line 1\",PLC:\"LV2411\",ESTOPAREA:\"-\",INTERVALEND_ID:\"Night Shift\",TEXT:\"Bellow closed\",DEVICENOTRELEVANT:false,FUNCTIONGROUPDESCRIPTION:\"Air supply expansion hose closed\",RECORDID:160066262,PANELAREA:\"S07\",FUNCTIONGROUP:\"PN003_BE2\",MESSAGETYPE:\"-\",ADDRESS:\"DB1846.DBX2.0\",VARIABLE_NAME:\"LV2411:States.S07.PN003_BE2.Ok.Value\",TSBEGIN:new Date(1599966706972),TSEND:new Date(1599966712930),DURATION:\"000 00:00:05\",MESSAGEGROUP:\"SM\",INTERVALBEGIN_ID:\"Night Shift\"},{CONSOLEAREA:\"-\",ACTIVE:false,ISWARNING:2,PLCNAME:\"CC booth, intermediate oven line 1\",PLC:\"LV2511\",ESTOPAREA:\"-\",INTERVALEND_ID:\"Night Shift\",TEXT:\"Signal\",DEVICENOTRELEVANT:false,FUNCTIONGROUPDESCRIPTION:\"Air supply expansion hose closed\",RECORDID:160066261,PANELAREA:\"S04\",FUNCTIONGROUP:\"PN001_BE2\",MESSAGETYPE:\"-\",ADDRESS:\"DB1353.DBX2.0\",VARIABLE_NAME:\"LV2511:States.S04.PN001_BE2.Ok.Value\",TSBEGIN:new Date(1599966705632),TSEND:new Date(1599966709655),DURATION:\"000 00:00:04\",MESSAGEGROUP:\"SM\",INTERVALBEGIN_ID:\"Night Shift\"},{CONSOLEAREA:\"-\",ACTIVE:false,ISWARNING:2,PLCNAME:\"BC booth line 2\",PLC:\"LV3412\",ESTOPAREA:\"-\",INTERVALEND_ID:\"Night Shift\",TEXT:\"Bellow open\",DEVICENOTRELEVANT:false,FUNCTIONGROUPDESCRIPTION:\"Air supply expansion hose open\",RECORDID:160066260,PANELAREA:\"S07\",FUNCTIONGROUP:\"PN002_BE1\",MESSAGETYPE:\"-\",ADDRESS:\"DB1835.DBX2.0\",VARIABLE_NAME:\"LV3412:States.S07.PN002_BE1.Ok.Value\",TSBEGIN:new Date(1599966705534),TSEND:new Date(1599966709655),DURATION:\"000 00:00:04\",MESSAGEGROUP:\"SM\",INTERVALBEGIN_ID:\"Night Shift\"},{CONSOLEAREA:\"-\",ACTIVE:false,ISWARNING:2,PLCNAME:\"BC booth line 1\",PLC:\"LV2411\",ESTOPAREA:\"-\",INTERVALEND_ID:\"Night Shift\",TEXT:\"Bellow closed\",DEVICENOTRELEVANT:false,FUNCTIONGROUPDESCRIPTION:\"Air supply expansion hose closed\",RECORDID:160066259,PANELAREA:\"S07\",FUNCTIONGROUP:\"PN002_BE2\",MESSAGETYPE:\"-\",ADDRESS:\"DB1836.DBX2.0\",VARIABLE_NAME:\"LV2411:States.S07.PN002_BE2.Ok.Value\",TSBEGIN:new Date(1599966700930),TSEND:new Date(1599966704986),DURATION:\"000 00:00:04\",MESSAGEGROUP:\"SM\",INTERVALBEGIN_ID:\"Night Shift\"},{CONSOLEAREA:\"-\",ACTIVE:false,ISWARNING:2,PLCNAME:\"CC booth, intermediate oven line 2\",PLC:\"LV3512\",ESTOPAREA:\"-\",INTERVALEND_ID:\"Night Shift\",TEXT:\"Signal\",DEVICENOTRELEVANT:false,FUNCTIONGROUPDESCRIPTION:\"Air supply expansion hose open\",RECORDID:160066258,PANELAREA:\"S04\",FUNCTIONGROUP:\"PN002_BE1\",MESSAGETYPE:\"-\",ADDRESS:\"DB1412.DBX2.0\",VARIABLE_NAME:\"LV3512:States.S04.PN002_BE1.Ok.Value\",TSBEGIN:new Date(1599966699632),TSEND:new Date(1599966704369),DURATION:\"000 00:00:04\",MESSAGEGROUP:\"SM\",INTERVALBEGIN_ID:\"Night Shift\"},{CONSOLEAREA:\"-\",ACTIVE:false,ISWARNING:2,PLCNAME:\"CC booth, intermediate oven line 1\",PLC:\"LV2511\",ESTOPAREA:\"-\",INTERVALEND_ID:\"Night Shift\",TEXT:\"Signal\",DEVICENOTRELEVANT:false,FUNCTIONGROUPDESCRIPTION:\"Air supply expansion hose open\",RECORDID:160066257,PANELAREA:\"S04\",FUNCTIONGROUP:\"PN002_BE1\",MESSAGETYPE:\"-\",ADDRESS:\"DB1412.DBX2.0\",VARIABLE_NAME:\"LV2511:States.S04.PN002_BE1.Ok.Value\",TSBEGIN:new Date(1599966698779),TSEND:new Date(1599966702755),DURATION:\"000 00:00:03\",MESSAGEGROUP:\"SM\",INTERVALBEGIN_ID:\"Night Shift\"},{CONSOLEAREA:\"-\",ACTIVE:false,ISWARNING:2,PLCNAME:\"CC booth, intermediate oven line 2\",PLC:\"LV3512\",ESTOPAREA:\"-\",INTERVALEND_ID:\"Night Shift\",TEXT:\"Signal\",DEVICENOTRELEVANT:false,FUNCTIONGROUPDESCRIPTION:\"Air supply expansion hose open\",RECORDID:160066256,PANELAREA:\"S04\",FUNCTIONGROUP:\"PN001_BE1\",MESSAGETYPE:\"-\",ADDRESS:\"DB1352.DBX2.0\",VARIABLE_NAME:\"LV3512:States.S04.PN001_BE1.Ok.Value\",TSBEGIN:new Date(1599966698531),TSEND:new Date(1599966705750),DURATION:\"000 00:00:07\",MESSAGEGROUP:\"SM\",INTERVALBEGIN_ID:\"Night Shift\"},{CONSOLEAREA:\"-\",ACTIVE:false,ISWARNING:2,PLCNAME:\"BC booth line 2\",PLC:\"LV3412\",ESTOPAREA:\"-\",INTERVALEND_ID:\"Night Shift\",TEXT:\"Bellow closed\",DEVICENOTRELEVANT:false,FUNCTIONGROUPDESCRIPTION:\"Air supply expansion hose closed\",RECORDID:160066255,PANELAREA:\"S07\",FUNCTIONGROUP:\"PN003_BE2\",MESSAGETYPE:\"-\",ADDRESS:\"DB1846.DBX2.0\",VARIABLE_NAME:\"LV3412:States.S07.PN003_BE2.Ok.Value\",TSBEGIN:new Date(1599966697513),TSEND:new Date(1599966703619),DURATION:\"000 00:00:06\",MESSAGEGROUP:\"SM\",INTERVALBEGIN_ID:\"Night Shift\"},{CONSOLEAREA:\"-\",ACTIVE:false,ISWARNING:2,PLCNAME:\"BC booth line 2\",PLC:\"LV3412\",ESTOPAREA:\"-\",INTERVALEND_ID:\"Night Shift\",TEXT:\"Bellow open\",DEVICENOTRELEVANT:false,FUNCTIONGROUPDESCRIPTION:\"Air supply expansion hose open\",RECORDID:160066254,PANELAREA:\"S07\",FUNCTIONGROUP:\"PN004_BE1\",MESSAGETYPE:\"-\",ADDRESS:\"DB1855.DBX2.0\",VARIABLE_NAME:\"LV3412:States.S07.PN004_BE1.Ok.Value\",TSBEGIN:new Date(1599966695502),TSEND:new Date(1599966699614),DURATION:\"000 00:00:04\",MESSAGEGROUP:\"SM\",INTERVALBEGIN_ID:\"Night Shift\"},{CONSOLEAREA:\"-\",ACTIVE:false,ISWARNING:2,PLCNAME:\"BC booth line 1\",PLC:\"LV2411\",ESTOPAREA:\"-\",INTERVALEND_ID:\"Night Shift\",TEXT:\"Bellow closed\",DEVICENOTRELEVANT:false,FUNCTIONGROUPDESCRIPTION:\"Air supply expansion hose closed\",RECORDID:160066253,PANELAREA:\"S07\",FUNCTIONGROUP:\"PN004_BE2\",MESSAGETYPE:\"-\",ADDRESS:\"DB1856.DBX2.0\",VARIABLE_NAME:\"LV2411:States.S07.PN004_BE2.Ok.Value\",TSBEGIN:new Date(1599966694674),TSEND:new Date(1599966698967),DURATION:\"000 00:00:04\",MESSAGEGROUP:\"SM\",INTERVALBEGIN_ID:\"Night Shift\"},{CONSOLEAREA:\"-\",ACTIVE:false,ISWARNING:2,PLCNAME:\"BC booth line 2\",PLC:\"LV3412\",ESTOPAREA:\"-\",INTERVALEND_ID:\"Night Shift\",TEXT:\"Bellow open\",DEVICENOTRELEVANT:false,FUNCTIONGROUPDESCRIPTION:\"Air supply expansion hose open\",RECORDID:160066252,PANELAREA:\"S07\",FUNCTIONGROUP:\"PN001_BE1\",MESSAGETYPE:\"-\",ADDRESS:\"DB1825.DBX2.0\",VARIABLE_NAME:\"LV3412:States.S07.PN001_BE1.Ok.Value\",TSBEGIN:new Date(1599966693492),TSEND:new Date(1599966699561),DURATION:\"000 00:00:06\",MESSAGEGROUP:\"SM\",INTERVALBEGIN_ID:\"Night Shift\"},{CONSOLEAREA:\"-\",ACTIVE:false,ISWARNING:2,PLCNAME:\"BC booth line 1\",PLC:\"LV2411\",ESTOPAREA:\"-\",INTERVALEND_ID:\"Night Shift\",TEXT:\"Bellow open\",DEVICENOTRELEVANT:false,FUNCTIONGROUPDESCRIPTION:\"Air supply expansion hose open\",RECORDID:160066251,PANELAREA:\"S07\",FUNCTIONGROUP:\"PN001_BE1\",MESSAGETYPE:\"-\",ADDRESS:\"DB1825.DBX2.0\",VARIABLE_NAME:\"LV2411:States.S07.PN001_BE1.Ok.Value\",TSBEGIN:new Date(1599966691449),TSEND:new Date(1599966697499),DURATION:\"000 00:00:06\",MESSAGEGROUP:\"SM\",INTERVALBEGIN_ID:\"Night Shift\"},{CONSOLEAREA:\"-\",ACTIVE:false,ISWARNING:2,PLCNAME:\"BC booth line 1\",PLC:\"LV2411\",ESTOPAREA:\"-\",INTERVALEND_ID:\"Night Shift\",TEXT:\"Bellow open\",DEVICENOTRELEVANT:false,FUNCTIONGROUPDESCRIPTION:\"Air supply expansion hose open\",RECORDID:160066250,PANELAREA:\"S07\",FUNCTIONGROUP:\"PN003_BE1\",MESSAGETYPE:\"-\",ADDRESS:\"DB1845.DBX2.0\",VARIABLE_NAME:\"LV2411:States.S07.PN003_BE1.Ok.Value\",TSBEGIN:new Date(1599966690742),TSEND:new Date(1599966694674),DURATION:\"000 00:00:03\",MESSAGEGROUP:\"SM\",INTERVALBEGIN_ID:\"Night Shift\"},{CONSOLEAREA:\"-\",ACTIVE:false,ISWARNING:2,PLCNAME:\"BC booth line 2\",PLC:\"LV3412\",ESTOPAREA:\"-\",INTERVALEND_ID:\"Night Shift\",TEXT:\"Bellow closed\",DEVICENOTRELEVANT:false,FUNCTIONGROUPDESCRIPTION:\"Air supply expansion hose closed\",RECORDID:160066249,PANELAREA:\"S07\",FUNCTIONGROUP:\"PN002_BE2\",MESSAGETYPE:\"-\",ADDRESS:\"DB1836.DBX2.0\",VARIABLE_NAME:\"LV3412:States.S07.PN002_BE2.Ok.Value\",TSBEGIN:new Date(1599966687528),TSEND:new Date(1599966693508),DURATION:\"000 00:00:05\",MESSAGEGROUP:\"SM\",INTERVALBEGIN_ID:\"Night Shift\"},{CONSOLEAREA:\"-\",ACTIVE:false,ISWARNING:2,PLCNAME:\"CC booth, intermediate oven line 1\",PLC:\"LV2511\",ESTOPAREA:\"-\",INTERVALEND_ID:\"Night Shift\",TEXT:\"Signal\",DEVICENOTRELEVANT:false,FUNCTIONGROUPDESCRIPTION:\"Air supply expansion hose open\",RECORDID:160066248,PANELAREA:\"S04\",FUNCTIONGROUP:\"PN001_BE1\",MESSAGETYPE:\"-\",ADDRESS:\"DB1352.DBX2.0\",VARIABLE_NAME:\"LV2511:States.S04.PN001_BE1.Ok.Value\",TSBEGIN:new Date(1599966687247),TSEND:new Date(1599966693244),DURATION:\"000 00:00:05\",MESSAGEGROUP:\"SM\",INTERVALBEGIN_ID:\"Night Shift\"},{CONSOLEAREA:\"-\",ACTIVE:false,ISWARNING:2,PLCNAME:\"CC booth, intermediate oven line 2\",PLC:\"LV3512\",ESTOPAREA:\"-\",INTERVALEND_ID:\"Night Shift\",TEXT:\"Signal\",DEVICENOTRELEVANT:false,FUNCTIONGROUPDESCRIPTION:\"Air supply expansion hose closed\",RECORDID:160066247,PANELAREA:\"S04\",FUNCTIONGROUP:\"PN001_BE2\",MESSAGETYPE:\"-\",ADDRESS:\"DB1353.DBX2.0\",VARIABLE_NAME:\"LV3512:States.S04.PN001_BE2.Ok.Value\",TSBEGIN:new Date(1599966683999),TSEND:new Date(1599966688746),DURATION:\"000 00:00:04\",MESSAGEGROUP:\"SM\",INTERVALBEGIN_ID:\"Night Shift\"},{CONSOLEAREA:\"-\",ACTIVE:false,ISWARNING:2,PLCNAME:\"BC booth line 2\",PLC:\"LV3412\",ESTOPAREA:\"-\",INTERVALEND_ID:\"Night Shift\",TEXT:\"Bellow open\",DEVICENOTRELEVANT:false,FUNCTIONGROUPDESCRIPTION:\"Air supply expansion hose open\",RECORDID:160066246,PANELAREA:\"S07\",FUNCTIONGROUP:\"PN003_BE1\",MESSAGETYPE:\"-\",ADDRESS:\"DB1845.DBX2.0\",VARIABLE_NAME:\"LV3412:States.S07.PN003_BE1.Ok.Value\",TSBEGIN:new Date(1599966683483),TSEND:new Date(1599966689487),DURATION:\"000 00:00:06\",MESSAGEGROUP:\"SM\",INTERVALBEGIN_ID:\"Night Shift\"},{CONSOLEAREA:\"-\",ACTIVE:false,ISWARNING:2,PLCNAME:\"BC booth line 1\",PLC:\"LV2411\",ESTOPAREA:\"-\",INTERVALEND_ID:\"Night Shift\",TEXT:\"Bellow open\",DEVICENOTRELEVANT:false,FUNCTIONGROUPDESCRIPTION:\"Air supply expansion hose open\",RECORDID:160066245,PANELAREA:\"S07\",FUNCTIONGROUP:\"PN002_BE1\",MESSAGETYPE:\"-\",ADDRESS:\"DB1835.DBX2.0\",VARIABLE_NAME:\"LV2411:States.S07.PN002_BE1.Ok.Value\",TSBEGIN:new Date(1599966683427),TSEND:new Date(1599966687477),DURATION:\"000 00:00:04\",MESSAGEGROUP:\"SM\",INTERVALBEGIN_ID:\"Night Shift\"},{CONSOLEAREA:\"-\",ACTIVE:false,ISWARNING:2,PLCNAME:\"CC booth, intermediate oven line 2\",PLC:\"LV3512\",ESTOPAREA:\"-\",INTERVALEND_ID:\"Night Shift\",TEXT:\"Signal\",DEVICENOTRELEVANT:false,FUNCTIONGROUPDESCRIPTION:\"Air supply expansion hose closed\",RECORDID:160066244,PANELAREA:\"S04\",FUNCTIONGROUP:\"PN002_BE2\",MESSAGETYPE:\"-\",ADDRESS:\"DB1413.DBX2.0\",VARIABLE_NAME:\"LV3512:States.S04.PN002_BE2.Ok.Value\",TSBEGIN:new Date(1599966682656),TSEND:new Date(1599966689742),DURATION:\"000 00:00:07\",MESSAGEGROUP:\"SM\",INTERVALBEGIN_ID:\"Night Shift\"},{CONSOLEAREA:\"-\",ACTIVE:false,ISWARNING:2,PLCNAME:\"CC booth, intermediate oven line 1\",PLC:\"LV2511\",ESTOPAREA:\"-\",INTERVALEND_ID:\"Night Shift\",TEXT:\"Signal\",DEVICENOTRELEVANT:false,FUNCTIONGROUPDESCRIPTION:\"Air supply expansion hose closed\",RECORDID:160066243,PANELAREA:\"S04\",FUNCTIONGROUP:\"PN002_BE2\",MESSAGETYPE:\"-\",ADDRESS:\"DB1413.DBX2.0\",VARIABLE_NAME:\"LV2511:States.S04.PN002_BE2.Ok.Value\",TSBEGIN:new Date(1599966682402),TSEND:new Date(1599966686497),DURATION:\"000 00:00:04\",MESSAGEGROUP:\"SM\",INTERVALBEGIN_ID:\"Night Shift\"},{CONSOLEAREA:\"-\",ACTIVE:false,ISWARNING:2,PLCNAME:\"BC booth line 2\",PLC:\"LV3412\",ESTOPAREA:\"-\",INTERVALEND_ID:\"Night Shift\",TEXT:\"Bellow closed\",DEVICENOTRELEVANT:false,FUNCTIONGROUPDESCRIPTION:\"Air supply expansion hose closed\",RECORDID:160066242,PANELAREA:\"S07\",FUNCTIONGROUP:\"PN001_BE2\",MESSAGETYPE:\"-\",ADDRESS:\"DB1826.DBX2.0\",VARIABLE_NAME:\"LV3412:States.S07.PN001_BE2.Ok.Value\",TSBEGIN:new Date(1599966681481),TSEND:new Date(1599966683482),DURATION:\"000 00:00:02\",MESSAGEGROUP:\"SM\",INTERVALBEGIN_ID:\"Night Shift\"},{CONSOLEAREA:\"-\",ACTIVE:false,ISWARNING:2,PLCNAME:\"BC booth line 2\",PLC:\"LV3412\",ESTOPAREA:\"-\",INTERVALEND_ID:\"Night Shift\",TEXT:\"Bellow closed\",DEVICENOTRELEVANT:false,FUNCTIONGROUPDESCRIPTION:\"Air supply expansion hose closed\",RECORDID:160066241,PANELAREA:\"S07\",FUNCTIONGROUP:\"PN004_BE2\",MESSAGETYPE:\"-\",ADDRESS:\"DB1856.DBX2.0\",VARIABLE_NAME:\"LV3412:States.S07.PN004_BE2.Ok.Value\",TSBEGIN:new Date(1599966677492),TSEND:new Date(1599966683483),DURATION:\"000 00:00:05\",MESSAGEGROUP:\"SM\",INTERVALBEGIN_ID:\"Night Shift\"},{CONSOLEAREA:\"-\",ACTIVE:false,ISWARNING:2,PLCNAME:\"BC booth line 1\",PLC:\"LV2411\",ESTOPAREA:\"-\",INTERVALEND_ID:\"Night Shift\",TEXT:\"Bellow closed\",DEVICENOTRELEVANT:false,FUNCTIONGROUPDESCRIPTION:\"Air supply expansion hose closed\",RECORDID:160066240,PANELAREA:\"S07\",FUNCTIONGROUP:\"PN001_BE2\",MESSAGETYPE:\"-\",ADDRESS:\"DB1826.DBX2.0\",VARIABLE_NAME:\"LV2411:States.S07.PN001_BE2.Ok.Value\",TSBEGIN:new Date(1599966675423),TSEND:new Date(1599966679506),DURATION:\"000 00:00:04\",MESSAGEGROUP:\"SM\",INTERVALBEGIN_ID:\"Night Shift\"},{CONSOLEAREA:\"-\",ACTIVE:false,ISWARNING:2,PLCNAME:\"BC booth line 1\",PLC:\"LV2411\",ESTOPAREA:\"-\",INTERVALEND_ID:\"Night Shift\",TEXT:\"Bellow closed\",DEVICENOTRELEVANT:false,FUNCTIONGROUPDESCRIPTION:\"Air supply expansion hose closed\",RECORDID:160066238,PANELAREA:\"S07\",FUNCTIONGROUP:\"PN003_BE2\",MESSAGETYPE:\"-\",ADDRESS:\"DB1846.DBX2.0\",VARIABLE_NAME:\"LV2411:States.S07.PN003_BE2.Ok.Value\",TSBEGIN:new Date(1599966674643),TSEND:new Date(1599966678768),DURATION:\"000 00:00:04\",MESSAGEGROUP:\"SM\",INTERVALBEGIN_ID:\"Night Shift\"},{CONSOLEAREA:\"-\",ACTIVE:false,ISWARNING:2,PLCNAME:\"BC booth line 1\",PLC:\"LV2411\",ESTOPAREA:\"-\",INTERVALEND_ID:\"Night Shift\",TEXT:\"Bellow open\",DEVICENOTRELEVANT:false,FUNCTIONGROUPDESCRIPTION:\"Air supply expansion hose open\",RECORDID:160066239,PANELAREA:\"S07\",FUNCTIONGROUP:\"PN004_BE1\",MESSAGETYPE:\"-\",ADDRESS:\"DB1855.DBX2.0\",VARIABLE_NAME:\"LV2411:States.S07.PN004_BE1.Ok.Value\",TSBEGIN:new Date(1599966674643),TSEND:new Date(1599966684718),DURATION:\"000 00:00:10\",MESSAGEGROUP:\"SM\",INTERVALBEGIN_ID:\"Night Shift\"},{CONSOLEAREA:\"-\",ACTIVE:false,ISWARNING:2,PLCNAME:\"Electrodip coating\",PLC:\"LV1211\",ESTOPAREA:\"-\",INTERVALEND_ID:\"Night Shift\",TEXT:\"Level ok\",DEVICENOTRELEVANT:true,FUNCTIONGROUPDESCRIPTION:\"Filling Level Min. Sensor\",RECORDID:160066237,PANELAREA:\"S06\",FUNCTIONGROUP:\"PR810_BN22\",MESSAGETYPE:\"-\",ADDRESS:\"DB1922.DBX2.0\",VARIABLE_NAME:\"LV1211:States.S06.PR810_BN22.Ok.Value\",TSBEGIN:new Date(1599966673535),TSEND:new Date(1599966686281),DURATION:\"000 00:00:12\",MESSAGEGROUP:\"SM\",INTERVALBEGIN_ID:\"Night Shift\"},{CONSOLEAREA:\"-\",ACTIVE:false,ISWARNING:2,PLCNAME:\"BC booth line 2\",PLC:\"LV3412\",ESTOPAREA:\"-\",INTERVALEND_ID:\"Night Shift\",TEXT:\"Bellow open\",DEVICENOTRELEVANT:false,FUNCTIONGROUPDESCRIPTION:\"Air supply expansion hose open\",RECORDID:160066236,PANELAREA:\"S07\",FUNCTIONGROUP:\"PN002_BE1\",MESSAGETYPE:\"-\",ADDRESS:\"DB1835.DBX2.0\",VARIABLE_NAME:\"LV3412:States.S07.PN002_BE1.Ok.Value\",TSBEGIN:new Date(1599966671171),TSEND:new Date(1599966677477),DURATION:\"000 00:00:06\",MESSAGEGROUP:\"SM\",INTERVALBEGIN_ID:\"Night Shift\"},{CONSOLEAREA:\"-\",ACTIVE:false,ISWARNING:2,PLCNAME:\"CC booth, intermediate oven line 1\",PLC:\"LV2511\",ESTOPAREA:\"-\",INTERVALEND_ID:\"Night Shift\",TEXT:\"Signal\",DEVICENOTRELEVANT:false,FUNCTIONGROUPDESCRIPTION:\"Air supply expansion hose closed\",RECORDID:160066235,PANELAREA:\"S04\",FUNCTIONGROUP:\"PN001_BE2\",MESSAGETYPE:\"-\",ADDRESS:\"DB1353.DBX2.0\",VARIABLE_NAME:\"LV2511:States.S04.PN001_BE2.Ok.Value\",TSBEGIN:new Date(1599966670844),TSEND:new Date(1599966677155),DURATION:\"000 00:00:06\",MESSAGEGROUP:\"SM\",INTERVALBEGIN_ID:\"Night Shift\"},{CONSOLEAREA:\"-\",ACTIVE:false,ISWARNING:2,PLCNAME:\"CC booth, intermediate oven line 2\",PLC:\"LV3512\",ESTOPAREA:\"-\",INTERVALEND_ID:\"Night Shift\",TEXT:\"Signal\",DEVICENOTRELEVANT:false,FUNCTIONGROUPDESCRIPTION:\"Air supply expansion hose open\",RECORDID:160066234,PANELAREA:\"S04\",FUNCTIONGROUP:\"PN002_BE1\",MESSAGETYPE:\"-\",ADDRESS:\"DB1412.DBX2.0\",VARIABLE_NAME:\"LV3512:States.S04.PN002_BE1.Ok.Value\",TSBEGIN:new Date(1599966667994),TSEND:new Date(1599966673195),DURATION:\"000 00:00:05\",MESSAGEGROUP:\"SM\",INTERVALBEGIN_ID:\"Night Shift\"},{CONSOLEAREA:\"-\",ACTIVE:false,ISWARNING:2,PLCNAME:\"BC booth line 2\",PLC:\"LV3412\",ESTOPAREA:\"-\",INTERVALEND_ID:\"Night Shift\",TEXT:\"Bellow closed\",DEVICENOTRELEVANT:false,FUNCTIONGROUPDESCRIPTION:\"Air supply expansion hose closed\",RECORDID:160066233,PANELAREA:\"S07\",FUNCTIONGROUP:\"PN003_BE2\",MESSAGETYPE:\"-\",ADDRESS:\"DB1846.DBX2.0\",VARIABLE_NAME:\"LV3412:States.S07.PN003_BE2.Ok.Value\",TSBEGIN:new Date(1599966667201),TSEND:new Date(1599966673529),DURATION:\"000 00:00:06\",MESSAGEGROUP:\"SM\",INTERVALBEGIN_ID:\"Night Shift\"},{CONSOLEAREA:\"-\",ACTIVE:false,ISWARNING:2,PLCNAME:\"BC booth line 2\",PLC:\"LV3412\",ESTOPAREA:\"-\",INTERVALEND_ID:\"Night Shift\",TEXT:\"Bellow open\",DEVICENOTRELEVANT:false,FUNCTIONGROUPDESCRIPTION:\"Air supply expansion hose open\",RECORDID:160066232,PANELAREA:\"S07\",FUNCTIONGROUP:\"PN001_BE1\",MESSAGETYPE:\"-\",ADDRESS:\"DB1825.DBX2.0\",VARIABLE_NAME:\"LV3412:States.S07.PN001_BE1.Ok.Value\",TSBEGIN:new Date(1599966667185),TSEND:new Date(1599966673513),DURATION:\"000 00:00:06\",MESSAGEGROUP:\"SM\",INTERVALBEGIN_ID:\"Night Shift\"},{CONSOLEAREA:\"-\",ACTIVE:false,ISWARNING:2,PLCNAME:\"CC booth, intermediate oven line 2\",PLC:\"LV3512\",ESTOPAREA:\"-\",INTERVALEND_ID:\"Night Shift\",TEXT:\"Signal\",DEVICENOTRELEVANT:false,FUNCTIONGROUPDESCRIPTION:\"Air supply expansion hose open\",RECORDID:160066231,PANELAREA:\"S04\",FUNCTIONGROUP:\"PN001_BE1\",MESSAGETYPE:\"-\",ADDRESS:\"DB1352.DBX2.0\",VARIABLE_NAME:\"LV3512:States.S04.PN001_BE1.Ok.Value\",TSBEGIN:new Date(1599966667043),TSEND:new Date(1599966671815),DURATION:\"000 00:00:04\",MESSAGEGROUP:\"SM\",INTERVALBEGIN_ID:\"Night Shift\"},{CONSOLEAREA:\"-\",ACTIVE:false,ISWARNING:2,PLCNAME:\"BC booth line 1\",PLC:\"LV2411\",ESTOPAREA:\"-\",INTERVALEND_ID:\"Night Shift\",TEXT:\"Bellow closed\",DEVICENOTRELEVANT:false,FUNCTIONGROUPDESCRIPTION:\"Air supply expansion hose closed\",RECORDID:160066230,PANELAREA:\"S07\",FUNCTIONGROUP:\"PN002_BE2\",MESSAGETYPE:\"-\",ADDRESS:\"DB1836.DBX2.0\",VARIABLE_NAME:\"LV2411:States.S07.PN002_BE2.Ok.Value\",TSBEGIN:new Date(1599966666441),TSEND:new Date(1599966670434),DURATION:\"000 00:00:03\",MESSAGEGROUP:\"SM\",INTERVALBEGIN_ID:\"Night Shift\"},{CONSOLEAREA:\"-\",ACTIVE:false,ISWARNING:2,PLCNAME:\"CC booth, intermediate oven line 1\",PLC:\"LV2511\",ESTOPAREA:\"-\",INTERVALEND_ID:\"Night Shift\",TEXT:\"Signal\",DEVICENOTRELEVANT:false,FUNCTIONGROUPDESCRIPTION:\"Air supply expansion hose open\",RECORDID:160066229,PANELAREA:\"S04\",FUNCTIONGROUP:\"PN002_BE1\",MESSAGETYPE:\"-\",ADDRESS:\"DB1412.DBX2.0\",VARIABLE_NAME:\"LV2511:States.S04.PN002_BE1.Ok.Value\",TSBEGIN:new Date(1599966666113),TSEND:new Date(1599966670114),DURATION:\"000 00:00:04\",MESSAGEGROUP:\"SM\",INTERVALBEGIN_ID:\"Night Shift\"},{CONSOLEAREA:\"PC01\",ACTIVE:true,ISWARNING:1,PLCNAME:\"Paint mix room BC\",PLC:\"LA2611\",ESTOPAREA:\"1\",TEXT:\"Run dry\",DEVICENOTRELEVANT:true,FUNCTIONGROUPDESCRIPTION:\"Levelsensor\",RECORDID:160066228,PANELAREA:\"S01\",FUNCTIONGROUP:\"BC072_BN20\",MESSAGETYPE:\"-\",ADDRESS:\"DB1191.DBX8.7\",VARIABLE_NAME:\"LA2611:Faults.S01.BC072_BN20.DryRun_Warning.Value\",TSBEGIN:new Date(1599966662812),MESSAGEGROUP:\"FM\",INTERVALBEGIN_ID:\"Night Shift\"},{CONSOLEAREA:\"-\",ACTIVE:false,ISWARNING:2,PLCNAME:\"BC booth line 2\",PLC:\"LV3412\",ESTOPAREA:\"-\",INTERVALEND_ID:\"Night Shift\",TEXT:\"Bellow open\",DEVICENOTRELEVANT:false,FUNCTIONGROUPDESCRIPTION:\"Air supply expansion hose open\",RECORDID:160066227,PANELAREA:\"S07\",FUNCTIONGROUP:\"PN004_BE1\",MESSAGETYPE:\"-\",ADDRESS:\"DB1855.DBX2.0\",VARIABLE_NAME:\"LV3412:States.S07.PN004_BE1.Ok.Value\",TSBEGIN:new Date(1599966661159),TSEND:new Date(1599966667201),DURATION:\"000 00:00:06\",MESSAGEGROUP:\"SM\",INTERVALBEGIN_ID:\"Night Shift\"},{CONSOLEAREA:\"-\",ACTIVE:false,ISWARNING:2,PLCNAME:\"BC booth line 1\",PLC:\"LV2411\",ESTOPAREA:\"-\",INTERVALEND_ID:\"Night Shift\",TEXT:\"Bellow closed\",DEVICENOTRELEVANT:false,FUNCTIONGROUPDESCRIPTION:\"Air supply expansion hose closed\",RECORDID:160066226,PANELAREA:\"S07\",FUNCTIONGROUP:\"PN004_BE2\",MESSAGETYPE:\"-\",ADDRESS:\"DB1856.DBX2.0\",VARIABLE_NAME:\"LV2411:States.S07.PN004_BE2.Ok.Value\",TSBEGIN:new Date(1599966660439),TSEND:new Date(1599966664428),DURATION:\"000 00:00:03\",MESSAGEGROUP:\"SM\",INTERVALBEGIN_ID:\"Night Shift\"}],endRow:75,invalidateCache:false,isDSResponse:true,operationType:\"fetch\",queueStatus:0,startRow:0,status:0,totalRows:73715}]//isc_RPCResponseEnd'"
      ]
     },
     "execution_count": 448,
     "metadata": {},
     "output_type": "execute_result"
    }
   ],
   "source": [
    "res.text"
   ]
  },
  {
   "cell_type": "code",
   "execution_count": 463,
   "metadata": {},
   "outputs": [
    {
     "name": "stdout",
     "output_type": "stream",
     "text": [
      "此次返回75条数据，共73715条数据\n"
     ]
    }
   ],
   "source": [
    "def parse(res):\n",
    "    def date(val):\n",
    "        return datetime.datetime.fromtimestamp(val/1000)\n",
    "    if res.status_code==200:\n",
    "        data = res.text.split(\"-->\")[1].split(\"//\")[0]\n",
    "        data = (data.replace('{','dict(').replace('}',')').replace(':','=')\n",
    "             .replace('false','False').replace('true','True').replace('new Date','date'))\n",
    "        data = eval(data)\n",
    "        print(f\"此次返回{len(data[0]['data'])}条数据，共{data[0]['totalRows']}条数据\")\n",
    "        return data\n",
    "data= parse(res)    "
   ]
  },
  {
   "cell_type": "code",
   "execution_count": 221,
   "metadata": {
    "scrolled": true
   },
   "outputs": [
    {
     "data": {
      "text/plain": [
       "[{'affectedRows': 0,\n",
       "  'data': [{'ACTIVE': False,\n",
       "    'ADDRESS': 'DB2308.DBX8.3',\n",
       "    'CONSOLEAREA': 'PU011',\n",
       "    'DEVICENOTRELEVANT': False,\n",
       "    'DURATION': '000 00=03=00',\n",
       "    'ESTOPAREA': 'B.5',\n",
       "    'FUNCTIONGROUP': 'RB320',\n",
       "    'FUNCTIONGROUPDESCRIPTION': 'Roller conveyor EX-Area',\n",
       "    'INTERVALBEGIN_ID': 'Night Shift',\n",
       "    'INTERVALEND_ID': 'Night Shift',\n",
       "    'ISWARNING': 0,\n",
       "    'MESSAGEGROUP': 'FM',\n",
       "    'MESSAGETYPE': 'T',\n",
       "    'PANELAREA': 'S02',\n",
       "    'PLC': 'LF2911',\n",
       "    'PLCNAME': 'TC line 1',\n",
       "    'RECORDID': 155962631,\n",
       "    'TEXT': 'Position invalid free',\n",
       "    'TSBEGIN': datetime.datetime(2020, 8, 20, 23, 35, 20, 901000),\n",
       "    'TSEND': datetime.datetime(2020, 8, 20, 23, 38, 21, 527000),\n",
       "    'VARIABLE_NAME': 'LF2911=Faults.S02.RB320.InvalidFree.Value'},\n",
       "   {'ACTIVE': False,\n",
       "    'ADDRESS': 'DB2308.DBX8.3',\n",
       "    'CONSOLEAREA': 'PU011',\n",
       "    'DEVICENOTRELEVANT': False,\n",
       "    'DURATION': '000 00=05=38',\n",
       "    'ESTOPAREA': 'B.5',\n",
       "    'FUNCTIONGROUP': 'RB320',\n",
       "    'FUNCTIONGROUPDESCRIPTION': 'Roller conveyor EX-Area',\n",
       "    'INTERVALBEGIN_ID': 'Night Shift',\n",
       "    'INTERVALEND_ID': 'Night Shift',\n",
       "    'ISWARNING': 0,\n",
       "    'MESSAGEGROUP': 'FM',\n",
       "    'MESSAGETYPE': 'T',\n",
       "    'PANELAREA': 'S02',\n",
       "    'PLC': 'LF2911',\n",
       "    'PLCNAME': 'TC line 1',\n",
       "    'RECORDID': 155939506,\n",
       "    'TEXT': 'Position invalid free',\n",
       "    'TSBEGIN': datetime.datetime(2020, 8, 20, 21, 35, 33, 820000),\n",
       "    'TSEND': datetime.datetime(2020, 8, 20, 21, 41, 11, 988000),\n",
       "    'VARIABLE_NAME': 'LF2911=Faults.S02.RB320.InvalidFree.Value'},\n",
       "   {'ACTIVE': False,\n",
       "    'ADDRESS': 'DB2308.DBX8.3',\n",
       "    'CONSOLEAREA': 'PU011',\n",
       "    'DEVICENOTRELEVANT': False,\n",
       "    'DURATION': '000 00=01=54',\n",
       "    'ESTOPAREA': 'B.5',\n",
       "    'FUNCTIONGROUP': 'RB320',\n",
       "    'FUNCTIONGROUPDESCRIPTION': 'Roller conveyor EX-Area',\n",
       "    'INTERVALBEGIN_ID': 'Morning Shift',\n",
       "    'INTERVALEND_ID': 'Morning Shift',\n",
       "    'ISWARNING': 0,\n",
       "    'MESSAGEGROUP': 'FM',\n",
       "    'MESSAGETYPE': 'T',\n",
       "    'PANELAREA': 'S02',\n",
       "    'PLC': 'LF2911',\n",
       "    'PLCNAME': 'TC line 1',\n",
       "    'RECORDID': 155875170,\n",
       "    'TEXT': 'Position invalid free',\n",
       "    'TSBEGIN': datetime.datetime(2020, 8, 20, 15, 33, 37, 568000),\n",
       "    'TSEND': datetime.datetime(2020, 8, 20, 15, 35, 32, 495000),\n",
       "    'VARIABLE_NAME': 'LF2911=Faults.S02.RB320.InvalidFree.Value'},\n",
       "   {'ACTIVE': False,\n",
       "    'ADDRESS': 'DB2308.DBX8.3',\n",
       "    'CONSOLEAREA': 'PU011',\n",
       "    'DEVICENOTRELEVANT': False,\n",
       "    'DURATION': '000 00=01=20',\n",
       "    'ESTOPAREA': 'B.5',\n",
       "    'FUNCTIONGROUP': 'RB320',\n",
       "    'FUNCTIONGROUPDESCRIPTION': 'Roller conveyor EX-Area',\n",
       "    'INTERVALBEGIN_ID': '早班',\n",
       "    'INTERVALEND_ID': '早班',\n",
       "    'ISWARNING': 0,\n",
       "    'MESSAGEGROUP': 'FM',\n",
       "    'MESSAGETYPE': 'T',\n",
       "    'PANELAREA': 'S02',\n",
       "    'PLC': 'LF2911',\n",
       "    'PLCNAME': 'TC line 1',\n",
       "    'RECORDID': 155371860,\n",
       "    'TEXT': 'Position invalid free',\n",
       "    'TSBEGIN': datetime.datetime(2020, 8, 18, 12, 37, 29, 30000),\n",
       "    'TSEND': datetime.datetime(2020, 8, 18, 12, 38, 49, 373000),\n",
       "    'VARIABLE_NAME': 'LF2911=Faults.S02.RB320.InvalidFree.Value'},\n",
       "   {'ACTIVE': False,\n",
       "    'ADDRESS': 'DB2308.DBX8.3',\n",
       "    'CONSOLEAREA': 'PU011',\n",
       "    'DEVICENOTRELEVANT': False,\n",
       "    'DURATION': '000 00=01=42',\n",
       "    'ESTOPAREA': 'B.5',\n",
       "    'FUNCTIONGROUP': 'RB320',\n",
       "    'FUNCTIONGROUPDESCRIPTION': 'Roller conveyor EX-Area',\n",
       "    'INTERVALBEGIN_ID': '早班',\n",
       "    'INTERVALEND_ID': '早班',\n",
       "    'ISWARNING': 0,\n",
       "    'MESSAGEGROUP': 'FM',\n",
       "    'MESSAGETYPE': 'T',\n",
       "    'PANELAREA': 'S02',\n",
       "    'PLC': 'LF2911',\n",
       "    'PLCNAME': 'TC line 1',\n",
       "    'RECORDID': 155328850,\n",
       "    'TEXT': 'Position invalid free',\n",
       "    'TSBEGIN': datetime.datetime(2020, 8, 18, 8, 34, 46, 715000),\n",
       "    'TSEND': datetime.datetime(2020, 8, 18, 8, 36, 28, 878000),\n",
       "    'VARIABLE_NAME': 'LF2911=Faults.S02.RB320.InvalidFree.Value'},\n",
       "   {'ACTIVE': False,\n",
       "    'ADDRESS': 'DB2308.DBX8.3',\n",
       "    'CONSOLEAREA': 'PU011',\n",
       "    'DEVICENOTRELEVANT': False,\n",
       "    'DURATION': '000 00=03=53',\n",
       "    'ESTOPAREA': 'B.5',\n",
       "    'FUNCTIONGROUP': 'RB320',\n",
       "    'FUNCTIONGROUPDESCRIPTION': 'Roller conveyor EX-Area',\n",
       "    'INTERVALBEGIN_ID': '早班',\n",
       "    'INTERVALEND_ID': '早班',\n",
       "    'ISWARNING': 0,\n",
       "    'MESSAGEGROUP': 'FM',\n",
       "    'MESSAGETYPE': 'T',\n",
       "    'PANELAREA': 'S02',\n",
       "    'PLC': 'LF2911',\n",
       "    'PLCNAME': 'TC line 1',\n",
       "    'RECORDID': 154509234,\n",
       "    'TEXT': 'Position invalid free',\n",
       "    'TSBEGIN': datetime.datetime(2020, 8, 13, 8, 47, 35, 398000),\n",
       "    'TSEND': datetime.datetime(2020, 8, 13, 8, 51, 28, 781000),\n",
       "    'VARIABLE_NAME': 'LF2911=Faults.S02.RB320.InvalidFree.Value'},\n",
       "   {'ACTIVE': False,\n",
       "    'ADDRESS': 'DB2308.DBX8.3',\n",
       "    'CONSOLEAREA': 'PU011',\n",
       "    'DEVICENOTRELEVANT': False,\n",
       "    'DURATION': '000 00=04=13',\n",
       "    'ESTOPAREA': 'B.5',\n",
       "    'FUNCTIONGROUP': 'RB320',\n",
       "    'FUNCTIONGROUPDESCRIPTION': 'Roller conveyor EX-Area',\n",
       "    'INTERVALBEGIN_ID': '早班',\n",
       "    'INTERVALEND_ID': '早班',\n",
       "    'ISWARNING': 0,\n",
       "    'MESSAGEGROUP': 'FM',\n",
       "    'MESSAGETYPE': 'T',\n",
       "    'PANELAREA': 'S02',\n",
       "    'PLC': 'LF2911',\n",
       "    'PLCNAME': 'TC line 1',\n",
       "    'RECORDID': 154277319,\n",
       "    'TEXT': 'Position invalid free',\n",
       "    'TSBEGIN': datetime.datetime(2020, 8, 12, 8, 19, 26, 496000),\n",
       "    'TSEND': datetime.datetime(2020, 8, 12, 8, 23, 40, 273000),\n",
       "    'VARIABLE_NAME': 'LF2911=Faults.S02.RB320.InvalidFree.Value'},\n",
       "   {'ACTIVE': False,\n",
       "    'ADDRESS': 'DB2308.DBX8.3',\n",
       "    'CONSOLEAREA': 'PU011',\n",
       "    'DEVICENOTRELEVANT': False,\n",
       "    'DURATION': '000 00=00=47',\n",
       "    'ESTOPAREA': 'B.5',\n",
       "    'FUNCTIONGROUP': 'RB320',\n",
       "    'FUNCTIONGROUPDESCRIPTION': 'Roller conveyor EX-Area',\n",
       "    'INTERVALBEGIN_ID': '中班',\n",
       "    'INTERVALEND_ID': '中班',\n",
       "    'ISWARNING': 0,\n",
       "    'MESSAGEGROUP': 'FM',\n",
       "    'MESSAGETYPE': 'T',\n",
       "    'PANELAREA': 'S02',\n",
       "    'PLC': 'LF2911',\n",
       "    'PLCNAME': 'TC line 1',\n",
       "    'RECORDID': 154142986,\n",
       "    'TEXT': 'Position invalid free',\n",
       "    'TSBEGIN': datetime.datetime(2020, 8, 11, 17, 40, 21, 747000),\n",
       "    'TSEND': datetime.datetime(2020, 8, 11, 17, 41, 8, 795000),\n",
       "    'VARIABLE_NAME': 'LF2911=Faults.S02.RB320.InvalidFree.Value'},\n",
       "   {'ACTIVE': False,\n",
       "    'ADDRESS': 'DB2308.DBX8.3',\n",
       "    'CONSOLEAREA': 'PU011',\n",
       "    'DEVICENOTRELEVANT': False,\n",
       "    'DURATION': '000 00=04=16',\n",
       "    'ESTOPAREA': 'B.5',\n",
       "    'FUNCTIONGROUP': 'RB320',\n",
       "    'FUNCTIONGROUPDESCRIPTION': 'Roller conveyor EX-Area',\n",
       "    'INTERVALBEGIN_ID': '早班',\n",
       "    'INTERVALEND_ID': '早班',\n",
       "    'ISWARNING': 0,\n",
       "    'MESSAGEGROUP': 'FM',\n",
       "    'MESSAGETYPE': 'T',\n",
       "    'PANELAREA': 'S02',\n",
       "    'PLC': 'LF2911',\n",
       "    'PLCNAME': 'TC line 1',\n",
       "    'RECORDID': 153779091,\n",
       "    'TEXT': 'Position invalid free',\n",
       "    'TSBEGIN': datetime.datetime(2020, 8, 10, 7, 16, 33, 226000),\n",
       "    'TSEND': datetime.datetime(2020, 8, 10, 7, 20, 49, 669000),\n",
       "    'VARIABLE_NAME': 'LF2911=Faults.S02.RB320.InvalidFree.Value'}],\n",
       "  'endRow': 9,\n",
       "  'invalidateCache': False,\n",
       "  'isDSResponse': True,\n",
       "  'operationType': 'fetch',\n",
       "  'queueStatus': 0,\n",
       "  'startRow': 0,\n",
       "  'status': 0,\n",
       "  'totalRows': 9}]"
      ]
     },
     "execution_count": 221,
     "metadata": {},
     "output_type": "execute_result"
    }
   ],
   "source": [
    "data"
   ]
  },
  {
   "cell_type": "code",
   "execution_count": 8,
   "metadata": {
    "collapsed": true
   },
   "outputs": [],
   "source": [
    "# Start\n",
    "# End\n",
    "# Duration\n",
    "# Messagetype #Fault,Warning,Message\n",
    "# Message\n",
    "# Type #- O P Q S T\n",
    "# Group #FM,SM\n",
    "# PLC\n",
    "# Panelarea\n",
    "# Consolearea\n",
    "# Functiongroup\n",
    "# Device\n",
    "# Description"
   ]
  },
  {
   "cell_type": "code",
   "execution_count": 461,
   "metadata": {},
   "outputs": [
    {
     "data": {
      "text/plain": [
       "73715"
      ]
     },
     "execution_count": 461,
     "metadata": {},
     "output_type": "execute_result"
    }
   ],
   "source": []
  },
  {
   "cell_type": "code",
   "execution_count": null,
   "metadata": {
    "collapsed": true
   },
   "outputs": [],
   "source": []
  },
  {
   "cell_type": "code",
   "execution_count": null,
   "metadata": {
    "collapsed": true
   },
   "outputs": [],
   "source": []
  },
  {
   "cell_type": "markdown",
   "metadata": {},
   "source": [
    "# Body Tracking模块"
   ]
  },
  {
   "cell_type": "code",
   "execution_count": 390,
   "metadata": {
    "collapsed": true
   },
   "outputs": [],
   "source": [
    "bodytracking_url=\"http://172.30.1.95/webgui.amf.war/EMES/sc/IDACall?isc_rpc=1&isc_v=v9.1p_2015-02-24&isc_xhr=1\"\n",
    "formdata=\"isc_tnum=9&_transaction=%3Ctransaction%20xmlns%3Axsi%3D%22http%3A%2F%2Fwww.w3.org%2F2000%2F10%2FXMLSchema-instance%22%20xsi%3Atype%3D%22xsd%3AObject%22%3E%3CtransactionNum%20xsi%3Atype%3D%22xsd%3Along%22%3E9%3C%2FtransactionNum%3E%3Coperations%20xsi%3Atype%3D%22xsd%3AList%22%3E%3Celem%20xsi%3Atype%3D%22xsd%3AObject%22%3E%3Ccriteria%20xsi%3Atype%3D%22xsd%3AObject%22%3E%3Coperator%3Eand%3C%2Foperator%3E%3C_constructor%3EAdvancedCriteria%3C%2F_constructor%3E%3Ccriteria%20xsi%3Atype%3D%22xsd%3AList%22%3E%3Celem%20xsi%3Atype%3D%22xsd%3AObject%22%3E%3CfieldName%3ECREATED%3C%2FfieldName%3E%3Coperator%3EgreaterOrEqual%3C%2Foperator%3E%3Cvalue%20xsi%3Atype%3D%22xsd%3Adatetime%22%3E2020-09-08T02%3A00%3A00.000%3C%2Fvalue%3E%3C%2Felem%3E%3Celem%20xsi%3Atype%3D%22xsd%3AObject%22%3E%3CfieldName%3ECREATED%3C%2FfieldName%3E%3Coperator%3ElessOrEqual%3C%2Foperator%3E%3Cvalue%20xsi%3Atype%3D%22xsd%3Adatetime%22%3E2020-09-12T15%3A59%3A00.000%3C%2Fvalue%3E%3C%2Felem%3E%3Celem%20xsi%3Atype%3D%22xsd%3AObject%22%3E%3CfieldName%3EBODY_EXTID%3C%2FfieldName%3E%3Coperator%3EiContainsPattern%3C%2Foperator%3E%3Cvalue%3E782020*%3C%2Fvalue%3E%3C%2Felem%3E%3Celem%20xsi%3Atype%3D%22xsd%3AObject%22%3E%3CfieldName%3EPLCIN%3C%2FfieldName%3E%3Coperator%3EinSet%3C%2Foperator%3E%3Cvalue%20xsi%3Atype%3D%22xsd%3AList%22%3E%3Celem%3E112010%3C%2Felem%3E%3Celem%3E112360%3C%2Felem%3E%3Celem%3E112400%3C%2Felem%3E%3Celem%3E125001%3C%2Felem%3E%3C%2Fvalue%3E%3C%2Felem%3E%3C%2Fcriteria%3E%3C%2Fcriteria%3E%3CoperationConfig%20xsi%3Atype%3D%22xsd%3AObject%22%3E%3CdataSource%3Ebts_history%3C%2FdataSource%3E%3Crepo%20xsi%3Anil%3D%22true%22%2F%3E%3CoperationType%3Efetch%3C%2FoperationType%3E%3CtextMatchStyle%3Eexact%3C%2FtextMatchStyle%3E%3C%2FoperationConfig%3E%3CstartRow%20xsi%3Atype%3D%22xsd%3Along%22%3E0%3C%2FstartRow%3E%3CendRow%20xsi%3Atype%3D%22xsd%3Along%22%3E75%3C%2FendRow%3E%3CsortBy%20xsi%3Atype%3D%22xsd%3AList%22%3E%3Celem%3E-CREATED%3C%2Felem%3E%3C%2FsortBy%3E%3CcomponentId%3EAMF_BTS_HISTORY_ListGrid%3C%2FcomponentId%3E%3CappID%3EbuiltinApplication%3C%2FappID%3E%3Coperation%3Eref%3Abts_history_fetch%3C%2Foperation%3E%3ColdValues%20xsi%3Atype%3D%22xsd%3AObject%22%3E%3Coperator%3Eand%3C%2Foperator%3E%3C_constructor%3EAdvancedCriteria%3C%2F_constructor%3E%3Ccriteria%20xsi%3Atype%3D%22xsd%3AList%22%3E%3Celem%20xsi%3Atype%3D%22xsd%3AObject%22%3E%3CfieldName%3ECREATED%3C%2FfieldName%3E%3Coperator%3EgreaterOrEqual%3C%2Foperator%3E%3Cvalue%20xsi%3Atype%3D%22xsd%3Adatetime%22%3E2020-09-08T02%3A00%3A00.000%3C%2Fvalue%3E%3C%2Felem%3E%3Celem%20xsi%3Atype%3D%22xsd%3AObject%22%3E%3CfieldName%3ECREATED%3C%2FfieldName%3E%3Coperator%3ElessOrEqual%3C%2Foperator%3E%3Cvalue%20xsi%3Atype%3D%22xsd%3Adatetime%22%3E2020-09-12T15%3A59%3A00.000%3C%2Fvalue%3E%3C%2Felem%3E%3Celem%20xsi%3Atype%3D%22xsd%3AObject%22%3E%3CfieldName%3EBODY_EXTID%3C%2FfieldName%3E%3Coperator%3EiContainsPattern%3C%2Foperator%3E%3Cvalue%3E782020*%3C%2Fvalue%3E%3C%2Felem%3E%3Celem%20xsi%3Atype%3D%22xsd%3AObject%22%3E%3CfieldName%3EPLCIN%3C%2FfieldName%3E%3Coperator%3EinSet%3C%2Foperator%3E%3Cvalue%20xsi%3Atype%3D%22xsd%3AList%22%3E%3Celem%3E112010%3C%2Felem%3E%3Celem%3E112360%3C%2Felem%3E%3Celem%3E112400%3C%2Felem%3E%3Celem%3E125001%3C%2Felem%3E%3C%2Fvalue%3E%3C%2Felem%3E%3C%2Fcriteria%3E%3C%2FoldValues%3E%3C%2Felem%3E%3C%2Foperations%3E%3C%2Ftransaction%3E&protocolVersion=1.0\"\n",
    "def get_bodytracking_info_byPIN(transaction,PIN=None):\n",
    "    '''获取指定FIS号的车身过点信息'''\n",
    "    a = transaction['transaction']['operations'][\"elem\"][\"criteria\"][\"criteria\"][\"elem\"]\n",
    "#     print(len(a))\n",
    "    a.pop(0)\n",
    "    a.pop(0)\n",
    "    a.pop()\n",
    "    a[0]['value']=PIN\n",
    "#     print(len(a))\n",
    "    return xml_to_str(dict_to_xml(transaction))\n",
    "        \n",
    "def modify_bodytracking_params(transaction,Date_begin=None,Date_end=None,PIN=None,Location=None):\n",
    "    \"\"\"四个参数可以任意选择\"\"\"\n",
    "    a=transaction['transaction']['operations'][\"elem\"][\"criteria\"][\"criteria\"][\"elem\"]\n",
    "    b={}\n",
    "    for k,v in zip([\"Date_begin\",\"Date_end\",\"PIN\",\"Location\"],a):\n",
    "        b[k]=v\n",
    "    try:\n",
    "        if Date_begin and a[0][\"fieldName\"]== 'CREATED' and a[0][\"operator\"]== 'greaterOrEqual':\n",
    "            Date_begin = (datetime.datetime.strptime(Date_begin,\"%Y-%m-%dT%H:%M:%S.000\")- datetime.timedelta(hours=8)).strftime(\"%Y-%m-%dT%H:%M:%S.000\")\n",
    "            b[\"Date_begin\"]['value']['#text']=Date_begin\n",
    "        else:\n",
    "            del b[\"Date_begin\"]\n",
    "            \n",
    "        if Date_end and a[1][\"fieldName\"]== 'CREATED' and a[1][\"operator\"]== 'lessOrEqual':\n",
    "            Date_begin = (datetime.datetime.strptime(Date_end,\"%Y-%m-%dT%H:%M:%S.000\")- datetime.timedelta(hours=8)).strftime(\"%Y-%m-%dT%H:%M:%S.000\")\n",
    "            b[\"Date_end\"]['value']['#text']=Date_end\n",
    "        else:\n",
    "            del b[\"Date_end\"]\n",
    "            \n",
    "        if PIN and a[2][\"fieldName\"]== 'BODY_EXTID' and a[2][\"operator\"]== 'iContainsPattern':\n",
    "            b[\"PIN\"]['value']=PIN\n",
    "        else:\n",
    "            del b[\"PIN\"]\n",
    "            \n",
    "        if Location and a[3][\"fieldName\"]== 'PLCIN' and a[3][\"operator\"]== 'inSet':\n",
    "            if len(Location) >=2:\n",
    "                a[3]['value']['elem']=Location\n",
    "            else:\n",
    "                a[3]['value']=Location\n",
    "        else:\n",
    "            del b[\"Location\"]\n",
    "        transaction['transaction']['operations'][\"elem\"][\"criteria\"][\"criteria\"][\"elem\"]=list(b.values())    \n",
    "    except:\n",
    "        print(\"Parameters not found, modify fail!\")\n",
    "    return xml_to_str(dict_to_xml(transaction))\n",
    "# transaction = xml_to_str(dict_to_xml(xml_to_dict(str_to_xml(formdata.split(\"&\")[1]).split(\"=\",1)[1])))\n"
   ]
  },
  {
   "cell_type": "code",
   "execution_count": 402,
   "metadata": {},
   "outputs": [
    {
     "name": "stdout",
     "output_type": "stream",
     "text": [
      "{'JSESSIONID': 'NMvK-UUn-vuFtixCV2wsOq7P7dEq769kE6PaA9V4.svw-c2sn02001', 'isc_cState': 'ready', 'EMES_SSO': 'YjYyODY3YmItOWYzNC00M2M3LTgxZDItNTk3Y2JkZDk4YmEy'}\n"
     ]
    }
   ],
   "source": [
    "Date_begin = '2020-09-06T15:00:00.000'\n",
    "Date_end = '2020-09-08T15:59:00.000'\n",
    "PIN = \"78202093616224\"\n",
    "Location = ['112360', \"112010\"]#可以是1个或多个\n",
    "transaction = xml_to_dict(str_to_xml(formdata.split(\"&\")[1]).split(\"=\",1)[1])\n",
    "transaction=modify_bodytracking_params(transaction,Date_begin=Date_begin,Date_end=Date_end,Location=Location)#PIN=PIN,\n",
    "form_data={\n",
    "    'isc_tnum': 9,#不确定用途，好像这个值无所谓\n",
    "    '_transaction': transaction,\n",
    "    'protocolVersion': '1.0'\n",
    "}\n",
    "res=Getdata(bodytracking_url,form_data)"
   ]
  },
  {
   "cell_type": "code",
   "execution_count": 403,
   "metadata": {},
   "outputs": [
    {
     "data": {
      "text/plain": [
       "'//isc_RPCResponseStart-->[{affectedRows:0,data:[{SKID_ID:631,SHUTTLE_NO:\"   \",COLOR_QUANTITY:2978,MDS_CURRENT_LOCATION_TEXT:\"Message point processing result UBS Robots exterior line 1\",ACTIVE:true,PLCIN:\"145002\",BODY_EXTID:\"78202092932790\",BODY_ID:842262,DOCNUM:12058563,COLOR_CODE:\"UBS \",MODSTR:\"Row inserted by AMF_BTS_COLOR_PCK.PROCESS_LACK_D.\",LACK_SEND:3,CREATED:new Date(1594770026000),SKID_EXTID:27,COLOR_ID:882,MODDATE:new Date(1594770026000),SKID_TYPE:\"PV\",RESULT:\"N\"},{SKID_ID:4444,SHUTTLE_NO:\"   \",COLOR_QUANTITY:2029,MDS_CURRENT_LOCATION_TEXT:\"Message point processing result GAD Robots exterior line 1\",ACTIVE:true,PLCIN:\"145001\",BODY_EXTID:\"78202092932820\",BODY_ID:842265,DOCNUM:12058564,COLOR_CODE:\"UBS \",MODSTR:\"Row inserted by AMF_BTS_COLOR_PCK.PROCESS_LACK_D.\",LACK_SEND:3,CREATED:new Date(1594770068000),SKID_EXTID:26,COLOR_ID:882,MODDATE:new Date(1594770068000),SKID_TYPE:\"PV\",RESULT:\"N\"},{SKID_ID:4473,SHUTTLE_NO:\"   \",COLOR_QUANTITY:2201,MDS_CURRENT_LOCATION_TEXT:\"Message point processing result GAD Robots exterior line 1\",ACTIVE:true,PLCIN:\"145001\",BODY_EXTID:\"78202092932868\",BODY_ID:842269,DOCNUM:12058565,COLOR_CODE:\"UBS \",MODSTR:\"Row inserted by AMF_BTS_COLOR_PCK.PROCESS_LACK_D.\",LACK_SEND:3,CREATED:new Date(1594770143000),SKID_EXTID:4,COLOR_ID:882,MODDATE:new Date(1594770143000),SKID_TYPE:\"PV\",RESULT:\"N\"},{SKID_ID:4444,SHUTTLE_NO:\"   \",COLOR_QUANTITY:2978,MDS_CURRENT_LOCATION_TEXT:\"Message point processing result UBS Robots exterior line 1\",ACTIVE:true,PLCIN:\"145002\",BODY_EXTID:\"78202092932820\",BODY_ID:842265,DOCNUM:12058566,COLOR_CODE:\"UBS \",MODSTR:\"Row inserted by AMF_BTS_COLOR_PCK.PROCESS_LACK_D.\",LACK_SEND:3,CREATED:new Date(1594770169000),SKID_EXTID:26,COLOR_ID:882,MODDATE:new Date(1594770169000),SKID_TYPE:\"PV\",RESULT:\"N\"},{SKID_ID:4473,SHUTTLE_NO:\"   \",COLOR_QUANTITY:2979,MDS_CURRENT_LOCATION_TEXT:\"Message point processing result UBS Robots exterior line 1\",ACTIVE:true,PLCIN:\"145002\",BODY_EXTID:\"78202092932868\",BODY_ID:842269,DOCNUM:12058567,COLOR_CODE:\"UBS \",MODSTR:\"Row inserted by AMF_BTS_COLOR_PCK.PROCESS_LACK_D.\",LACK_SEND:3,CREATED:new Date(1594770243000),SKID_EXTID:4,COLOR_ID:882,MODDATE:new Date(1594770243000),SKID_TYPE:\"PV\",RESULT:\"N\"},{SKID_ID:6058,SHUTTLE_NO:\"044\",COLOR_QUANTITY:1630,MDS_CURRENT_LOCATION_TEXT:\"Message point processing result ED\",ACTIVE:true,PLCIN:\"125001\",BODY_EXTID:\"78202092933810\",BODY_ID:842372,DOCNUM:12058568,COLOR_CODE:\"KTL \",MODSTR:\"Row inserted by AMF_BTS_COLOR_PCK.PROCESS_LACK_D.\",LACK_SEND:4,CREATED:new Date(1594770369000),SKID_EXTID:215,COLOR_ID:891,MODDATE:new Date(1594770369000),SKID_TYPE:\"EC\",RESULT:\"O\"},{SKID_ID:7051,SHUTTLE_NO:\"059\",COLOR_QUANTITY:1587,MDS_CURRENT_LOCATION_TEXT:\"Message point processing result ED\",ACTIVE:true,PLCIN:\"125001\",BODY_EXTID:\"78202092933827\",BODY_ID:842373,DOCNUM:12058569,COLOR_CODE:\"KTL \",MODSTR:\"Row inserted by AMF_BTS_COLOR_PCK.PROCESS_LACK_D.\",LACK_SEND:4,CREATED:new Date(1594770458000),SKID_EXTID:179,COLOR_ID:891,MODDATE:new Date(1594770458000),SKID_TYPE:\"EC\",RESULT:\"O\"},{SKID_ID:3582,SHUTTLE_NO:\"   \",COLOR_QUANTITY:2045,MDS_CURRENT_LOCATION_TEXT:\"Message point processing result GAD Robots exterior line 1\",ACTIVE:true,PLCIN:\"145001\",BODY_EXTID:\"78202092932882\",BODY_ID:842271,DOCNUM:12058570,COLOR_CODE:\"UBS \",MODSTR:\"Row inserted by AMF_BTS_COLOR_PCK.PROCESS_LACK_D.\",LACK_SEND:3,CREATED:new Date(1594770508000),SKID_EXTID:6,COLOR_ID:882,MODDATE:new Date(1594770508000),SKID_TYPE:\"PV\",RESULT:\"N\"},{SKID_ID:8680,SHUTTLE_NO:\"050\",COLOR_QUANTITY:1632,MDS_CURRENT_LOCATION_TEXT:\"Message point processing result ED\",ACTIVE:true,PLCIN:\"125001\",BODY_EXTID:\"78202092933834\",BODY_ID:842374,DOCNUM:12058571,COLOR_CODE:\"KTL \",MODSTR:\"Row inserted by AMF_BTS_COLOR_PCK.PROCESS_LACK_D.\",LACK_SEND:4,CREATED:new Date(1594770511000),SKID_EXTID:149,COLOR_ID:891,MODDATE:new Date(1594770511000),SKID_TYPE:\"EC\",RESULT:\"O\"},{SKID_ID:763,SHUTTLE_NO:\"   \",COLOR_QUANTITY:0,MDS_CURRENT_LOCATION_TEXT:\"Message point processing result UBS Robots exterior line 2\",ACTIVE:true,PLCIN:\"155002\",BODY_EXTID:\"78202092932974\",BODY_ID:842279,DOCNUM:12058572,COLOR_CODE:\"UBS \",MODSTR:\"Row inserted by AMF_BTS_COLOR_PCK.PROCESS_LACK_D.\",LACK_SEND:3,CREATED:new Date(1594770562000),SKID_EXTID:13,COLOR_ID:882,MODDATE:new Date(1594770562000),SKID_TYPE:\"PV\",RESULT:\"N\"},{SKID_ID:3956,SHUTTLE_NO:\"045\",COLOR_QUANTITY:1615,MDS_CURRENT_LOCATION_TEXT:\"Message point processing result ED\",ACTIVE:true,PLCIN:\"125001\",BODY_EXTID:\"78202092933841\",BODY_ID:842375,DOCNUM:12058573,COLOR_CODE:\"KTL \",MODSTR:\"Row inserted by AMF_BTS_COLOR_PCK.PROCESS_LACK_D.\",LACK_SEND:4,CREATED:new Date(1594770565000),SKID_EXTID:49,COLOR_ID:891,MODDATE:new Date(1594770565000),SKID_TYPE:\"EC\",RESULT:\"O\"},{SKID_ID:3971,SHUTTLE_NO:\"   \",COLOR_QUANTITY:0,MDS_CURRENT_LOCATION_TEXT:\"Message point processing result seam sealing check Robot\",ACTIVE:true,PLCIN:\"372001\",BODY_EXTID:\"78202092933155\",BODY_ID:842297,DOCNUM:12058574,COLOR_CODE:\"UBS \",MODSTR:\"Row inserted by AMF_BTS_COLOR_PCK.PROCESS_LACK_D.\",LACK_SEND:3,CREATED:new Date(1594770566000),SKID_EXTID:246,COLOR_ID:882,MODDATE:new Date(1594770566000),SKID_TYPE:\"EC\",RESULT:\"N\"},{SKID_ID:6687,SHUTTLE_NO:\"043\",COLOR_QUANTITY:1629,MDS_CURRENT_LOCATION_TEXT:\"Message point processing result ED\",ACTIVE:true,PLCIN:\"125001\",BODY_EXTID:\"78202092933858\",BODY_ID:842376,DOCNUM:12058575,COLOR_CODE:\"KTL \",MODSTR:\"Row inserted by AMF_BTS_COLOR_PCK.PROCESS_LACK_D.\",LACK_SEND:4,CREATED:new Date(1594770617000),SKID_EXTID:74,COLOR_ID:891,MODDATE:new Date(1594770617000),SKID_TYPE:\"EC\",RESULT:\"O\"},{SKID_ID:3775,SHUTTLE_NO:\"   \",COLOR_QUANTITY:0,MDS_CURRENT_LOCATION_TEXT:\"Message point processing result seam sealing check Robot\",ACTIVE:true,PLCIN:\"372001\",BODY_EXTID:\"78202092933148\",BODY_ID:842296,DOCNUM:12058576,COLOR_CODE:\"UBS \",MODSTR:\"Row inserted by AMF_BTS_COLOR_PCK.PROCESS_LACK_D.\",LACK_SEND:3,CREATED:new Date(1594770665000),SKID_EXTID:73,COLOR_ID:882,MODDATE:new Date(1594770665000),SKID_TYPE:\"EC\",RESULT:\"N\"},{SKID_ID:3867,SHUTTLE_NO:\"049\",COLOR_QUANTITY:1623,MDS_CURRENT_LOCATION_TEXT:\"Message point processing result ED\",ACTIVE:true,PLCIN:\"125001\",BODY_EXTID:\"78202092933865\",BODY_ID:842377,DOCNUM:12058577,COLOR_CODE:\"KTL \",MODSTR:\"Row inserted by AMF_BTS_COLOR_PCK.PROCESS_LACK_D.\",LACK_SEND:4,CREATED:new Date(1594770670000),SKID_EXTID:148,COLOR_ID:891,MODDATE:new Date(1594770670000),SKID_TYPE:\"EC\",RESULT:\"O\"},{SKID_ID:640,SHUTTLE_NO:\"   \",COLOR_QUANTITY:1804,MDS_CURRENT_LOCATION_TEXT:\"Message point processing result GAD Robots exterior line 2\",ACTIVE:true,PLCIN:\"155001\",BODY_EXTID:\"78202092932998\",BODY_ID:842281,DOCNUM:12058578,COLOR_CODE:\"UBS \",MODSTR:\"Row inserted by AMF_BTS_COLOR_PCK.PROCESS_LACK_D.\",LACK_SEND:3,CREATED:new Date(1594770673000),SKID_EXTID:1,COLOR_ID:882,MODDATE:new Date(1594770673000),SKID_TYPE:\"PV\",RESULT:\"N\"},{SKID_ID:3620,SHUTTLE_NO:\"053\",COLOR_QUANTITY:1634,MDS_CURRENT_LOCATION_TEXT:\"Message point processing result ED\",ACTIVE:true,PLCIN:\"125001\",BODY_EXTID:\"78202092933872\",BODY_ID:842378,DOCNUM:12058579,COLOR_CODE:\"KTL \",MODSTR:\"Row inserted by AMF_BTS_COLOR_PCK.PROCESS_LACK_D.\",LACK_SEND:4,CREATED:new Date(1594770724000),SKID_EXTID:93,COLOR_ID:891,MODDATE:new Date(1594770724000),SKID_TYPE:\"EC\",RESULT:\"O\"},{SKID_ID:640,SHUTTLE_NO:\"   \",COLOR_QUANTITY:3188,MDS_CURRENT_LOCATION_TEXT:\"Message point processing result UBS Robots exterior line 2\",ACTIVE:true,PLCIN:\"155002\",BODY_EXTID:\"78202092932998\",BODY_ID:842281,DOCNUM:12058580,COLOR_CODE:\"UBS \",MODSTR:\"Row inserted by AMF_BTS_COLOR_PCK.PROCESS_LACK_D.\",LACK_SEND:3,CREATED:new Date(1594770774000),SKID_EXTID:1,COLOR_ID:882,MODDATE:new Date(1594770774000),SKID_TYPE:\"PV\",RESULT:\"N\"},{SKID_ID:3756,SHUTTLE_NO:\"064\",COLOR_QUANTITY:1613,MDS_CURRENT_LOCATION_TEXT:\"Message point processing result ED\",ACTIVE:true,PLCIN:\"125001\",BODY_EXTID:\"78202092933889\",BODY_ID:842379,DOCNUM:12058581,COLOR_CODE:\"KTL \",MODSTR:\"Row inserted by AMF_BTS_COLOR_PCK.PROCESS_LACK_D.\",LACK_SEND:4,CREATED:new Date(1594770776000),SKID_EXTID:214,COLOR_ID:891,MODDATE:new Date(1594770776000),SKID_TYPE:\"EC\",RESULT:\"O\"},{SKID_ID:10277,SHUTTLE_NO:\"   \",COLOR_QUANTITY:0,MDS_CURRENT_LOCATION_TEXT:\"Message point processing result seam sealing check Robot\",ACTIVE:true,PLCIN:\"372001\",BODY_EXTID:\"78202092933162\",BODY_ID:842299,DOCNUM:12058582,COLOR_CODE:\"UBS \",MODSTR:\"Row inserted by AMF_BTS_COLOR_PCK.PROCESS_LACK_D.\",LACK_SEND:3,CREATED:new Date(1594770812000),SKID_EXTID:227,COLOR_ID:882,MODDATE:new Date(1594770812000),SKID_TYPE:\"EC\",RESULT:\"N\"},{SKID_ID:3542,SHUTTLE_NO:\"042\",COLOR_QUANTITY:1629,MDS_CURRENT_LOCATION_TEXT:\"Message point processing result ED\",ACTIVE:true,PLCIN:\"125001\",BODY_EXTID:\"78202092933896\",BODY_ID:842380,DOCNUM:12058583,COLOR_CODE:\"KTL \",MODSTR:\"Row inserted by AMF_BTS_COLOR_PCK.PROCESS_LACK_D.\",LACK_SEND:4,CREATED:new Date(1594770830000),SKID_EXTID:82,COLOR_ID:891,MODDATE:new Date(1594770830000),SKID_TYPE:\"EC\",RESULT:\"O\"},{SKID_ID:10287,SHUTTLE_NO:\"   \",COLOR_QUANTITY:0,MDS_CURRENT_LOCATION_TEXT:\"Message point processing result seam sealing check Robot\",ACTIVE:true,PLCIN:\"372001\",BODY_EXTID:\"78202092903998\",BODY_ID:842298,DOCNUM:12058584,COLOR_CODE:\"UBS \",MODSTR:\"Row inserted by AMF_BTS_COLOR_PCK.PROCESS_LACK_D.\",LACK_SEND:3,CREATED:new Date(1594770860000),SKID_EXTID:114,COLOR_ID:882,MODDATE:new Date(1594770860000),SKID_TYPE:\"EC\",RESULT:\"N\"},{SKID_ID:7603,SHUTTLE_NO:\"057\",COLOR_QUANTITY:1636,MDS_CURRENT_LOCATION_TEXT:\"Message point processing result ED\",ACTIVE:true,PLCIN:\"125001\",BODY_EXTID:\"78202092933902\",BODY_ID:842381,DOCNUM:12058585,COLOR_CODE:\"KTL \",MODSTR:\"Row inserted by AMF_BTS_COLOR_PCK.PROCESS_LACK_D.\",LACK_SEND:4,CREATED:new Date(1594770883000),SKID_EXTID:69,COLOR_ID:891,MODDATE:new Date(1594770883000),SKID_TYPE:\"EC\",RESULT:\"O\"},{SKID_ID:4206,SHUTTLE_NO:\"   \",COLOR_QUANTITY:1977,MDS_CURRENT_LOCATION_TEXT:\"Message point processing result GAD Robots exterior line 2\",ACTIVE:true,PLCIN:\"155001\",BODY_EXTID:\"78202092932981\",BODY_ID:842280,DOCNUM:12058586,COLOR_CODE:\"UBS \",MODSTR:\"Row inserted by AMF_BTS_COLOR_PCK.PROCESS_LACK_D.\",LACK_SEND:3,CREATED:new Date(1594770892000),SKID_EXTID:20,COLOR_ID:882,MODDATE:new Date(1594770892000),SKID_TYPE:\"PV\",RESULT:\"N\"},{SKID_ID:7601,SHUTTLE_NO:\"   \",COLOR_QUANTITY:0,MDS_CURRENT_LOCATION_TEXT:\"Message point processing result seam sealing check Robot\",ACTIVE:true,PLCIN:\"372001\",BODY_EXTID:\"78202092904001\",BODY_ID:842301,DOCNUM:12058587,COLOR_CODE:\"UBS \",MODSTR:\"Row inserted by AMF_BTS_COLOR_PCK.PROCESS_LACK_D.\",LACK_SEND:3,CREATED:new Date(1594770931000),SKID_EXTID:218,COLOR_ID:882,MODDATE:new Date(1594770931000),SKID_TYPE:\"EC\",RESULT:\"N\"},{SKID_ID:8009,SHUTTLE_NO:\"062\",COLOR_QUANTITY:2137,MDS_CURRENT_LOCATION_TEXT:\"Message point processing result ED\",ACTIVE:true,PLCIN:\"125001\",BODY_EXTID:\"78202092933919\",BODY_ID:842382,DOCNUM:12058588,COLOR_CODE:\"KTL \",MODSTR:\"Row inserted by AMF_BTS_COLOR_PCK.PROCESS_LACK_D.\",LACK_SEND:4,CREATED:new Date(1594770935000),SKID_EXTID:117,COLOR_ID:891,MODDATE:new Date(1594770935000),SKID_TYPE:\"EC\",RESULT:\"O\"},{SKID_ID:652,SHUTTLE_NO:\"   \",COLOR_QUANTITY:2120,MDS_CURRENT_LOCATION_TEXT:\"Message point processing result GAD Robots exterior line 2\",ACTIVE:true,PLCIN:\"155001\",BODY_EXTID:\"78202092933001\",BODY_ID:842282,DOCNUM:12058589,COLOR_CODE:\"UBS \",MODSTR:\"Row inserted by AMF_BTS_COLOR_PCK.PROCESS_LACK_D.\",LACK_SEND:3,CREATED:new Date(1594770967000),SKID_EXTID:3,COLOR_ID:882,MODDATE:new Date(1594770967000),SKID_TYPE:\"PV\",RESULT:\"N\"},{SKID_ID:4868,SHUTTLE_NO:\"   \",COLOR_QUANTITY:0,MDS_CURRENT_LOCATION_TEXT:\"Message point processing result seam sealing check Robot\",ACTIVE:true,PLCIN:\"372001\",BODY_EXTID:\"78202092933179\",BODY_ID:842300,DOCNUM:12058590,COLOR_CODE:\"UBS \",MODSTR:\"Row inserted by AMF_BTS_COLOR_PCK.PROCESS_LACK_D.\",LACK_SEND:3,CREATED:new Date(1594770979000),SKID_EXTID:59,COLOR_ID:882,MODDATE:new Date(1594770979000),SKID_TYPE:\"EC\",RESULT:\"N\"},{SKID_ID:4206,SHUTTLE_NO:\"   \",COLOR_QUANTITY:3172,MDS_CURRENT_LOCATION_TEXT:\"Message point processing result UBS Robots exterior line 2\",ACTIVE:true,PLCIN:\"155002\",BODY_EXTID:\"78202092932981\",BODY_ID:842280,DOCNUM:12058591,COLOR_CODE:\"UBS \",MODSTR:\"Row inserted by AMF_BTS_COLOR_PCK.PROCESS_LACK_D.\",LACK_SEND:3,CREATED:new Date(1594770992000),SKID_EXTID:20,COLOR_ID:882,MODDATE:new Date(1594770992000),SKID_TYPE:\"PV\",RESULT:\"N\"},{SKID_ID:3965,SHUTTLE_NO:\"   \",COLOR_QUANTITY:0,MDS_CURRENT_LOCATION_TEXT:\"Message point processing result seam sealing check Robot\",ACTIVE:true,PLCIN:\"372001\",BODY_EXTID:\"78202092933193\",BODY_ID:842303,DOCNUM:12058592,COLOR_CODE:\"UBS \",MODSTR:\"Row inserted by AMF_BTS_COLOR_PCK.PROCESS_LACK_D.\",LACK_SEND:3,CREATED:new Date(1594771031000),SKID_EXTID:141,COLOR_ID:882,MODDATE:new Date(1594771031000),SKID_TYPE:\"EC\",RESULT:\"N\"},{SKID_ID:5295,SHUTTLE_NO:\"041\",COLOR_QUANTITY:1613,MDS_CURRENT_LOCATION_TEXT:\"Message point processing result ED\",ACTIVE:true,PLCIN:\"125001\",BODY_EXTID:\"78202092933926\",BODY_ID:842383,DOCNUM:12058593,COLOR_CODE:\"KTL \",MODSTR:\"Row inserted by AMF_BTS_COLOR_PCK.PROCESS_LACK_D.\",LACK_SEND:4,CREATED:new Date(1594771050000),SKID_EXTID:27,COLOR_ID:891,MODDATE:new Date(1594771050000),SKID_TYPE:\"EC\",RESULT:\"O\"},{SKID_ID:3641,SHUTTLE_NO:\"   \",COLOR_QUANTITY:0,MDS_CURRENT_LOCATION_TEXT:\"Message point processing result seam sealing check Robot\",ACTIVE:true,PLCIN:\"372001\",BODY_EXTID:\"78202092933186\",BODY_ID:842302,DOCNUM:12058594,COLOR_CODE:\"UBS \",MODSTR:\"Row inserted by AMF_BTS_COLOR_PCK.PROCESS_LACK_D.\",LACK_SEND:3,CREATED:new Date(1594771079000),SKID_EXTID:181,COLOR_ID:882,MODDATE:new Date(1594771079000),SKID_TYPE:\"EC\",RESULT:\"N\"},{SKID_ID:3691,SHUTTLE_NO:\"055\",COLOR_QUANTITY:1626,MDS_CURRENT_LOCATION_TEXT:\"Message point processing result ED\",ACTIVE:true,PLCIN:\"125001\",BODY_EXTID:\"78202092933933\",BODY_ID:842384,DOCNUM:12058595,COLOR_CODE:\"KTL \",MODSTR:\"Row inserted by AMF_BTS_COLOR_PCK.PROCESS_LACK_D.\",LACK_SEND:4,CREATED:new Date(1594771103000),SKID_EXTID:240,COLOR_ID:891,MODDATE:new Date(1594771103000),SKID_TYPE:\"EC\",RESULT:\"O\"},{SKID_ID:8218,SHUTTLE_NO:\"000\",COLOR_QUANTITY:0,MDS_CURRENT_LOCATION_TEXT:\"Message point processing result pre- paint Robots line 2\",ACTIVE:true,PLCIN:\"344001\",BODY_EXTID:\"78202092931960\",BODY_ID:842168,DOCNUM:12058597,COLOR_CODE:\"VL02\",MODSTR:\"Row inserted by AMF_BTS_COLOR_PCK.PROCESS_LACK_D.\",LACK_SEND:1,CREATED:new Date(1594771130000),SKID_EXTID:2017,COLOR_ID:895,MODDATE:new Date(1594771130000),SKID_TYPE:\"TC\",RESULT:\"N\"},{SKID_ID:3712,SHUTTLE_NO:\"   \",COLOR_QUANTITY:0,MDS_CURRENT_LOCATION_TEXT:\"Message point processing result seam sealing check Robot\",ACTIVE:true,PLCIN:\"372001\",BODY_EXTID:\"78202092933209\",BODY_ID:842305,DOCNUM:12058596,COLOR_CODE:\"UBS \",MODSTR:\"Row inserted by AMF_BTS_COLOR_PCK.PROCESS_LACK_D.\",LACK_SEND:3,CREATED:new Date(1594771130000),SKID_EXTID:166,COLOR_ID:882,MODDATE:new Date(1594771130000),SKID_TYPE:\"EC\",RESULT:\"N\"},{SKID_ID:7712,SHUTTLE_NO:\"058\",COLOR_QUANTITY:1627,MDS_CURRENT_LOCATION_TEXT:\"Message point processing result ED\",ACTIVE:true,PLCIN:\"125001\",BODY_EXTID:\"78202092930901\",BODY_ID:842385,DOCNUM:12058598,COLOR_CODE:\"KTL \",MODSTR:\"Row inserted by AMF_BTS_COLOR_PCK.PROCESS_LACK_D.\",LACK_SEND:4,CREATED:new Date(1594771156000),SKID_EXTID:157,COLOR_ID:891,MODDATE:new Date(1594771156000),SKID_TYPE:\"EC\",RESULT:\"O\"},{SKID_ID:3747,SHUTTLE_NO:\"   \",COLOR_QUANTITY:0,MDS_CURRENT_LOCATION_TEXT:\"Message point processing result seam sealing check Robot\",ACTIVE:true,PLCIN:\"372001\",BODY_EXTID:\"78202092904032\",BODY_ID:842304,DOCNUM:12058599,COLOR_CODE:\"UBS \",MODSTR:\"Row inserted by AMF_BTS_COLOR_PCK.PROCESS_LACK_D.\",LACK_SEND:3,CREATED:new Date(1594771180000),SKID_EXTID:113,COLOR_ID:882,MODDATE:new Date(1594771180000),SKID_TYPE:\"EC\",RESULT:\"N\"},{SKID_ID:4169,SHUTTLE_NO:\"000\",COLOR_QUANTITY:0,MDS_CURRENT_LOCATION_TEXT:\"Message point processing result pre- paint Robots line 1\",ACTIVE:true,PLCIN:\"244001\",BODY_EXTID:\"78202092932202\",BODY_ID:842192,DOCNUM:12058600,COLOR_CODE:\"    \",MODSTR:\"Row inserted by AMF_BTS_COLOR_PCK.PROCESS_LACK_D.\",LACK_SEND:1,CREATED:new Date(1594771197000),SKID_EXTID:2477,COLOR_ID:1041,MODDATE:new Date(1594771197000),SKID_TYPE:\"TC\",RESULT:\"N\"},{SKID_ID:13025,SHUTTLE_NO:\"000\",COLOR_QUANTITY:0,MDS_CURRENT_LOCATION_TEXT:\"Message point processing result pre- paint Robots line 2\",ACTIVE:true,PLCIN:\"344001\",BODY_EXTID:\"78202092931984\",BODY_ID:842170,DOCNUM:12058601,COLOR_CODE:\"VL02\",MODSTR:\"Row inserted by AMF_BTS_COLOR_PCK.PROCESS_LACK_D.\",LACK_SEND:1,CREATED:new Date(1594771202000),SKID_EXTID:2246,COLOR_ID:895,MODDATE:new Date(1594771202000),SKID_TYPE:\"TC\",RESULT:\"N\"},{SKID_ID:5293,SHUTTLE_NO:\"060\",COLOR_QUANTITY:1609,MDS_CURRENT_LOCATION_TEXT:\"Message point processing result ED\",ACTIVE:true,PLCIN:\"125001\",BODY_EXTID:\"78202092933940\",BODY_ID:842386,DOCNUM:12058602,COLOR_CODE:\"KTL \",MODSTR:\"Row inserted by AMF_BTS_COLOR_PCK.PROCESS_LACK_D.\",LACK_SEND:4,CREATED:new Date(1594771210000),SKID_EXTID:135,COLOR_ID:891,MODDATE:new Date(1594771210000),SKID_TYPE:\"EC\",RESULT:\"O\"},{SKID_ID:8218,SHUTTLE_NO:\"000\",COLOR_QUANTITY:393,MDS_CURRENT_LOCATION_TEXT:\"Message point processing result BC Robots interior 1 line 2\",ACTIVE:true,PLCIN:\"345001\",BODY_EXTID:\"78202092931960\",BODY_ID:842168,DOCNUM:12058603,COLOR_CODE:\"P1P1\",MODSTR:\"Row inserted by AMF_BTS_COLOR_PCK.PROCESS_LACK_D.\",LACK_SEND:1,CREATED:new Date(1594771230000),SKID_EXTID:2017,COLOR_ID:885,MODDATE:new Date(1594771230000),SKID_TYPE:\"TC\",RESULT:\"F\"},{SKID_ID:6051,SHUTTLE_NO:\"   \",COLOR_QUANTITY:0,MDS_CURRENT_LOCATION_TEXT:\"Message point processing result seam sealing check Robot\",ACTIVE:true,PLCIN:\"372001\",BODY_EXTID:\"78202092904056\",BODY_ID:842307,DOCNUM:12058604,COLOR_CODE:\"UBS \",MODSTR:\"Row inserted by AMF_BTS_COLOR_PCK.PROCESS_LACK_D.\",LACK_SEND:3,CREATED:new Date(1594771232000),SKID_EXTID:180,COLOR_ID:882,MODDATE:new Date(1594771232000),SKID_TYPE:\"EC\",RESULT:\"N\"},{SKID_ID:8614,SHUTTLE_NO:\"052\",COLOR_QUANTITY:1627,MDS_CURRENT_LOCATION_TEXT:\"Message point processing result ED\",ACTIVE:true,PLCIN:\"125001\",BODY_EXTID:\"78202092933957\",BODY_ID:842387,DOCNUM:12058605,COLOR_CODE:\"KTL \",MODSTR:\"Row inserted by AMF_BTS_COLOR_PCK.PROCESS_LACK_D.\",LACK_SEND:4,CREATED:new Date(1594771263000),SKID_EXTID:243,COLOR_ID:891,MODDATE:new Date(1594771263000),SKID_TYPE:\"EC\",RESULT:\"O\"},{SKID_ID:13257,SHUTTLE_NO:\"000\",COLOR_QUANTITY:0,MDS_CURRENT_LOCATION_TEXT:\"Message point processing result pre- paint Robots line 1\",ACTIVE:true,PLCIN:\"244001\",BODY_EXTID:\"78202092932219\",BODY_ID:842193,DOCNUM:12058606,COLOR_CODE:\"    \",MODSTR:\"Row inserted by AMF_BTS_COLOR_PCK.PROCESS_LACK_D.\",LACK_SEND:1,CREATED:new Date(1594771271000),SKID_EXTID:2151,COLOR_ID:1041,MODDATE:new Date(1594771271000),SKID_TYPE:\"TC\",RESULT:\"N\"},{SKID_ID:3755,SHUTTLE_NO:\"000\",COLOR_QUANTITY:0,MDS_CURRENT_LOCATION_TEXT:\"Message point processing result pre- paint Robots line 2\",ACTIVE:true,PLCIN:\"344001\",BODY_EXTID:\"78202092932004\",BODY_ID:842172,DOCNUM:12058608,COLOR_CODE:\"VL02\",MODSTR:\"Row inserted by AMF_BTS_COLOR_PCK.PROCESS_LACK_D.\",LACK_SEND:1,CREATED:new Date(1594771276000),SKID_EXTID:2149,COLOR_ID:895,MODDATE:new Date(1594771276000),SKID_TYPE:\"TC\",RESULT:\"N\"},{SKID_ID:4169,SHUTTLE_NO:\"000\",COLOR_QUANTITY:387,MDS_CURRENT_LOCATION_TEXT:\"Message point processing result BC Robots interior 1 line 1\",ACTIVE:true,PLCIN:\"245001\",BODY_EXTID:\"78202092932202\",BODY_ID:842192,DOCNUM:12058607,COLOR_CODE:\"P1P1\",MODSTR:\"Row inserted by AMF_BTS_COLOR_PCK.PROCESS_LACK_D.\",LACK_SEND:1,CREATED:new Date(1594771276000),SKID_EXTID:2477,COLOR_ID:885,MODDATE:new Date(1594771276000),SKID_TYPE:\"TC\",RESULT:\"F\"},{SKID_ID:8647,SHUTTLE_NO:\"000\",COLOR_QUANTITY:0,MDS_CURRENT_LOCATION_TEXT:\"Message point processing result BC Robots Spraymate line 2\",ACTIVE:true,PLCIN:\"346002\",BODY_EXTID:\"78202092932028\",BODY_ID:842174,DOCNUM:12058685,COLOR_CODE:\"P1P1\",MODSTR:\"Row inserted by AMF_BTS_COLOR_PCK.PROCESS_LACK_D.\",LACK_SEND:1,CREATED:new Date(1594771277000),SKID_EXTID:2059,COLOR_ID:885,MODDATE:new Date(1594771277000),SKID_TYPE:\"TC\",RESULT:\"N\"},{SKID_ID:8218,SHUTTLE_NO:\"000\",COLOR_QUANTITY:518,MDS_CURRENT_LOCATION_TEXT:\"Message point processing result BC Robots interior 2 line 2\",ACTIVE:true,PLCIN:\"345002\",BODY_EXTID:\"78202092931960\",BODY_ID:842168,DOCNUM:12058609,COLOR_CODE:\"P1P1\",MODSTR:\"Row inserted by AMF_BTS_COLOR_PCK.PROCESS_LACK_D.\",LACK_SEND:1,CREATED:new Date(1594771278000),SKID_EXTID:2017,COLOR_ID:885,MODDATE:new Date(1594771278000),SKID_TYPE:\"TC\",RESULT:\"F\"},{SKID_ID:6556,SHUTTLE_NO:\"   \",COLOR_QUANTITY:0,MDS_CURRENT_LOCATION_TEXT:\"Message point processing result seam sealing check Robot\",ACTIVE:true,PLCIN:\"372001\",BODY_EXTID:\"78202092933216\",BODY_ID:842306,DOCNUM:12058610,COLOR_CODE:\"UBS \",MODSTR:\"Row inserted by AMF_BTS_COLOR_PCK.PROCESS_LACK_D.\",LACK_SEND:3,CREATED:new Date(1594771286000),SKID_EXTID:46,COLOR_ID:882,MODDATE:new Date(1594771286000),SKID_TYPE:\"EC\",RESULT:\"N\"},{SKID_ID:13025,SHUTTLE_NO:\"000\",COLOR_QUANTITY:393,MDS_CURRENT_LOCATION_TEXT:\"Message point processing result BC Robots interior 1 line 2\",ACTIVE:true,PLCIN:\"345001\",BODY_EXTID:\"78202092931984\",BODY_ID:842170,DOCNUM:12058611,COLOR_CODE:\"P1P1\",MODSTR:\"Row inserted by AMF_BTS_COLOR_PCK.PROCESS_LACK_D.\",LACK_SEND:1,CREATED:new Date(1594771297000),SKID_EXTID:2246,COLOR_ID:885,MODDATE:new Date(1594771297000),SKID_TYPE:\"TC\",RESULT:\"F\"},{SKID_ID:6946,SHUTTLE_NO:\"061\",COLOR_QUANTITY:1634,MDS_CURRENT_LOCATION_TEXT:\"Message point processing result ED\",ACTIVE:true,PLCIN:\"125001\",BODY_EXTID:\"78202092933964\",BODY_ID:842388,DOCNUM:12058612,COLOR_CODE:\"KTL \",MODSTR:\"Row inserted by AMF_BTS_COLOR_PCK.PROCESS_LACK_D.\",LACK_SEND:4,CREATED:new Date(1594771316000),SKID_EXTID:247,COLOR_ID:891,MODDATE:new Date(1594771316000),SKID_TYPE:\"EC\",RESULT:\"O\"},{SKID_ID:6950,SHUTTLE_NO:\"   \",COLOR_QUANTITY:1359,MDS_CURRENT_LOCATION_TEXT:\"Message point processing result GAD interior Robots line 1\",ACTIVE:true,PLCIN:\"146001\",BODY_EXTID:\"78202092932691\",BODY_ID:842254,DOCNUM:12058613,COLOR_CODE:\"UBS \",MODSTR:\"Row inserted by AMF_BTS_COLOR_PCK.PROCESS_LACK_D.\",LACK_SEND:3,CREATED:new Date(1594771316000),SKID_EXTID:2418,COLOR_ID:882,MODDATE:new Date(1594771316000),SKID_TYPE:\"TC\",RESULT:\"N\"},{SKID_ID:3910,SHUTTLE_NO:\"   \",COLOR_QUANTITY:0,MDS_CURRENT_LOCATION_TEXT:\"Message point processing result seam sealing check Robot\",ACTIVE:true,PLCIN:\"372001\",BODY_EXTID:\"78202092933230\",BODY_ID:842309,DOCNUM:12058614,COLOR_CODE:\"UBS \",MODSTR:\"Row inserted by AMF_BTS_COLOR_PCK.PROCESS_LACK_D.\",LACK_SEND:3,CREATED:new Date(1594771335000),SKID_EXTID:183,COLOR_ID:882,MODDATE:new Date(1594771335000),SKID_TYPE:\"EC\",RESULT:\"N\"},{SKID_ID:8619,SHUTTLE_NO:\"063\",COLOR_QUANTITY:1635,MDS_CURRENT_LOCATION_TEXT:\"Message point processing result ED\",ACTIVE:true,PLCIN:\"125001\",BODY_EXTID:\"78202092933971\",BODY_ID:842389,DOCNUM:12058615,COLOR_CODE:\"KTL \",MODSTR:\"Row inserted by AMF_BTS_COLOR_PCK.PROCESS_LACK_D.\",LACK_SEND:4,CREATED:new Date(1594771369000),SKID_EXTID:192,COLOR_ID:891,MODDATE:new Date(1594771369000),SKID_TYPE:\"EC\",RESULT:\"O\"},{SKID_ID:8647,SHUTTLE_NO:\"000\",COLOR_QUANTITY:0,MDS_CURRENT_LOCATION_TEXT:\"Message point processing result pre- paint Robots line 2\",ACTIVE:true,PLCIN:\"344001\",BODY_EXTID:\"78202092932028\",BODY_ID:842174,DOCNUM:12058616,COLOR_CODE:\"VL02\",MODSTR:\"Row inserted by AMF_BTS_COLOR_PCK.PROCESS_LACK_D.\",LACK_SEND:1,CREATED:new Date(1594771385000),SKID_EXTID:2059,COLOR_ID:895,MODDATE:new Date(1594771385000),SKID_TYPE:\"TC\",RESULT:\"N\"},{SKID_ID:13257,SHUTTLE_NO:\"000\",COLOR_QUANTITY:387,MDS_CURRENT_LOCATION_TEXT:\"Message point processing result BC Robots interior 1 line 1\",ACTIVE:true,PLCIN:\"245001\",BODY_EXTID:\"78202092932219\",BODY_ID:842193,DOCNUM:12058617,COLOR_CODE:\"P1P1\",MODSTR:\"Row inserted by AMF_BTS_COLOR_PCK.PROCESS_LACK_D.\",LACK_SEND:1,CREATED:new Date(1594771406000),SKID_EXTID:2151,COLOR_ID:885,MODDATE:new Date(1594771406000),SKID_TYPE:\"TC\",RESULT:\"F\"},{SKID_ID:4169,SHUTTLE_NO:\"000\",COLOR_QUANTITY:517,MDS_CURRENT_LOCATION_TEXT:\"Message point processing result BC Robots interior 2 line 1\",ACTIVE:true,PLCIN:\"245002\",BODY_EXTID:\"78202092932202\",BODY_ID:842192,DOCNUM:12058618,COLOR_CODE:\"P1P1\",MODSTR:\"Row inserted by AMF_BTS_COLOR_PCK.PROCESS_LACK_D.\",LACK_SEND:1,CREATED:new Date(1594771409000),SKID_EXTID:2477,COLOR_ID:885,MODDATE:new Date(1594771409000),SKID_TYPE:\"TC\",RESULT:\"F\"},{SKID_ID:10402,SHUTTLE_NO:\"   \",COLOR_QUANTITY:1186,MDS_CURRENT_LOCATION_TEXT:\"Message point processing result GAD interior Robots line 2\",ACTIVE:true,PLCIN:\"156001\",BODY_EXTID:\"78202092932851\",BODY_ID:842268,DOCNUM:12058619,COLOR_CODE:\"UBS \",MODSTR:\"Row inserted by AMF_BTS_COLOR_PCK.PROCESS_LACK_D.\",LACK_SEND:3,CREATED:new Date(1594771415000),SKID_EXTID:2393,COLOR_ID:882,MODDATE:new Date(1594771415000),SKID_TYPE:\"TC\",RESULT:\"N\"},{SKID_ID:1102,SHUTTLE_NO:\"000\",COLOR_QUANTITY:0,MDS_CURRENT_LOCATION_TEXT:\"Message point processing result pre- paint Robots line 1\",ACTIVE:true,PLCIN:\"244001\",BODY_EXTID:\"78202092919791\",BODY_ID:842195,DOCNUM:12058620,COLOR_CODE:\"    \",MODSTR:\"Row inserted by AMF_BTS_COLOR_PCK.PROCESS_LACK_D.\",LACK_SEND:1,CREATED:new Date(1594771416000),SKID_EXTID:2283,COLOR_ID:1041,MODDATE:new Date(1594771416000),SKID_TYPE:\"TC\",RESULT:\"N\"},{SKID_ID:13025,SHUTTLE_NO:\"000\",COLOR_QUANTITY:518,MDS_CURRENT_LOCATION_TEXT:\"Message point processing result BC Robots interior 2 line 2\",ACTIVE:true,PLCIN:\"345002\",BODY_EXTID:\"78202092931984\",BODY_ID:842170,DOCNUM:12058621,COLOR_CODE:\"P1P1\",MODSTR:\"Row inserted by AMF_BTS_COLOR_PCK.PROCESS_LACK_D.\",LACK_SEND:1,CREATED:new Date(1594771422000),SKID_EXTID:2246,COLOR_ID:885,MODDATE:new Date(1594771422000),SKID_TYPE:\"TC\",RESULT:\"F\"},{SKID_ID:7478,SHUTTLE_NO:\"054\",COLOR_QUANTITY:1616,MDS_CURRENT_LOCATION_TEXT:\"Message point processing result ED\",ACTIVE:true,PLCIN:\"125001\",BODY_EXTID:\"78202092933988\",BODY_ID:842390,DOCNUM:12058622,COLOR_CODE:\"KTL \",MODSTR:\"Row inserted by AMF_BTS_COLOR_PCK.PROCESS_LACK_D.\",LACK_SEND:4,CREATED:new Date(1594771423000),SKID_EXTID:21,COLOR_ID:891,MODDATE:new Date(1594771423000),SKID_TYPE:\"EC\",RESULT:\"O\"},{SKID_ID:3755,SHUTTLE_NO:\"000\",COLOR_QUANTITY:393,MDS_CURRENT_LOCATION_TEXT:\"Message point processing result BC Robots interior 1 line 2\",ACTIVE:true,PLCIN:\"345001\",BODY_EXTID:\"78202092932004\",BODY_ID:842172,DOCNUM:12058623,COLOR_CODE:\"P1P1\",MODSTR:\"Row inserted by AMF_BTS_COLOR_PCK.PROCESS_LACK_D.\",LACK_SEND:1,CREATED:new Date(1594771428000),SKID_EXTID:2149,COLOR_ID:885,MODDATE:new Date(1594771428000),SKID_TYPE:\"TC\",RESULT:\"F\"},{SKID_ID:8218,SHUTTLE_NO:\"000\",COLOR_QUANTITY:1071,MDS_CURRENT_LOCATION_TEXT:\"Message point processing result BC Robots exterior line 2\",ACTIVE:true,PLCIN:\"346001\",BODY_EXTID:\"78202092931960\",BODY_ID:842168,DOCNUM:12058624,COLOR_CODE:\"P1P1\",MODSTR:\"Row inserted by AMF_BTS_COLOR_PCK.PROCESS_LACK_D.\",LACK_SEND:1,CREATED:new Date(1594771434000),SKID_EXTID:2017,COLOR_ID:885,MODDATE:new Date(1594771434000),SKID_TYPE:\"TC\",RESULT:\"F\"},{SKID_ID:7068,SHUTTLE_NO:\"   \",COLOR_QUANTITY:1436,MDS_CURRENT_LOCATION_TEXT:\"Message point processing result GAD interior Robots line 1\",ACTIVE:true,PLCIN:\"146001\",BODY_EXTID:\"78202092932714\",BODY_ID:842256,DOCNUM:12058625,COLOR_CODE:\"UBS \",MODSTR:\"Row inserted by AMF_BTS_COLOR_PCK.PROCESS_LACK_D.\",LACK_SEND:3,CREATED:new Date(1594771461000),SKID_EXTID:2386,COLOR_ID:882,MODDATE:new Date(1594771461000),SKID_TYPE:\"TC\",RESULT:\"N\"},{SKID_ID:1102,SHUTTLE_NO:\"000\",COLOR_QUANTITY:387,MDS_CURRENT_LOCATION_TEXT:\"Message point processing result BC Robots interior 1 line 1\",ACTIVE:true,PLCIN:\"245001\",BODY_EXTID:\"78202092919791\",BODY_ID:842195,DOCNUM:12058626,COLOR_CODE:\"P1P1\",MODSTR:\"Row inserted by AMF_BTS_COLOR_PCK.PROCESS_LACK_D.\",LACK_SEND:1,CREATED:new Date(1594771472000),SKID_EXTID:2283,COLOR_ID:885,MODDATE:new Date(1594771472000),SKID_TYPE:\"TC\",RESULT:\"F\"},{SKID_ID:13316,SHUTTLE_NO:\"000\",COLOR_QUANTITY:923,MDS_CURRENT_LOCATION_TEXT:\"Message point processing result rocker panel Robots\",ACTIVE:true,PLCIN:\"147001\",BODY_EXTID:\"78202092928380\",BODY_ID:842235,DOCNUM:12058638,COLOR_CODE:\"P1P1\",MODSTR:\"Row inserted by AMF_BTS_COLOR_PCK.PROCESS_LACK_D.\",LACK_SEND:3,CREATED:new Date(1594771476000),SKID_EXTID:2181,COLOR_ID:885,MODDATE:new Date(1594771476000),SKID_TYPE:\"TC\",RESULT:\"N\"},{SKID_ID:7600,SHUTTLE_NO:\"046\",COLOR_QUANTITY:1626,MDS_CURRENT_LOCATION_TEXT:\"Message point processing result ED\",ACTIVE:true,PLCIN:\"125001\",BODY_EXTID:\"78202092933995\",BODY_ID:842391,DOCNUM:12058627,COLOR_CODE:\"KTL \",MODSTR:\"Row inserted by AMF_BTS_COLOR_PCK.PROCESS_LACK_D.\",LACK_SEND:4,CREATED:new Date(1594771478000),SKID_EXTID:107,COLOR_ID:891,MODDATE:new Date(1594771478000),SKID_TYPE:\"EC\",RESULT:\"O\"},{SKID_ID:860,SHUTTLE_NO:\"   \",COLOR_QUANTITY:2909,MDS_CURRENT_LOCATION_TEXT:\"Message point processing result UBS Robots exterior line 1\",ACTIVE:true,PLCIN:\"145002\",BODY_EXTID:\"78202092932905\",BODY_ID:842273,DOCNUM:12058628,COLOR_CODE:\"UBS \",MODSTR:\"Row inserted by AMF_BTS_COLOR_PCK.PROCESS_LACK_D.\",LACK_SEND:3,CREATED:new Date(1594771480000),SKID_EXTID:21,COLOR_ID:882,MODDATE:new Date(1594771480000),SKID_TYPE:\"PV\",RESULT:\"N\"},{SKID_ID:13257,SHUTTLE_NO:\"000\",COLOR_QUANTITY:517,MDS_CURRENT_LOCATION_TEXT:\"Message point processing result BC Robots interior 2 line 1\",ACTIVE:true,PLCIN:\"245002\",BODY_EXTID:\"78202092932219\",BODY_ID:842193,DOCNUM:12058629,COLOR_CODE:\"P1P1\",MODSTR:\"Row inserted by AMF_BTS_COLOR_PCK.PROCESS_LACK_D.\",LACK_SEND:1,CREATED:new Date(1594771484000),SKID_EXTID:2151,COLOR_ID:885,MODDATE:new Date(1594771484000),SKID_TYPE:\"TC\",RESULT:\"F\"},{SKID_ID:3310,SHUTTLE_NO:\"000\",COLOR_QUANTITY:0,MDS_CURRENT_LOCATION_TEXT:\"Message point processing result pre- paint Robots line 1\",ACTIVE:true,PLCIN:\"244001\",BODY_EXTID:\"78202092932240\",BODY_ID:842197,DOCNUM:12058630,COLOR_CODE:\"    \",MODSTR:\"Row inserted by AMF_BTS_COLOR_PCK.PROCESS_LACK_D.\",LACK_SEND:1,CREATED:new Date(1594771489000),SKID_EXTID:2161,COLOR_ID:1041,MODDATE:new Date(1594771489000),SKID_TYPE:\"TC\",RESULT:\"N\"},{SKID_ID:8218,SHUTTLE_NO:\"000\",COLOR_QUANTITY:0,MDS_CURRENT_LOCATION_TEXT:\"Message point processing result BC Robots Spraymate line 2\",ACTIVE:true,PLCIN:\"346002\",BODY_EXTID:\"78202092931960\",BODY_ID:842168,DOCNUM:12058631,COLOR_CODE:\"P1P1\",MODSTR:\"Row inserted by AMF_BTS_COLOR_PCK.PROCESS_LACK_D.\",LACK_SEND:1,CREATED:new Date(1594771492000),SKID_EXTID:2017,COLOR_ID:885,MODDATE:new Date(1594771492000),SKID_TYPE:\"TC\",RESULT:\"N\"},{SKID_ID:8647,SHUTTLE_NO:\"000\",COLOR_QUANTITY:393,MDS_CURRENT_LOCATION_TEXT:\"Message point processing result BC Robots interior 1 line 2\",ACTIVE:true,PLCIN:\"345001\",BODY_EXTID:\"78202092932028\",BODY_ID:842174,DOCNUM:12058632,COLOR_CODE:\"P1P1\",MODSTR:\"Row inserted by AMF_BTS_COLOR_PCK.PROCESS_LACK_D.\",LACK_SEND:1,CREATED:new Date(1594771494000),SKID_EXTID:2059,COLOR_ID:885,MODDATE:new Date(1594771494000),SKID_TYPE:\"TC\",RESULT:\"F\"},{SKID_ID:3755,SHUTTLE_NO:\"000\",COLOR_QUANTITY:518,MDS_CURRENT_LOCATION_TEXT:\"Message point processing result BC Robots interior 2 line 2\",ACTIVE:true,PLCIN:\"345002\",BODY_EXTID:\"78202092932004\",BODY_ID:842172,DOCNUM:12058633,COLOR_CODE:\"P1P1\",MODSTR:\"Row inserted by AMF_BTS_COLOR_PCK.PROCESS_LACK_D.\",LACK_SEND:1,CREATED:new Date(1594771495000),SKID_EXTID:2149,COLOR_ID:885,MODDATE:new Date(1594771495000),SKID_TYPE:\"TC\",RESULT:\"F\"},{SKID_ID:1110,SHUTTLE_NO:\"   \",COLOR_QUANTITY:0,MDS_CURRENT_LOCATION_TEXT:\"Message point processing result GAD interior Robots line 1\",ACTIVE:true,PLCIN:\"146001\",BODY_EXTID:\"78202092932738\",BODY_ID:842258,DOCNUM:12058634,COLOR_CODE:\"UBS \",MODSTR:\"Row inserted by AMF_BTS_COLOR_PCK.PROCESS_LACK_D.\",LACK_SEND:3,CREATED:new Date(1594771501000),SKID_EXTID:2332,COLOR_ID:882,MODDATE:new Date(1594771501000),SKID_TYPE:\"TC\",RESULT:\"N\"},{SKID_ID:13025,SHUTTLE_NO:\"000\",COLOR_QUANTITY:1071,MDS_CURRENT_LOCATION_TEXT:\"Message point processing result BC Robots exterior line 2\",ACTIVE:true,PLCIN:\"346001\",BODY_EXTID:\"78202092931984\",BODY_ID:842170,DOCNUM:12058635,COLOR_CODE:\"P1P1\",MODSTR:\"Row inserted by AMF_BTS_COLOR_PCK.PROCESS_LACK_D.\",LACK_SEND:1,CREATED:new Date(1594771508000),SKID_EXTID:2246,COLOR_ID:885,MODDATE:new Date(1594771508000),SKID_TYPE:\"TC\",RESULT:\"F\"},{SKID_ID:4169,SHUTTLE_NO:\"000\",COLOR_QUANTITY:1108,MDS_CURRENT_LOCATION_TEXT:\"Message point processing result BC Robots exterior line 1\",ACTIVE:true,PLCIN:\"246001\",BODY_EXTID:\"78202092932202\",BODY_ID:842192,DOCNUM:12058636,COLOR_CODE:\"P1P1\",MODSTR:\"Row inserted by AMF_BTS_COLOR_PCK.PROCESS_LACK_D.\",LACK_SEND:1,CREATED:new Date(1594771510000),SKID_EXTID:2477,COLOR_ID:885,MODDATE:new Date(1594771510000),SKID_TYPE:\"TC\",RESULT:\"F\"}],endRow:76,invalidateCache:false,isDSResponse:true,operationType:\"fetch\",queueStatus:0,startRow:0,status:0,totalRows:95}]//isc_RPCResponseEnd'"
      ]
     },
     "execution_count": 403,
     "metadata": {},
     "output_type": "execute_result"
    }
   ],
   "source": [
    "res.text"
   ]
  },
  {
   "cell_type": "code",
   "execution_count": 394,
   "metadata": {},
   "outputs": [
    {
     "name": "stdout",
     "output_type": "stream",
     "text": [
      "{'JSESSIONID': 'NMvK-UUn-vuFtixCV2wsOq7P7dEq769kE6PaA9V4.svw-c2sn02001', 'isc_cState': 'ready', 'EMES_SSO': 'YjYyODY3YmItOWYzNC00M2M3LTgxZDItNTk3Y2JkZDk4YmEy'}\n"
     ]
    }
   ],
   "source": [
    "PIN = \"78202093616224\"\n",
    "transaction = xml_to_dict(str_to_xml(formdata.split(\"&\")[1]).split(\"=\",1)[1])\n",
    "transaction=get_bodytracking_info_byPIN(transaction,PIN = PIN)#,Location=Location\n",
    "form_data={\n",
    "    'isc_tnum': 9,#不确定用途，好像这个值无所谓\n",
    "    '_transaction':transaction, #,xml_to_str(dict_to_xml(transaction))\n",
    "    'protocolVersion': '1.0'\n",
    "}\n",
    "res=Getdata(bodytracking_url,form_data)"
   ]
  },
  {
   "cell_type": "code",
   "execution_count": 395,
   "metadata": {
    "scrolled": false
   },
   "outputs": [
    {
     "data": {
      "text/plain": [
       "'//isc_RPCResponseStart-->[{affectedRows:0,data:[{BODY_EXTID:\"78202093616224\",PLCIN:\"449610\",DEST_PLC:\"......\",DOCNUM:49319513,NAME:\"L800 - Exit Paint Shop - TPS Scanner\",SHIFT:\"Night Shift\",CREATED:new Date(1598877860576),BODY_TYPE2:\"S\",SKID_EXTID:5012,SKID_TYPE:\"DB\",BODY_COUNT_TC:\"01\",BODY_TYPE:\"W\",BODY_COLOR:\"P1P1\"},{BODY_EXTID:\"78202093616224\",PLCIN:\"450130\",DEST_PLC:\"......\",DOCNUM:49318999,NAME:\"Handover from Wax hanger to Assembly Shop skid line 2\",SHIFT:\"Night Shift\",CREATED:new Date(1598877357405),BODY_TYPE2:\"S\",SKID_EXTID:5,SKID_TYPE:\"WX\",BODY_COUNT_TC:\"01\",BODY_TYPE:\"W\",BODY_COLOR:\"P1P1\"},{BODY_EXTID:\"78202093616224\",PLCIN:\"450080\",DEST_PLC:\"......\",DOCNUM:49318622,NAME:\"Wax flooding station line 2\",SHIFT:\"Night Shift\",CREATED:new Date(1598877004813),BODY_TYPE2:\"S\",SKID_EXTID:5,SKID_TYPE:\"WX\",BODY_COUNT_TC:\"01\",BODY_TYPE:\"W\",BODY_COLOR:\"P1P1\"},{BODY_EXTID:\"78202093616224\",PLCIN:\"450070\",DEST_PLC:\"......\",DOCNUM:49318546,NAME:\"Wax flooding station spare line 2\",SHIFT:\"Night Shift\",CREATED:new Date(1598876925695),BODY_TYPE2:\"S\",SKID_EXTID:5,SKID_TYPE:\"WX\",BODY_COUNT_TC:\"01\",BODY_TYPE:\"W\",BODY_COLOR:\"P1P1\"},{BODY_EXTID:\"78202093616224\",PLCIN:\"450020\",DEST_PLC:\"......\",DOCNUM:49318273,NAME:\"L500 - Take over from TC skid to Wax hanger line 2\",SHIFT:\"Night Shift\",CREATED:new Date(1598876639901),BODY_TYPE2:\"S\",SKID_EXTID:5,SKID_TYPE:\"WX\",BODY_COUNT_TC:\"01\",BODY_TYPE:\"W\",BODY_COLOR:\"P1P1\"},{BODY_EXTID:\"78202093616224\",PLCIN:\"290380\",DEST_PLC:\"290380\",DOCNUM:49318213,NAME:\"Handover from TC skid to Wax hanger line 2\",SHIFT:\"Night Shift\",CREATED:new Date(1598876585580),BODY_TYPE2:\"S\",SKID_EXTID:2075,SKID_TYPE:\"TC\",BODY_COUNT_TC:\"01\",BODY_TYPE:\"W\",BODY_COLOR:\"P1P1\"},{BODY_EXTID:\"78202093616224\",PLCIN:\"290290\",DEST_PLC:\"290380\",DOCNUM:49318155,NAME:\"Target decision Taxi car line 2 -> take out before Wax\",SHIFT:\"Night Shift\",CREATED:new Date(1598876526840),BODY_TYPE2:\"S\",SKID_EXTID:2075,SKID_TYPE:\"TC\",BODY_COUNT_TC:\"01\",BODY_TYPE:\"W\",BODY_COLOR:\"P1P1\"},{BODY_EXTID:\"78202093616224\",PLCIN:\"290220\",DEST_PLC:\"290380\",DOCNUM:49318077,NAME:\"Target decision Wax line 1 or 2\",SHIFT:\"Night Shift\",CREATED:new Date(1598876449395),BODY_TYPE2:\"S\",SKID_EXTID:2075,SKID_TYPE:\"TC\",BODY_COUNT_TC:\"01\",BODY_TYPE:\"W\",BODY_COLOR:\"P1P1\"},{BODY_EXTID:\"78202093616224\",PLCIN:\"293120\",DEST_PLC:\"290220\",DOCNUM:49317026,NAME:\"Exit finishing line 1.1, target decision\",SHIFT:\"Night Shift\",CREATED:new Date(1598875367218),BODY_TYPE2:\"S\",SKID_EXTID:2075,SKID_TYPE:\"TC\",BODY_COUNT_TC:\"01\",BODY_TYPE:\"W\",BODY_COLOR:\"P1P1\"},{BODY_EXTID:\"78202093616224\",PLCIN:\"293030\",DEST_PLC:\"292090\",DOCNUM:49315887,NAME:\"Entry finishing line 1.1\",SHIFT:\"Night Shift\",CREATED:new Date(1598874206411),BODY_TYPE2:\"S\",SKID_EXTID:2075,SKID_TYPE:\"TC\",BODY_COUNT_TC:\"01\",BODY_TYPE:\"W\",BODY_COLOR:\"P1P1\"},{BODY_EXTID:\"78202093616224\",PLCIN:\"292150\",DEST_PLC:\"292090\",DOCNUM:49313276,NAME:\"Paint Quality checker station line 1\",SHIFT:\"Night Shift\",CREATED:new Date(1598871206547),BODY_TYPE2:\"S\",SKID_EXTID:2075,SKID_TYPE:\"TC\",BODY_COUNT_TC:\"01\",BODY_TYPE:\"W\",BODY_COLOR:\"P1P1\"},{BODY_EXTID:\"78202093616224\",PLCIN:\"292090\",DEST_PLC:\"292090\",DOCNUM:49313168,NAME:\"Exit TC oven line 1, control place\",SHIFT:\"Night Shift\",CREATED:new Date(1598871028316),BODY_TYPE2:\"S\",SKID_EXTID:2075,SKID_TYPE:\"TC\",BODY_COUNT_TC:\"01\",BODY_TYPE:\"W\",BODY_COLOR:\"P1P1\"},{BODY_EXTID:\"78202093616224\",PLCIN:\"255001\",DEST_PLC:\"292090\",DOCNUM:49311356,NAME:\"Message point processing result CC Robots exterior line 1\",SHIFT:\"Night Shift\",CREATED:new Date(1598868607169),BODY_TYPE2:\"S\",SKID_EXTID:2075,SKID_TYPE:\"TC\",BODY_COUNT_TC:\"00\",BODY_TYPE:\"W\",BODY_COLOR:\"P1P1\"},{BODY_EXTID:\"78202093616224\",PLCIN:\"254002\",DEST_PLC:\"292090\",DOCNUM:49311223,NAME:\"Message point processing result CC Robots interior 2 line 1\",SHIFT:\"Night Shift\",CREATED:new Date(1598868476933),BODY_TYPE2:\"S\",SKID_EXTID:2075,SKID_TYPE:\"TC\",BODY_COUNT_TC:\"00\",BODY_TYPE:\"W\",BODY_COLOR:\"P1P1\"},{BODY_EXTID:\"78202093616224\",PLCIN:\"254001\",DEST_PLC:\"292090\",DOCNUM:49311110,NAME:\"Message point processing result CC Robots interior 1 line 1\",SHIFT:\"Night Shift\",CREATED:new Date(1598868368973),BODY_TYPE2:\"S\",SKID_EXTID:2075,SKID_TYPE:\"TC\",BODY_COUNT_TC:\"00\",BODY_TYPE:\"W\",BODY_COLOR:\"P1P1\"},{BODY_EXTID:\"78202093616224\",PLCIN:\"246002\",DEST_PLC:\"292090\",DOCNUM:49309648,NAME:\"Message point processing result BC Robots Spraymate line 1\",SHIFT:\"Night Shift\",CREATED:new Date(1598866911344),BODY_TYPE2:\"S\",SKID_EXTID:2075,SKID_TYPE:\"TC\",BODY_COUNT_TC:\"00\",BODY_TYPE:\"W\",BODY_COLOR:\"P1P1\"},{BODY_EXTID:\"78202093616224\",PLCIN:\"246001\",DEST_PLC:\"292090\",DOCNUM:49309489,NAME:\"Message point processing result BC Robots exterior line 1\",SHIFT:\"Night Shift\",CREATED:new Date(1598866757976),BODY_TYPE2:\"S\",SKID_EXTID:2075,SKID_TYPE:\"TC\",BODY_COUNT_TC:\"00\",BODY_TYPE:\"W\",BODY_COLOR:\"P1P1\"},{BODY_EXTID:\"78202093616224\",PLCIN:\"245002\",DEST_PLC:\"292090\",DOCNUM:49309431,NAME:\"Message point processing result BC Robots interior 2 line 1\",SHIFT:\"Night Shift\",CREATED:new Date(1598866707567),BODY_TYPE2:\"S\",SKID_EXTID:2075,SKID_TYPE:\"TC\",BODY_COUNT_TC:\"00\",BODY_TYPE:\"W\",BODY_COLOR:\"P1P1\"},{BODY_EXTID:\"78202093616224\",PLCIN:\"245001\",DEST_PLC:\"292090\",DOCNUM:49309317,NAME:\"Message point processing result BC Robots interior 1 line 1\",SHIFT:\"Night Shift\",CREATED:new Date(1598866603192),BODY_TYPE2:\"S\",SKID_EXTID:2075,SKID_TYPE:\"TC\",BODY_COUNT_TC:\"00\",BODY_TYPE:\"W\",BODY_COLOR:\"P1P1\"},{BODY_EXTID:\"78202093616224\",PLCIN:\"244001\",DEST_PLC:\"292090\",DOCNUM:49309179,NAME:\"Message point processing result pre- paint Robots line 1\",SHIFT:\"Night Shift\",CREATED:new Date(1598866465689),BODY_TYPE2:\"S\",SKID_EXTID:2075,SKID_TYPE:\"TC\",BODY_COUNT_TC:\"00\",BODY_TYPE:\"W\",BODY_COLOR:\"P1P1\"},{BODY_EXTID:\"78202093616224\",PLCIN:\"243270\",DEST_PLC:\"292090\",DOCNUM:49308935,NAME:\"L400 - Entry TC booth line 1\",SHIFT:\"Night Shift\",CREATED:new Date(1598866201304),BODY_TYPE2:\"S\",SKID_EXTID:2075,SKID_TYPE:\"TC\",BODY_COUNT_TC:\"00\",BODY_TYPE:\"W\",BODY_COLOR:\"P1P1\"},{BODY_EXTID:\"78202093616224\",PLCIN:\"291190\",DEST_PLC:\"292090\",DOCNUM:49308705,NAME:\"Target decision take out after TC preparation line 1\",SHIFT:\"Night Shift\",CREATED:new Date(1598865957914),BODY_TYPE2:\"S\",SKID_EXTID:2075,SKID_TYPE:\"TC\",BODY_COUNT_TC:\"00\",BODY_TYPE:\"W\",BODY_COLOR:\"P1P1\"},{BODY_EXTID:\"78202093616224\",PLCIN:\"291080\",DEST_PLC:\"292090\",DOCNUM:49308665,NAME:\"Exit TC preparation line 1, target decision\",SHIFT:\"Night Shift\",CREATED:new Date(1598865917286),BODY_TYPE2:\"S\",SKID_EXTID:2075,SKID_TYPE:\"TC\",BODY_COUNT_TC:\"00\",BODY_TYPE:\"W\",BODY_COLOR:\"P1P1\"},{BODY_EXTID:\"78202093616224\",PLCIN:\"197650\",DEST_PLC:\"391030\",DOCNUM:49308096,NAME:\"Target decision TC line 1 or 2\",SHIFT:\"Night Shift\",CREATED:new Date(1598865295996),BODY_TYPE2:\"S\",SKID_EXTID:2075,SKID_TYPE:\"TC\",BODY_COUNT_TC:\"00\",BODY_TYPE:\"W\",BODY_COLOR:\"P1P1\"},{BODY_EXTID:\"78202093616224\",PLCIN:\"197580\",DEST_PLC:\"197180\",DOCNUM:49308012,NAME:\"PVC Exit from 9m to 4.5m\",SHIFT:\"Night Shift\",CREATED:new Date(1598865206627),BODY_TYPE2:\"S\",SKID_EXTID:2075,SKID_TYPE:\"TC\",BODY_COUNT_TC:\"00\",BODY_TYPE:\"W\",BODY_COLOR:\"P1P1\"},{BODY_EXTID:\"78202093616224\",PLCIN:\"197180\",DEST_PLC:\"197180\",DOCNUM:49307149,NAME:\"Exit PVC Oven, target decision PVC audit\",SHIFT:\"Night Shift\",CREATED:new Date(1598864269855),BODY_TYPE2:\"S\",SKID_EXTID:2075,SKID_TYPE:\"TC\",BODY_COUNT_TC:\"00\",BODY_TYPE:\"W\",BODY_COLOR:\"P1P1\"},{BODY_EXTID:\"78202093616224\",PLCIN:\"195820\",DEST_PLC:\"197180\",DOCNUM:49306037,NAME:\"Rocker panel Robots\",SHIFT:\"Night Shift\",CREATED:new Date(1598863076608),BODY_TYPE2:\"S\",SKID_EXTID:2075,SKID_TYPE:\"TC\",BODY_COUNT_TC:\"00\",BODY_TYPE:\"W\",BODY_COLOR:\"P1P1\"},{BODY_EXTID:\"78202093616224\",PLCIN:\"196740\",DEST_PLC:\"197180\",DOCNUM:49305897,NAME:\"Exit GAD / FAD line 2, target decision\",SHIFT:\"Night Shift\",CREATED:new Date(1598862910545),BODY_TYPE2:\"S\",SKID_EXTID:2075,SKID_TYPE:\"TC\",BODY_COUNT_TC:\"00\",BODY_TYPE:\"W\",BODY_COLOR:\"P1P1\"},{BODY_EXTID:\"78202093616224\",PLCIN:\"156001\",DEST_PLC:\"......\",DOCNUM:49304745,NAME:\"Message point processing result GAD interior Robots line 2\",SHIFT:\"Morning Shift\",CREATED:new Date(1598861234783),BODY_TYPE2:\"S\",SKID_EXTID:2075,SKID_TYPE:\"TC\",BODY_COUNT_TC:\"00\",BODY_TYPE:\"W\",BODY_COLOR:\"P1P1\"},{BODY_EXTID:\"78202093616224\",PLCIN:\"156620\",DEST_PLC:\"......\",DOCNUM:49304630,NAME:\"GAD interior Robots line 2\",SHIFT:\"Morning Shift\",CREATED:new Date(1598861120813),BODY_TYPE2:\"S\",SKID_EXTID:2075,SKID_TYPE:\"TC\",BODY_COUNT_TC:\"00\",BODY_TYPE:\"W\",BODY_COLOR:\"P1P1\"},{BODY_EXTID:\"78202093616224\",PLCIN:\"196600\",DEST_PLC:\"......\",DOCNUM:49304602,NAME:\"L300 - Entry GAD / FAD line 2\",SHIFT:\"Morning Shift\",CREATED:new Date(1598861094157),BODY_TYPE2:\"S\",SKID_EXTID:2075,SKID_TYPE:\"TC\",BODY_COUNT_TC:\"00\",BODY_TYPE:\"W\",BODY_COLOR:\"P1P1\"},{BODY_EXTID:\"78202093616224\",PLCIN:\"196290\",DEST_PLC:\"......\",DOCNUM:49304570,NAME:\"Handover from PVC hanger to TC skid line 2\",SHIFT:\"Morning Shift\",CREATED:new Date(1598861061861),BODY_TYPE2:\"S\",SKID_EXTID:3,SKID_TYPE:\"PV\",BODY_COUNT_TC:\"00\",BODY_TYPE:\"W\",BODY_COLOR:\"P1P1\"},{BODY_EXTID:\"78202093616224\",PLCIN:\"155002\",DEST_PLC:\"......\",DOCNUM:49304306,NAME:\"Message point processing result UBS Robots exterior line 2\",SHIFT:\"Morning Shift\",CREATED:new Date(1598860801542),BODY_TYPE2:\"S\",SKID_EXTID:3,SKID_TYPE:\"PV\",BODY_COUNT_TC:\"00\",BODY_TYPE:\"W\",BODY_COLOR:\"P1P1\"},{BODY_EXTID:\"78202093616224\",PLCIN:\"155001\",DEST_PLC:\"......\",DOCNUM:49304180,NAME:\"Message point processing result GAD Robots exterior line 2\",SHIFT:\"Morning Shift\",CREATED:new Date(1598860669837),BODY_TYPE2:\"S\",SKID_EXTID:3,SKID_TYPE:\"PV\",BODY_COUNT_TC:\"00\",BODY_TYPE:\"W\",BODY_COLOR:\"P1P1\"},{BODY_EXTID:\"78202093616224\",PLCIN:\"155220\",DEST_PLC:\"......\",DOCNUM:49304027,NAME:\"GAD / UBS aussen Roboter Linie 2\",SHIFT:\"Morning Shift\",CREATED:new Date(1598860526765),BODY_TYPE2:\"S\",SKID_EXTID:3,SKID_TYPE:\"PV\",BODY_COUNT_TC:\"00\",BODY_TYPE:\"W\",BODY_COLOR:\"P1P1\"},{BODY_EXTID:\"78202093616224\",PLCIN:\"196150\",DEST_PLC:\"......\",DOCNUM:49303688,NAME:\"Takeover from EC skid to PVC hanger line 2\",SHIFT:\"Morning Shift\",CREATED:new Date(1598860204974),BODY_TYPE2:\"S\",SKID_EXTID:3,SKID_TYPE:\"PV\",BODY_COUNT_TC:\"00\",BODY_TYPE:\"W\",BODY_COLOR:\"P1P1\"},{BODY_EXTID:\"78202093616224\",PLCIN:\"196140\",DEST_PLC:\"196140\",DOCNUM:49303676,NAME:\"L200 - Handover from EC skid to PVC hanger line 2\",SHIFT:\"Morning Shift\",CREATED:new Date(1598860198413),BODY_TYPE2:\"S\",SKID_EXTID:177,SKID_TYPE:\"EC\",BODY_COUNT_TC:\"00\",BODY_TYPE:\"W\",BODY_COLOR:\"P1P1\"},{BODY_EXTID:\"78202093616224\",PLCIN:\"196110\",DEST_PLC:\"196140\",DOCNUM:49303509,NAME:\"Exit body shop control line 2, target descision\",SHIFT:\"Morning Shift\",CREATED:new Date(1598860036629),BODY_TYPE2:\"S\",SKID_EXTID:177,SKID_TYPE:\"EC\",BODY_COUNT_TC:\"00\",BODY_TYPE:\"W\",BODY_COLOR:\"P1P1\"},{BODY_EXTID:\"78202093616224\",PLCIN:\"372902\",DEST_PLC:\"195110\",DOCNUM:49302796,NAME:\"Entry FAD line 2 - result seam sealing check\",SHIFT:\"Morning Shift\",CREATED:new Date(1598859370161),BODY_TYPE2:\"S\",SKID_EXTID:177,SKID_TYPE:\"EC\",BODY_COUNT_TC:\"00\",BODY_TYPE:\"W\",BODY_COLOR:\"P1P1\"},{BODY_EXTID:\"78202093616224\",PLCIN:\"372001\",DEST_PLC:\"195110\",DOCNUM:49302706,NAME:\"Message point processing result seam sealing check Robot\",SHIFT:\"Morning Shift\",CREATED:new Date(1598859280422),BODY_TYPE2:\"S\",SKID_EXTID:177,SKID_TYPE:\"EC\",BODY_COUNT_TC:\"00\",BODY_TYPE:\"W\",BODY_COLOR:\"P1P1\"},{BODY_EXTID:\"78202093616224\",PLCIN:\"192720\",DEST_PLC:\"195110\",DOCNUM:49302672,NAME:\"Target decision PVC line 1 or 2, target decision take out\",SHIFT:\"Morning Shift\",CREATED:new Date(1598859246588),BODY_TYPE2:\"S\",SKID_EXTID:177,SKID_TYPE:\"EC\",BODY_COUNT_TC:\"00\",BODY_TYPE:\"W\",BODY_COLOR:\"P1P1\"},{BODY_EXTID:\"78202093616224\",PLCIN:\"372710\",DEST_PLC:\"192390\",DOCNUM:49302637,NAME:\"Seam sealing check Robot\",SHIFT:\"Morning Shift\",CREATED:new Date(1598859215996),BODY_TYPE2:\"S\",SKID_EXTID:177,SKID_TYPE:\"EC\",BODY_COUNT_TC:\"00\",BODY_TYPE:\"W\",BODY_COLOR:\"P1P1\"},{BODY_EXTID:\"78202093616224\",PLCIN:\"192390\",DEST_PLC:\"192390\",DOCNUM:49299985,NAME:\"Exit ED oven\",SHIFT:\"Morning Shift\",CREATED:new Date(1598856627191),BODY_TYPE2:\"S\",SKID_EXTID:177,SKID_TYPE:\"EC\",BODY_COUNT_TC:\"00\",BODY_TYPE:\"W\",BODY_COLOR:\"P1P1\"},{BODY_EXTID:\"78202093616224\",PLCIN:\"192240\",DEST_PLC:\"192390\",DOCNUM:49297248,NAME:\"Entrance ED oven line 1\",SHIFT:\"Morning Shift\",CREATED:new Date(1598853804813),BODY_TYPE2:\"S\",SKID_EXTID:177,SKID_TYPE:\"EC\",BODY_COUNT_TC:\"00\",BODY_TYPE:\"W\",BODY_COLOR:\"P1P1\"},{BODY_EXTID:\"78202093616224\",PLCIN:\"125001\",DEST_PLC:\"192390\",DOCNUM:49296260,NAME:\"Message point processing result ED\",SHIFT:\"Morning Shift\",CREATED:new Date(1598852808268),BODY_TYPE2:\"S\",SKID_EXTID:177,SKID_TYPE:\"EC\",BODY_COUNT_TC:\"00\",BODY_TYPE:\"W\",BODY_COLOR:\"P1P1\"},{BODY_EXTID:\"78202093616224\",PLCIN:\"112400\",DEST_PLC:\"192390\",DOCNUM:49295835,NAME:\"Handover to E-Shuttle ED - type check\",SHIFT:\"Morning Shift\",CREATED:new Date(1598852391220),BODY_TYPE2:\"S\",SKID_EXTID:177,SKID_TYPE:\"EC\",BODY_COUNT_TC:\"00\",BODY_TYPE:\"W\",BODY_COLOR:\"P1P1\"},{BODY_EXTID:\"78202093616224\",PLCIN:\"112360\",DEST_PLC:\"192390\",DOCNUM:49295798,NAME:\"Target decision to PT Audit / Handover to E-Shuttle ED\",SHIFT:\"Morning Shift\",CREATED:new Date(1598852359253),BODY_TYPE2:\"S\",SKID_EXTID:177,SKID_TYPE:\"EC\",BODY_COUNT_TC:\"00\",BODY_TYPE:\"W\",BODY_COLOR:\"P1P1\"},{BODY_EXTID:\"78202093616224\",PLCIN:\"112010\",DEST_PLC:\"......\",DOCNUM:49294314,NAME:\"Handover to E-Shuttle PT - type check\",SHIFT:\"Morning Shift\",CREATED:new Date(1598850875198),BODY_TYPE2:\"S\",SKID_EXTID:177,SKID_TYPE:\"EC\",BODY_COUNT_TC:\"00\",BODY_TYPE:\"W\",BODY_COLOR:\"P1P1\"},{BODY_EXTID:\"78202093616224\",PLCIN:\"191350\",DEST_PLC:\"......\",DOCNUM:49294285,NAME:\"Handover to E-Shuttle PT\",SHIFT:\"Morning Shift\",CREATED:new Date(1598850837530),BODY_TYPE2:\"S\",SKID_EXTID:177,SKID_TYPE:\"EC\",BODY_COUNT_TC:\"00\",BODY_TYPE:\"W\",BODY_COLOR:\"P1P1\"},{BODY_EXTID:\"78202093616224\",PLCIN:\"191320\",DEST_PLC:\"......\",DOCNUM:49294150,NAME:\"Body Locking before PT\",SHIFT:\"Morning Shift\",CREATED:new Date(1598850708393),BODY_TYPE2:\"S\",SKID_EXTID:177,SKID_TYPE:\"EC\",BODY_COUNT_TC:\"00\",BODY_TYPE:\"W\",BODY_COLOR:\"P1P1\"},{BODY_EXTID:\"78202093616224\",PLCIN:\"191290\",DEST_PLC:\"......\",DOCNUM:49294037,NAME:\"L100 - Paint Shop entry\",SHIFT:\"Morning Shift\",CREATED:new Date(1598850591814),BODY_TYPE2:\"S\",SKID_EXTID:177,SKID_TYPE:\"EC\",BODY_COUNT_TC:\"00\",BODY_TYPE:\"W\",BODY_COLOR:\"P1P1\"}],endRow:51,invalidateCache:false,isDSResponse:true,operationType:\"fetch\",queueStatus:0,startRow:0,status:0,totalRows:51}]//isc_RPCResponseEnd'"
      ]
     },
     "execution_count": 395,
     "metadata": {},
     "output_type": "execute_result"
    }
   ],
   "source": [
    "res.text"
   ]
  },
  {
   "cell_type": "code",
   "execution_count": null,
   "metadata": {
    "collapsed": true
   },
   "outputs": [],
   "source": []
  },
  {
   "cell_type": "code",
   "execution_count": null,
   "metadata": {
    "collapsed": true
   },
   "outputs": [],
   "source": []
  },
  {
   "cell_type": "code",
   "execution_count": null,
   "metadata": {
    "collapsed": true
   },
   "outputs": [],
   "source": []
  },
  {
   "cell_type": "markdown",
   "metadata": {
    "scrolled": true
   },
   "source": [
    "# Paint log"
   ]
  },
  {
   "cell_type": "code",
   "execution_count": 397,
   "metadata": {
    "collapsed": true
   },
   "outputs": [],
   "source": [
    "paintlog_url=\"http://172.30.1.95/webgui.amf.war/EMES/sc/IDACall?isc_rpc=1&isc_v=v9.1p_2015-02-24&isc_xhr=1\"\n",
    "formdata=\"isc_tnum=25&_transaction=%3Ctransaction%20xmlns%3Axsi%3D%22http%3A%2F%2Fwww.w3.org%2F2000%2F10%2FXMLSchema-instance%22%20xsi%3Atype%3D%22xsd%3AObject%22%3E%3CtransactionNum%20xsi%3Atype%3D%22xsd%3Along%22%3E25%3C%2FtransactionNum%3E%3Coperations%20xsi%3Atype%3D%22xsd%3AList%22%3E%3Celem%20xsi%3Atype%3D%22xsd%3AObject%22%3E%3Ccriteria%20xsi%3Atype%3D%22xsd%3AObject%22%3E%3Coperator%3Eand%3C%2Foperator%3E%3C_constructor%3EAdvancedCriteria%3C%2F_constructor%3E%3Ccriteria%20xsi%3Atype%3D%22xsd%3AList%22%3E%3Celem%20xsi%3Atype%3D%22xsd%3AObject%22%3E%3CfieldName%3EBODY_EXTID%3C%2FfieldName%3E%3Coperator%3EiContainsPattern%3C%2Foperator%3E%3Cvalue%3E78202093616224%3C%2Fvalue%3E%3C%2Felem%3E%3Celem%20xsi%3Atype%3D%22xsd%3AObject%22%3E%3CfieldName%3EMDS_CURRENT_LOCATION_TEXT%3C%2FfieldName%3E%3Coperator%3EinSet%3C%2Foperator%3E%3Cvalue%20xsi%3Atype%3D%22xsd%3AList%22%3E%3Celem%3EHandover%20to%20E-Shuttle%20PT%20-%20type%20check%3C%2Felem%3E%3Celem%3EMessage%20point%20processing%20result%20ED%3C%2Felem%3E%3C%2Fvalue%3E%3C%2Felem%3E%3Celem%20xsi%3Atype%3D%22xsd%3AObject%22%3E%3CfieldName%3ECREATED%3C%2FfieldName%3E%3Coperator%3EgreaterOrEqual%3C%2Foperator%3E%3Cvalue%20xsi%3Atype%3D%22xsd%3Adatetime%22%3E2020-08-24T16%3A00%3A00.000%3C%2Fvalue%3E%3C%2Felem%3E%3Celem%20xsi%3Atype%3D%22xsd%3AObject%22%3E%3CfieldName%3ECREATED%3C%2FfieldName%3E%3Coperator%3ElessOrEqual%3C%2Foperator%3E%3Cvalue%20xsi%3Atype%3D%22xsd%3Adatetime%22%3E2020-09-08T15%3A59%3A00.000%3C%2Fvalue%3E%3C%2Felem%3E%3C%2Fcriteria%3E%3C%2Fcriteria%3E%3CoperationConfig%20xsi%3Atype%3D%22xsd%3AObject%22%3E%3CdataSource%3Eamf_bts_paint_log_book%3C%2FdataSource%3E%3Crepo%20xsi%3Anil%3D%22true%22%2F%3E%3CoperationType%3Efetch%3C%2FoperationType%3E%3CtextMatchStyle%3Eexact%3C%2FtextMatchStyle%3E%3C%2FoperationConfig%3E%3CstartRow%20xsi%3Atype%3D%22xsd%3Along%22%3E0%3C%2FstartRow%3E%3CendRow%20xsi%3Atype%3D%22xsd%3Along%22%3E75%3C%2FendRow%3E%3CsortBy%20xsi%3Atype%3D%22xsd%3AList%22%3E%3Celem%3ECREATED%3C%2Felem%3E%3C%2FsortBy%3E%3CappID%3EbuiltinApplication%3C%2FappID%3E%3Coperation%3Eamf_bts_paint_log_book_fetch%3C%2Foperation%3E%3ColdValues%20xsi%3Atype%3D%22xsd%3AObject%22%3E%3Coperator%3Eand%3C%2Foperator%3E%3C_constructor%3EAdvancedCriteria%3C%2F_constructor%3E%3Ccriteria%20xsi%3Atype%3D%22xsd%3AList%22%3E%3Celem%20xsi%3Atype%3D%22xsd%3AObject%22%3E%3CfieldName%3EBODY_EXTID%3C%2FfieldName%3E%3Coperator%3EiContainsPattern%3C%2Foperator%3E%3Cvalue%3E78202093616224%3C%2Fvalue%3E%3C%2Felem%3E%3Celem%20xsi%3Atype%3D%22xsd%3AObject%22%3E%3CfieldName%3EMDS_CURRENT_LOCATION_TEXT%3C%2FfieldName%3E%3Coperator%3EinSet%3C%2Foperator%3E%3Cvalue%20xsi%3Atype%3D%22xsd%3AList%22%3E%3Celem%3EHandover%20to%20E-Shuttle%20PT%20-%20type%20check%3C%2Felem%3E%3Celem%3EMessage%20point%20processing%20result%20ED%3C%2Felem%3E%3C%2Fvalue%3E%3C%2Felem%3E%3Celem%20xsi%3Atype%3D%22xsd%3AObject%22%3E%3CfieldName%3ECREATED%3C%2FfieldName%3E%3Coperator%3EgreaterOrEqual%3C%2Foperator%3E%3Cvalue%20xsi%3Atype%3D%22xsd%3Adatetime%22%3E2020-08-24T16%3A00%3A00.000%3C%2Fvalue%3E%3C%2Felem%3E%3Celem%20xsi%3Atype%3D%22xsd%3AObject%22%3E%3CfieldName%3ECREATED%3C%2FfieldName%3E%3Coperator%3ElessOrEqual%3C%2Foperator%3E%3Cvalue%20xsi%3Atype%3D%22xsd%3Adatetime%22%3E2020-09-08T15%3A59%3A00.000%3C%2Fvalue%3E%3C%2Felem%3E%3C%2Fcriteria%3E%3C%2FoldValues%3E%3C%2Felem%3E%3C%2Foperations%3E%3C%2Ftransaction%3E&protocolVersion=1.0\"\n",
    "def get_paintlog_byPIN(transaction,PIN=PIN,Location=None):\n",
    "    '''获取指定FIS号的车身过点信息'''\n",
    "    a = transaction['transaction']['operations'][\"elem\"][\"criteria\"][\"criteria\"][\"elem\"]\n",
    "    a.pop()\n",
    "    a.pop()\n",
    "    if not Location:\n",
    "        a.pop()\n",
    "        a[0]['value']=PIN\n",
    "    else:\n",
    "        a[0]['value']=PIN\n",
    "        a[1]['value']['elem']=Location\n",
    "    print(a)\n",
    "    return xml_to_str(dict_to_xml(transaction))\n",
    "        \n",
    "def modify_paintlog_params(transaction,PIN=None,Location=None,Start=None,End=None):\n",
    "    a=transaction['transaction']['operations'][\"elem\"][\"criteria\"][\"criteria\"][\"elem\"]\n",
    "    b = {}\n",
    "    for k,v in zip([\"PIN\",\"Location\",\"Start\",\"End\"],a):\n",
    "        b[k]=v\n",
    "    try:\n",
    "        if PIN and a[0][\"fieldName\"]== 'BODY_EXTID' and a[0][\"operator\"]== 'iContainsPattern':\n",
    "            b[\"PIN\"]['value']=PIN\n",
    "        else:\n",
    "            del b[\"PIN\"]\n",
    "            \n",
    "        if Location and a[1][\"fieldName\"]== 'MDS_CURRENT_LOCATION_TEXT' and a[1][\"operator\"]== 'inSet':\n",
    "            if len(Location)==1:\n",
    "                b[\"Location\"]['value']=Location\n",
    "            else:\n",
    "                b[\"Location\"]['value']['elem']=Location\n",
    "        else:\n",
    "            del b[\"Location\"]\n",
    "            \n",
    "        if Start:\n",
    "            b[\"Start\"]['value']['#text']=Start\n",
    "        else:\n",
    "            del b[\"Start\"]\n",
    "            \n",
    "        if End:\n",
    "            b[\"End\"]['value']['#text']=End\n",
    "        else:\n",
    "            del b[\"End\"]\n",
    "        transaction['transaction']['operations'][\"elem\"][\"criteria\"][\"criteria\"][\"elem\"]=list(b.values())\n",
    "    except:\n",
    "        print(\"Parameters not found, modify fail!\")\n",
    "    return xml_to_str(dict_to_xml(transaction))"
   ]
  },
  {
   "cell_type": "code",
   "execution_count": 398,
   "metadata": {},
   "outputs": [
    {
     "name": "stdout",
     "output_type": "stream",
     "text": [
      "[{'@xsi:type': 'xsd:Object', 'fieldName': 'BODY_EXTID', 'operator': 'iContainsPattern', 'value': '78202093616224'}, {'@xsi:type': 'xsd:Object', 'fieldName': 'MDS_CURRENT_LOCATION_TEXT', 'operator': 'inSet', 'value': {'@xsi:type': 'xsd:List', 'elem': ['244001 - Message point processing result pre- paint Robots line 1', 'Message point processing result ED']}}]\n",
      "{'JSESSIONID': 'NMvK-UUn-vuFtixCV2wsOq7P7dEq769kE6PaA9V4.svw-c2sn02001', 'isc_cState': 'ready', 'EMES_SSO': 'YjYyODY3YmItOWYzNC00M2M3LTgxZDItNTk3Y2JkZDk4YmEy'}\n"
     ]
    }
   ],
   "source": [
    "BODY_EXTID = '78202093616224'#\"\"78202092811897\n",
    "Location = ['244001 - Message point processing result pre- paint Robots line 1','Message point processing result ED']#可以为1个或多个\n",
    "Start = '2020-09-08T00:00:00.000'\n",
    "End = '2020-09-10T00:00:00.000'\n",
    "transaction = xml_to_dict(str_to_xml(formdata.split(\"&\")[1]).split(\"=\",1)[1])\n",
    "# transaction=modify_paintlog_params(transaction,PIN=None,Location=Location,Start=Start,End=End)\n",
    "transaction=get_paintlog_byPIN(transaction,PIN=BODY_EXTID,Location=Location)#按Fis和Location爬取信息\n",
    "form_data={\n",
    "    'isc_tnum': 25,#不确定用途，好像这个值无所谓\n",
    "    '_transaction': transaction,\n",
    "    'protocolVersion': '1.0'\n",
    "}\n",
    "res=Getdata(paintlog_url,form_data)"
   ]
  },
  {
   "cell_type": "code",
   "execution_count": 399,
   "metadata": {},
   "outputs": [
    {
     "data": {
      "text/plain": [
       "'//isc_RPCResponseStart-->[{affectedRows:0,data:[{SKID_ID:3605,SHUTTLE_NO:\"062\",COLOR_QUANTITY:1619,MDS_CURRENT_LOCATION_TEXT:\"Message point processing result ED\",ACTIVE:true,PLCIN:\"125001\",BODY_EXTID:\"78202093616224\",BODY_ID:878916,DOCNUM:12560557,COLOR_CODE:\"KTL \",MODSTR:\"Row inserted by AMF_BTS_COLOR_PCK.PROCESS_LACK_D.\",LACK_SEND:4,CREATED:new Date(1598852808000),SKID_EXTID:177,COLOR_ID:891,MODDATE:new Date(1598852808000),SKID_TYPE:\"EC\",RESULT:\"O\"}],endRow:1,invalidateCache:false,isDSResponse:true,operationType:\"fetch\",queueStatus:0,startRow:0,status:0,totalRows:1}]//isc_RPCResponseEnd'"
      ]
     },
     "execution_count": 399,
     "metadata": {},
     "output_type": "execute_result"
    }
   ],
   "source": [
    "res.text"
   ]
  },
  {
   "cell_type": "code",
   "execution_count": null,
   "metadata": {
    "collapsed": true
   },
   "outputs": [],
   "source": []
  },
  {
   "cell_type": "code",
   "execution_count": 466,
   "metadata": {
    "collapsed": true
   },
   "outputs": [],
   "source": [
    "if []:\n",
    "    print(1)"
   ]
  },
  {
   "cell_type": "code",
   "execution_count": null,
   "metadata": {
    "collapsed": true
   },
   "outputs": [],
   "source": []
  }
 ],
 "metadata": {
  "kernelspec": {
   "display_name": "Python 3",
   "language": "python",
   "name": "python3"
  },
  "language_info": {
   "codemirror_mode": {
    "name": "ipython",
    "version": 3
   },
   "file_extension": ".py",
   "mimetype": "text/x-python",
   "name": "python",
   "nbconvert_exporter": "python",
   "pygments_lexer": "ipython3",
   "version": "3.6.3"
  }
 },
 "nbformat": 4,
 "nbformat_minor": 2
}
